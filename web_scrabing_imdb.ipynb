{
  "nbformat": 4,
  "nbformat_minor": 0,
  "metadata": {
    "kernelspec": {
      "display_name": "Python 3",
      "language": "python",
      "name": "python3"
    },
    "language_info": {
      "codemirror_mode": {
        "name": "ipython",
        "version": 3
      },
      "file_extension": ".py",
      "mimetype": "text/x-python",
      "name": "python",
      "nbconvert_exporter": "python",
      "pygments_lexer": "ipython3",
      "version": "3.8.5"
    },
    "colab": {
      "name": "web_scrabing_imdb.ipynb",
      "provenance": [],
      "collapsed_sections": [],
      "toc_visible": true
    }
  },
  "cells": [
    {
      "cell_type": "markdown",
      "metadata": {
        "id": "IH_ZatfZR-c1"
      },
      "source": [
        "# Web Scraping"
      ]
    },
    {
      "cell_type": "code",
      "metadata": {
        "id": "a_VFCGYTR-c7"
      },
      "source": [
        "import requests\n",
        "from bs4 import BeautifulSoup\n",
        "import html5lib\n",
        "import pandas as pd\n",
        "import numpy as np"
      ],
      "execution_count": 1,
      "outputs": []
    },
    {
      "cell_type": "code",
      "metadata": {
        "scrolled": true,
        "id": "VSY9iIszR-c9"
      },
      "source": [
        "url=requests.get('https://www.imdb.com/chart/top/')\n",
        "# print(url.text)"
      ],
      "execution_count": 2,
      "outputs": []
    },
    {
      "cell_type": "code",
      "metadata": {
        "colab": {
          "base_uri": "https://localhost:8080/"
        },
        "id": "cRPKy7ARR-c9",
        "outputId": "829e8084-1a07-44c4-bfe3-4b371c7f8ee5"
      },
      "source": [
        "soup=BeautifulSoup(url.content,\"html5lib\")\n",
        "print(soup.title.text)"
      ],
      "execution_count": 3,
      "outputs": [
        {
          "output_type": "stream",
          "text": [
            "IMDb Top 250 - IMDb\n"
          ],
          "name": "stdout"
        }
      ]
    },
    {
      "cell_type": "code",
      "metadata": {
        "id": "s3mG-oZkR-c-"
      },
      "source": [
        "List =soup.find('tbody',{'class':'lister-list'}).find_all('tr')\n",
        "movie,year,rating,dir_actors=[],[],[],[]"
      ],
      "execution_count": 4,
      "outputs": []
    },
    {
      "cell_type": "code",
      "metadata": {
        "id": "xOD1EdpaR-c-"
      },
      "source": [
        "for film in List:\n",
        "    movie.append(film.find('td',{'class':'titleColumn'}).a.text)\n",
        "    year.append(film.find('td',{'class':'titleColumn'}).span.text)\n",
        "    rating.append(film.find('td',{'class':'ratingColumn imdbRating'}).strong.text)\n",
        "    dir_actors.append(film.find('td',{'class':'titleColumn'}).a.get('title'))"
      ],
      "execution_count": 5,
      "outputs": []
    },
    {
      "cell_type": "code",
      "metadata": {
        "colab": {
          "base_uri": "https://localhost:8080/",
          "height": 399
        },
        "id": "oJVyuA2WR-c-",
        "outputId": "e56b319e-65d3-4a77-b074-5cf24392e457"
      },
      "source": [
        "keys=['movie','year','rating','dir_actors']\n",
        "values=[movie,year,rating,dir_actors]\n",
        "dictionary = dict(zip(keys, values))\n",
        "\n",
        "df = pd.DataFrame.from_dict(dictionary)\n",
        "df"
      ],
      "execution_count": 6,
      "outputs": [
        {
          "output_type": "execute_result",
          "data": {
            "text/html": [
              "<div>\n",
              "<style scoped>\n",
              "    .dataframe tbody tr th:only-of-type {\n",
              "        vertical-align: middle;\n",
              "    }\n",
              "\n",
              "    .dataframe tbody tr th {\n",
              "        vertical-align: top;\n",
              "    }\n",
              "\n",
              "    .dataframe thead th {\n",
              "        text-align: right;\n",
              "    }\n",
              "</style>\n",
              "<table border=\"1\" class=\"dataframe\">\n",
              "  <thead>\n",
              "    <tr style=\"text-align: right;\">\n",
              "      <th></th>\n",
              "      <th>movie</th>\n",
              "      <th>year</th>\n",
              "      <th>rating</th>\n",
              "      <th>dir_actors</th>\n",
              "    </tr>\n",
              "  </thead>\n",
              "  <tbody>\n",
              "    <tr>\n",
              "      <th>0</th>\n",
              "      <td>The Shawshank Redemption</td>\n",
              "      <td>(1994)</td>\n",
              "      <td>9.2</td>\n",
              "      <td>Frank Darabont (dir.), Tim Robbins, Morgan Fre...</td>\n",
              "    </tr>\n",
              "    <tr>\n",
              "      <th>1</th>\n",
              "      <td>The Godfather</td>\n",
              "      <td>(1972)</td>\n",
              "      <td>9.1</td>\n",
              "      <td>Francis Ford Coppola (dir.), Marlon Brando, Al...</td>\n",
              "    </tr>\n",
              "    <tr>\n",
              "      <th>2</th>\n",
              "      <td>The Godfather: Part II</td>\n",
              "      <td>(1974)</td>\n",
              "      <td>9.0</td>\n",
              "      <td>Francis Ford Coppola (dir.), Al Pacino, Robert...</td>\n",
              "    </tr>\n",
              "    <tr>\n",
              "      <th>3</th>\n",
              "      <td>The Dark Knight</td>\n",
              "      <td>(2008)</td>\n",
              "      <td>9.0</td>\n",
              "      <td>Christopher Nolan (dir.), Christian Bale, Heat...</td>\n",
              "    </tr>\n",
              "    <tr>\n",
              "      <th>4</th>\n",
              "      <td>12 Angry Men</td>\n",
              "      <td>(1957)</td>\n",
              "      <td>8.9</td>\n",
              "      <td>Sidney Lumet (dir.), Henry Fonda, Lee J. Cobb</td>\n",
              "    </tr>\n",
              "    <tr>\n",
              "      <th>...</th>\n",
              "      <td>...</td>\n",
              "      <td>...</td>\n",
              "      <td>...</td>\n",
              "      <td>...</td>\n",
              "    </tr>\n",
              "    <tr>\n",
              "      <th>245</th>\n",
              "      <td>The Battle of Algiers</td>\n",
              "      <td>(1966)</td>\n",
              "      <td>8.0</td>\n",
              "      <td>Gillo Pontecorvo (dir.), Brahim Hadjadj, Jean ...</td>\n",
              "    </tr>\n",
              "    <tr>\n",
              "      <th>246</th>\n",
              "      <td>A Silent Voice: The Movie</td>\n",
              "      <td>(2016)</td>\n",
              "      <td>8.0</td>\n",
              "      <td>Naoko Yamada (dir.), Miyu Irino, Saori Hayami</td>\n",
              "    </tr>\n",
              "    <tr>\n",
              "      <th>247</th>\n",
              "      <td>Tangerines</td>\n",
              "      <td>(2013)</td>\n",
              "      <td>8.0</td>\n",
              "      <td>Zaza Urushadze (dir.), Lembit Ulfsak, Elmo Nüg...</td>\n",
              "    </tr>\n",
              "    <tr>\n",
              "      <th>248</th>\n",
              "      <td>The Princess Bride</td>\n",
              "      <td>(1987)</td>\n",
              "      <td>8.0</td>\n",
              "      <td>Rob Reiner (dir.), Cary Elwes, Mandy Patinkin</td>\n",
              "    </tr>\n",
              "    <tr>\n",
              "      <th>249</th>\n",
              "      <td>Neon Genesis Evangelion: The End of Evangelion</td>\n",
              "      <td>(1997)</td>\n",
              "      <td>8.0</td>\n",
              "      <td>Hideaki Anno (dir.), Megumi Ogata, Megumi Haya...</td>\n",
              "    </tr>\n",
              "  </tbody>\n",
              "</table>\n",
              "<p>250 rows × 4 columns</p>\n",
              "</div>"
            ],
            "text/plain": [
              "                                              movie  ...                                         dir_actors\n",
              "0                          The Shawshank Redemption  ...  Frank Darabont (dir.), Tim Robbins, Morgan Fre...\n",
              "1                                     The Godfather  ...  Francis Ford Coppola (dir.), Marlon Brando, Al...\n",
              "2                            The Godfather: Part II  ...  Francis Ford Coppola (dir.), Al Pacino, Robert...\n",
              "3                                   The Dark Knight  ...  Christopher Nolan (dir.), Christian Bale, Heat...\n",
              "4                                      12 Angry Men  ...      Sidney Lumet (dir.), Henry Fonda, Lee J. Cobb\n",
              "..                                              ...  ...                                                ...\n",
              "245                           The Battle of Algiers  ...  Gillo Pontecorvo (dir.), Brahim Hadjadj, Jean ...\n",
              "246                       A Silent Voice: The Movie  ...      Naoko Yamada (dir.), Miyu Irino, Saori Hayami\n",
              "247                                      Tangerines  ...  Zaza Urushadze (dir.), Lembit Ulfsak, Elmo Nüg...\n",
              "248                              The Princess Bride  ...      Rob Reiner (dir.), Cary Elwes, Mandy Patinkin\n",
              "249  Neon Genesis Evangelion: The End of Evangelion  ...  Hideaki Anno (dir.), Megumi Ogata, Megumi Haya...\n",
              "\n",
              "[250 rows x 4 columns]"
            ]
          },
          "metadata": {
            "tags": []
          },
          "execution_count": 6
        }
      ]
    },
    {
      "cell_type": "markdown",
      "metadata": {
        "id": "fxhawD0-R-c_"
      },
      "source": [
        "## Data Cleaning and Feature Engineering"
      ]
    },
    {
      "cell_type": "code",
      "metadata": {
        "id": "QLFlVyijR-c_"
      },
      "source": [
        "df.year=df.year.str.extract('(\\d\\d\\d\\d)')[0].astype(int)\n",
        "df.rating=df.rating.astype('float64')"
      ],
      "execution_count": 7,
      "outputs": []
    },
    {
      "cell_type": "code",
      "metadata": {
        "colab": {
          "base_uri": "https://localhost:8080/",
          "height": 399
        },
        "id": "7_vozz1BR-c_",
        "outputId": "5ece5c40-8ef5-4b1a-b6a2-27a08438bdc4"
      },
      "source": [
        "df"
      ],
      "execution_count": 8,
      "outputs": [
        {
          "output_type": "execute_result",
          "data": {
            "text/html": [
              "<div>\n",
              "<style scoped>\n",
              "    .dataframe tbody tr th:only-of-type {\n",
              "        vertical-align: middle;\n",
              "    }\n",
              "\n",
              "    .dataframe tbody tr th {\n",
              "        vertical-align: top;\n",
              "    }\n",
              "\n",
              "    .dataframe thead th {\n",
              "        text-align: right;\n",
              "    }\n",
              "</style>\n",
              "<table border=\"1\" class=\"dataframe\">\n",
              "  <thead>\n",
              "    <tr style=\"text-align: right;\">\n",
              "      <th></th>\n",
              "      <th>movie</th>\n",
              "      <th>year</th>\n",
              "      <th>rating</th>\n",
              "      <th>dir_actors</th>\n",
              "    </tr>\n",
              "  </thead>\n",
              "  <tbody>\n",
              "    <tr>\n",
              "      <th>0</th>\n",
              "      <td>The Shawshank Redemption</td>\n",
              "      <td>1994</td>\n",
              "      <td>9.2</td>\n",
              "      <td>Frank Darabont (dir.), Tim Robbins, Morgan Fre...</td>\n",
              "    </tr>\n",
              "    <tr>\n",
              "      <th>1</th>\n",
              "      <td>The Godfather</td>\n",
              "      <td>1972</td>\n",
              "      <td>9.1</td>\n",
              "      <td>Francis Ford Coppola (dir.), Marlon Brando, Al...</td>\n",
              "    </tr>\n",
              "    <tr>\n",
              "      <th>2</th>\n",
              "      <td>The Godfather: Part II</td>\n",
              "      <td>1974</td>\n",
              "      <td>9.0</td>\n",
              "      <td>Francis Ford Coppola (dir.), Al Pacino, Robert...</td>\n",
              "    </tr>\n",
              "    <tr>\n",
              "      <th>3</th>\n",
              "      <td>The Dark Knight</td>\n",
              "      <td>2008</td>\n",
              "      <td>9.0</td>\n",
              "      <td>Christopher Nolan (dir.), Christian Bale, Heat...</td>\n",
              "    </tr>\n",
              "    <tr>\n",
              "      <th>4</th>\n",
              "      <td>12 Angry Men</td>\n",
              "      <td>1957</td>\n",
              "      <td>8.9</td>\n",
              "      <td>Sidney Lumet (dir.), Henry Fonda, Lee J. Cobb</td>\n",
              "    </tr>\n",
              "    <tr>\n",
              "      <th>...</th>\n",
              "      <td>...</td>\n",
              "      <td>...</td>\n",
              "      <td>...</td>\n",
              "      <td>...</td>\n",
              "    </tr>\n",
              "    <tr>\n",
              "      <th>245</th>\n",
              "      <td>The Battle of Algiers</td>\n",
              "      <td>1966</td>\n",
              "      <td>8.0</td>\n",
              "      <td>Gillo Pontecorvo (dir.), Brahim Hadjadj, Jean ...</td>\n",
              "    </tr>\n",
              "    <tr>\n",
              "      <th>246</th>\n",
              "      <td>A Silent Voice: The Movie</td>\n",
              "      <td>2016</td>\n",
              "      <td>8.0</td>\n",
              "      <td>Naoko Yamada (dir.), Miyu Irino, Saori Hayami</td>\n",
              "    </tr>\n",
              "    <tr>\n",
              "      <th>247</th>\n",
              "      <td>Tangerines</td>\n",
              "      <td>2013</td>\n",
              "      <td>8.0</td>\n",
              "      <td>Zaza Urushadze (dir.), Lembit Ulfsak, Elmo Nüg...</td>\n",
              "    </tr>\n",
              "    <tr>\n",
              "      <th>248</th>\n",
              "      <td>The Princess Bride</td>\n",
              "      <td>1987</td>\n",
              "      <td>8.0</td>\n",
              "      <td>Rob Reiner (dir.), Cary Elwes, Mandy Patinkin</td>\n",
              "    </tr>\n",
              "    <tr>\n",
              "      <th>249</th>\n",
              "      <td>Neon Genesis Evangelion: The End of Evangelion</td>\n",
              "      <td>1997</td>\n",
              "      <td>8.0</td>\n",
              "      <td>Hideaki Anno (dir.), Megumi Ogata, Megumi Haya...</td>\n",
              "    </tr>\n",
              "  </tbody>\n",
              "</table>\n",
              "<p>250 rows × 4 columns</p>\n",
              "</div>"
            ],
            "text/plain": [
              "                                              movie  ...                                         dir_actors\n",
              "0                          The Shawshank Redemption  ...  Frank Darabont (dir.), Tim Robbins, Morgan Fre...\n",
              "1                                     The Godfather  ...  Francis Ford Coppola (dir.), Marlon Brando, Al...\n",
              "2                            The Godfather: Part II  ...  Francis Ford Coppola (dir.), Al Pacino, Robert...\n",
              "3                                   The Dark Knight  ...  Christopher Nolan (dir.), Christian Bale, Heat...\n",
              "4                                      12 Angry Men  ...      Sidney Lumet (dir.), Henry Fonda, Lee J. Cobb\n",
              "..                                              ...  ...                                                ...\n",
              "245                           The Battle of Algiers  ...  Gillo Pontecorvo (dir.), Brahim Hadjadj, Jean ...\n",
              "246                       A Silent Voice: The Movie  ...      Naoko Yamada (dir.), Miyu Irino, Saori Hayami\n",
              "247                                      Tangerines  ...  Zaza Urushadze (dir.), Lembit Ulfsak, Elmo Nüg...\n",
              "248                              The Princess Bride  ...      Rob Reiner (dir.), Cary Elwes, Mandy Patinkin\n",
              "249  Neon Genesis Evangelion: The End of Evangelion  ...  Hideaki Anno (dir.), Megumi Ogata, Megumi Haya...\n",
              "\n",
              "[250 rows x 4 columns]"
            ]
          },
          "metadata": {
            "tags": []
          },
          "execution_count": 8
        }
      ]
    },
    {
      "cell_type": "code",
      "metadata": {
        "id": "0Gg85QKPR-dA"
      },
      "source": [
        "df['directors']=df['dir_actors'].str.split(',').apply(lambda x:x[0].rstrip('(dir.) ').strip())\n",
        "df['actors']=df['dir_actors'].str.split(',').apply(lambda x:[i.strip() for i in x[1:]])"
      ],
      "execution_count": 9,
      "outputs": []
    },
    {
      "cell_type": "code",
      "metadata": {
        "id": "722de5hfcGrA"
      },
      "source": [
        "df.drop('dir_actors',axis=1,inplace=True)"
      ],
      "execution_count": 10,
      "outputs": []
    },
    {
      "cell_type": "code",
      "metadata": {
        "colab": {
          "base_uri": "https://localhost:8080/",
          "height": 194
        },
        "id": "Of5OKnk7dbX6",
        "outputId": "040913d6-8b85-4e51-9d51-e54e722da16c"
      },
      "source": [
        "df.head()"
      ],
      "execution_count": 11,
      "outputs": [
        {
          "output_type": "execute_result",
          "data": {
            "text/html": [
              "<div>\n",
              "<style scoped>\n",
              "    .dataframe tbody tr th:only-of-type {\n",
              "        vertical-align: middle;\n",
              "    }\n",
              "\n",
              "    .dataframe tbody tr th {\n",
              "        vertical-align: top;\n",
              "    }\n",
              "\n",
              "    .dataframe thead th {\n",
              "        text-align: right;\n",
              "    }\n",
              "</style>\n",
              "<table border=\"1\" class=\"dataframe\">\n",
              "  <thead>\n",
              "    <tr style=\"text-align: right;\">\n",
              "      <th></th>\n",
              "      <th>movie</th>\n",
              "      <th>year</th>\n",
              "      <th>rating</th>\n",
              "      <th>directors</th>\n",
              "      <th>actors</th>\n",
              "    </tr>\n",
              "  </thead>\n",
              "  <tbody>\n",
              "    <tr>\n",
              "      <th>0</th>\n",
              "      <td>The Shawshank Redemption</td>\n",
              "      <td>1994</td>\n",
              "      <td>9.2</td>\n",
              "      <td>Frank Darabont</td>\n",
              "      <td>[Tim Robbins, Morgan Freeman]</td>\n",
              "    </tr>\n",
              "    <tr>\n",
              "      <th>1</th>\n",
              "      <td>The Godfather</td>\n",
              "      <td>1972</td>\n",
              "      <td>9.1</td>\n",
              "      <td>Francis Ford Coppola</td>\n",
              "      <td>[Marlon Brando, Al Pacino]</td>\n",
              "    </tr>\n",
              "    <tr>\n",
              "      <th>2</th>\n",
              "      <td>The Godfather: Part II</td>\n",
              "      <td>1974</td>\n",
              "      <td>9.0</td>\n",
              "      <td>Francis Ford Coppola</td>\n",
              "      <td>[Al Pacino, Robert De Niro]</td>\n",
              "    </tr>\n",
              "    <tr>\n",
              "      <th>3</th>\n",
              "      <td>The Dark Knight</td>\n",
              "      <td>2008</td>\n",
              "      <td>9.0</td>\n",
              "      <td>Christopher Nolan</td>\n",
              "      <td>[Christian Bale, Heath Ledger]</td>\n",
              "    </tr>\n",
              "    <tr>\n",
              "      <th>4</th>\n",
              "      <td>12 Angry Men</td>\n",
              "      <td>1957</td>\n",
              "      <td>8.9</td>\n",
              "      <td>Sidney Lumet</td>\n",
              "      <td>[Henry Fonda, Lee J. Cobb]</td>\n",
              "    </tr>\n",
              "  </tbody>\n",
              "</table>\n",
              "</div>"
            ],
            "text/plain": [
              "                      movie  ...                          actors\n",
              "0  The Shawshank Redemption  ...   [Tim Robbins, Morgan Freeman]\n",
              "1             The Godfather  ...      [Marlon Brando, Al Pacino]\n",
              "2    The Godfather: Part II  ...     [Al Pacino, Robert De Niro]\n",
              "3           The Dark Knight  ...  [Christian Bale, Heath Ledger]\n",
              "4              12 Angry Men  ...      [Henry Fonda, Lee J. Cobb]\n",
              "\n",
              "[5 rows x 5 columns]"
            ]
          },
          "metadata": {
            "tags": []
          },
          "execution_count": 11
        }
      ]
    },
    {
      "cell_type": "code",
      "metadata": {
        "colab": {
          "base_uri": "https://localhost:8080/"
        },
        "id": "1cbWsuXVdcXR",
        "outputId": "7bb0e49f-8ccb-4391-acb7-1e110618d9a3"
      },
      "source": [
        "df.info()"
      ],
      "execution_count": 12,
      "outputs": [
        {
          "output_type": "stream",
          "text": [
            "<class 'pandas.core.frame.DataFrame'>\n",
            "RangeIndex: 250 entries, 0 to 249\n",
            "Data columns (total 5 columns):\n",
            " #   Column     Non-Null Count  Dtype  \n",
            "---  ------     --------------  -----  \n",
            " 0   movie      250 non-null    object \n",
            " 1   year       250 non-null    int64  \n",
            " 2   rating     250 non-null    float64\n",
            " 3   directors  250 non-null    object \n",
            " 4   actors     250 non-null    object \n",
            "dtypes: float64(1), int64(1), object(3)\n",
            "memory usage: 9.9+ KB\n"
          ],
          "name": "stdout"
        }
      ]
    },
    {
      "cell_type": "code",
      "metadata": {
        "id": "uRIIgqHAdigR"
      },
      "source": [
        "df.to_csv('imdb.csv', index=False,sep=';',float_format='%.1f')"
      ],
      "execution_count": 13,
      "outputs": []
    },
    {
      "cell_type": "code",
      "metadata": {
        "id": "2Ueb82hZYiRB"
      },
      "source": [
        ""
      ],
      "execution_count": 13,
      "outputs": []
    }
  ]
}
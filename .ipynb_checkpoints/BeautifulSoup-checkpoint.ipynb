{
 "cells": [
  {
   "cell_type": "markdown",
   "id": "d3ecd54b",
   "metadata": {},
   "source": [
    "# [BeautifulSoup](https://www.crummy.com/software/BeautifulSoup/bs4/doc/)\n",
    "\n",
    "https://www.youtube.com/watch?v=fwtYIPlHr6M\n"
   ]
  },
  {
   "cell_type": "markdown",
   "id": "93947825",
   "metadata": {},
   "source": [
    "# mediamarkt\n",
    "https://www.mediamarkt.nl/nl/category/_laptops-482723.html"
   ]
  },
  {
   "cell_type": "code",
   "execution_count": 73,
   "id": "8f662b2c",
   "metadata": {},
   "outputs": [
    {
     "name": "stdout",
     "output_type": "stream",
     "text": [
      "Laptop kopen? | MediaMarkt \n",
      " **********************************************************************\n",
      "Name\t: APPLE MacBook Air 13.3 (2020)  \n",
      "Price\t: 1039 \n",
      "Details\t: Beeldschermdiagonaal (cm/inch): 33.8 cm / 13.3 inch \n",
      "\t  Processor: Apple M1 met 8-core-CPU en 7-core-GPU \n",
      "\t  Werkgeheugen: 8 GB \n",
      "\t  Totale opslagruimte: 256 GB SSD \n",
      "\t  Grafische kaart: M1 \n",
      "\t  \n",
      " ********************************************************************** \n",
      "\n",
      "Name\t: ACER Aspire 3 (A315 \n",
      "Price\t: 528,80 \n",
      "Details\t: Beeldschermdiagonaal (cm/inch): 39.6 cm / 15.6 inch \n",
      "\t  Processor: AMD Ryzen 5-3500U \n",
      "\t  Werkgeheugen: 8 GB \n",
      "\t  Totale opslagruimte: 512 GB \n",
      "\t  Grafische kaart: RADEON VEGA 8 GRAPHICS \n",
      "\t  \n",
      " ********************************************************************** \n",
      "\n",
      "Name\t: HP 15s \n",
      "Price\t: 555 \n",
      "Details\t: Beeldschermdiagonaal (cm/inch): 39.6 cm / 15.6 inch \n",
      "\t  Processor: AMD Ryzen 5-4500U \n",
      "\t  Werkgeheugen: 8 GB \n",
      "\t  Totale opslagruimte: 512 GB SSD \n",
      "\t  Grafische kaart: Radeon Graphics \n",
      "\t  \n",
      " ********************************************************************** \n",
      "\n",
      "Name\t: HP Pavilion 15 \n",
      "Price\t: 755 \n",
      "Details\t: Beeldschermdiagonaal (cm/inch): 39.6 cm / 15.6 inch \n",
      "\t  Processor: AMD Ryzen 7-4700U \n",
      "\t  Werkgeheugen: 16 GB \n",
      "\t  Totale opslagruimte: 512 GB SSD \n",
      "\t  Grafische kaart: Radeon Graphics \n",
      "\t  \n",
      " ********************************************************************** \n",
      "\n",
      "Name\t: LENOVO IdeaPad 5 15  \n",
      "Price\t: 699 \n",
      "Details\t: Beeldschermdiagonaal (cm/inch): 39.6 cm / 15.6 inch \n",
      "\t  Processor: AMD Ryzen 5-4500U \n",
      "\t  Werkgeheugen: 16 GB \n",
      "\t  Totale opslagruimte: 512 GB SSD \n",
      "\t  Grafische kaart: Radeon Graphics \n",
      "\t  \n",
      " ********************************************************************** \n",
      "\n",
      "Name\t: HP Chromebook 14a \n",
      "Price\t: 279 \n",
      "Details\t: Beeldschermdiagonaal (cm/inch): 35.6 cm / 14 inch \n",
      "\t  Processor: Intel Celeron N4020 \n",
      "\t  Werkgeheugen: 4 GB \n",
      "\t  Totale opslagruimte: 64 GB eMMC \n",
      "\t  Grafische kaart: UHD Graphics 600 \n",
      "\t  \n",
      " ********************************************************************** \n",
      "\n",
      "Name\t: LENOVO IdeaPad 3 15  \n",
      "Price\t: 499 \n",
      "Details\t: Beeldschermdiagonaal (cm/inch): 39.6 cm / 15.6 inch \n",
      "\t  Processor: Intel Core i3-1005G1 \n",
      "\t  Werkgeheugen: 8 GB \n",
      "\t  Totale opslagruimte: 256 GB SSD \n",
      "\t  Grafische kaart: UHD Graphics \n",
      "\t  \n",
      " ********************************************************************** \n",
      "\n",
      "Name\t: ASUS VivoBook (X512DA \n",
      "Price\t: 549 \n",
      "Details\t: Beeldschermdiagonaal (cm/inch): 39.6 cm / 15.6 inch \n",
      "\t  Processor: AMD Ryzen 5-3500U \n",
      "\t  Werkgeheugen: 8 GB \n",
      "\t  Totale opslagruimte: 128 GB SSD + 1 TB HDD \n",
      "\t  Grafische kaart: Radeon RX Vega 8 \n",
      "\t  \n",
      " ********************************************************************** \n",
      "\n",
      "Name\t: APPLE MacBook Pro 13.3 (2020)  \n",
      "Price\t: 1299 \n",
      "Details\t: Beeldschermdiagonaal (cm/inch): 33.8 cm / 13.3 inch \n",
      "\t  Processor: Apple M1 met 8-core-CPU en 8-core-GPU \n",
      "\t  Werkgeheugen: 8 GB \n",
      "\t  Totale opslagruimte: 256 GB SSD \n",
      "\t  Grafische kaart: M1 \n",
      "\t  \n",
      " ********************************************************************** \n",
      "\n",
      "Name\t: HP 15s \n",
      "Price\t: 499 \n",
      "Details\t: Beeldschermdiagonaal (cm/inch): 39.6 cm / 15.6 inch \n",
      "\t  Processor: Intel i3-1115G4 \n",
      "\t  Werkgeheugen: 8 GB \n",
      "\t  Totale opslagruimte: 256 GB \n",
      "\t  Grafische kaart: UHD Graphics \n",
      "\t  \n",
      " ********************************************************************** \n",
      "\n",
      "Name\t: HP Pavilion Laptop 15 \n",
      "Price\t: 688 \n",
      "Details\t: Beeldschermdiagonaal (cm/inch): 39.6 cm / 15.6 inch \n",
      "\t  Processor: Intel Core i5-1135G7 \n",
      "\t  Werkgeheugen: 8 GB \n",
      "\t  Totale opslagruimte: 512 GB SSD \n",
      "\t  Grafische kaart: Iris Xe Graphics \n",
      "\t  \n",
      " ********************************************************************** \n",
      "\n",
      "Name\t: APPLE MacBook Air 13.3 (2020)  \n",
      "Price\t: 1039 \n",
      "Details\t: Beeldschermdiagonaal (cm/inch): 33.8 cm / 13.3 inch \n",
      "\t  Processor: Apple M1 met 8-core-CPU en 7-core-GPU \n",
      "\t  Werkgeheugen: 8 GB \n",
      "\t  Totale opslagruimte: 256 GB SSD \n",
      "\t  Grafische kaart: M1 \n",
      "\t  \n",
      " ********************************************************************** \n",
      "\n",
      "Name\t: HP 15s \n",
      "Price\t: 599 \n",
      "Details\t: Beeldschermdiagonaal (cm/inch): 39.6 cm / 15.6 inch \n",
      "\t  Processor: Intel Core i5-1135G7 \n",
      "\t  Werkgeheugen: 8 GB \n",
      "\t  Totale opslagruimte: 256 GB SSD \n",
      "\t  Grafische kaart: Iris Xe \n",
      "\t  \n",
      " ********************************************************************** \n",
      "\n",
      "Name\t: ASUS FX505DT \n",
      "Price\t: 799 \n",
      "Details\t: Beeldschermdiagonaal (cm/inch): 39.6 cm / 15.6 inch \n",
      "\t  Processor: AMD Ryzen 7-3750H \n",
      "\t  Werkgeheugen: 8 GB \n",
      "\t  Totale opslagruimte: 512 GB SSD \n",
      "\t  Grafische kaart: GeForce GTX 1650 \n",
      "\t  \n",
      " ********************************************************************** \n",
      "\n",
      "Name\t: ACER Spin 1 (SP111 \n",
      "Price\t: 339 \n",
      "Details\t: Beeldschermdiagonaal (cm/inch): 29.5 cm / 11.6 inch \n",
      "\t  Resolutie: 1920 x 1080 \n",
      "\t  Led-backlight: ja \n",
      "\t  Touchscreen: ja \n",
      "\t  Helderheid: 300 cd/m² \n",
      "\t  \n",
      " ********************************************************************** \n",
      "\n",
      "Name\t: LENOVO IdeaPad 5 15  \n",
      "Price\t: 699 \n",
      "Details\t: Beeldschermdiagonaal (cm/inch): 39.6 cm / 15.6 inch \n",
      "\t  Processor: AMD Ryzen 5-4500U \n",
      "\t  Werkgeheugen: 16 GB \n",
      "\t  Totale opslagruimte: 512 GB SSD \n",
      "\t  Grafische kaart: Radeon Graphics \n",
      "\t  \n",
      " ********************************************************************** \n",
      "\n",
      "Name\t: APPLE MacBook Air 13.3 (2020)  \n",
      "Price\t: 1039 \n",
      "Details\t: Beeldschermdiagonaal (cm/inch): 33.8 cm / 13.3 inch \n",
      "\t  Processor: Apple M1 met 8-core-CPU en 7-core-GPU \n",
      "\t  Werkgeheugen: 8 GB \n",
      "\t  Totale opslagruimte: 256 GB SSD \n",
      "\t  Grafische kaart: M1 \n",
      "\t  \n",
      " ********************************************************************** \n",
      "\n",
      "Name\t: ACER Chromebook 514 (CB514 \n",
      "Price\t: 269 \n",
      "Details\t: Beeldschermdiagonaal (cm/inch): 35.6 cm / 14 inch \n",
      "\t  Processor: Intel Celeron N3350 \n",
      "\t  Werkgeheugen: 4 GB \n",
      "\t  Totale opslagruimte: 64 GB eMMC \n",
      "\t  Grafische kaart: HD Graphics 500 \n",
      "\t  \n",
      " ********************************************************************** \n",
      "\n",
      "Name\t: HP Pavilion Laptop 15 \n",
      "Price\t: 688 \n",
      "Details\t: Beeldschermdiagonaal (cm/inch): 39.6 cm / 15.6 inch \n",
      "\t  Processor: Intel Core i5-1135G7 \n",
      "\t  Werkgeheugen: 8 GB \n",
      "\t  Totale opslagruimte: 512 GB SSD \n",
      "\t  Grafische kaart: Iris Xe Graphics \n",
      "\t  \n",
      " ********************************************************************** \n",
      "\n",
      "Name\t: APPLE MacBook Air 13.3 (2020)  \n",
      "Price\t: 1239 \n",
      "Details\t: Beeldschermdiagonaal (cm/inch): 33.8 cm / 13.3 inch \n",
      "\t  Processor: Apple M1 met 8-core-CPU en 7-core-GPU \n",
      "\t  Werkgeheugen: 16 GB \n",
      "\t  Totale opslagruimte: 256 GB SSD \n",
      "\t  Grafische kaart: M1 \n",
      "\t  \n",
      " ********************************************************************** \n",
      "\n",
      "Name\t: ASUS Chromebook (C223NA \n",
      "Price\t: 229 \n",
      "Details\t: Beeldschermdiagonaal (cm/inch): 29.5 cm / 11.6 inch \n",
      "\t  Processor: Intel Celeron N3350 \n",
      "\t  Werkgeheugen: 4 GB \n",
      "\t  Totale opslagruimte: 32 GB \n",
      "\t  Grafische kaart: HD Graphics 500 \n",
      "\t  \n",
      " ********************************************************************** \n",
      "\n",
      "Name\t: ACER Aspire 5 (A514 \n",
      "Price\t: 588 \n",
      "Details\t: Beeldschermdiagonaal (cm/inch): 35.6 cm / 14 inch \n",
      "\t  Processor: Intel Core i5-1035G1 \n",
      "\t  Werkgeheugen: 8 GB \n",
      "\t  Totale opslagruimte: 512 GB SSD \n",
      "\t  Grafische kaart: UHD Graphics \n",
      "\t  \n",
      " ********************************************************************** \n",
      "\n",
      "Name\t: APPLE MacBook Pro 13.3 (2020)  \n",
      "Price\t: 1269 \n",
      "Details\t: Beeldschermdiagonaal (cm/inch): 33.8 cm / 13.3 inch \n",
      "\t  Processor: Apple M1 met 8-core-CPU en 8-core-GPU \n",
      "\t  Werkgeheugen: 8 GB \n",
      "\t  Totale opslagruimte: 256 GB SSD \n",
      "\t  Grafische kaart: M1 \n",
      "\t  \n",
      " ********************************************************************** \n",
      "\n",
      "Name\t: APPLE MacBook Pro 13.3 (2020)  \n",
      "Price\t: 1469 \n",
      "Details\t: Beeldschermdiagonaal (cm/inch): 33.8 cm / 13.3 inch \n",
      "\t  Processor: Apple M1 met 8-core-CPU en 8-core-GPU \n",
      "\t  Werkgeheugen: 8 GB \n",
      "\t  Totale opslagruimte: 512 GB SSD \n",
      "\t  Grafische kaart: M1 \n",
      "\t  \n",
      " ********************************************************************** \n",
      "\n"
     ]
    }
   ],
   "source": [
    "import requests\n",
    "from bs4 import BeautifulSoup\n",
    "import html5lib\n",
    "\n",
    "url=\"https://www.mediamarkt.nl/nl/category/_laptops-482723.html\"\n",
    "html=requests.get(url).content\n",
    "soup=BeautifulSoup(html,\"html.parser\")\n",
    "print(soup.title.text,\"\\n\",70*'*',sep='')\n",
    "\n",
    "liste=soup.find_all(\"div\",{\"class\":\"product-wrapper\"})\n",
    "\n",
    "for i in liste:\n",
    "    price=i.find(\"div\",{\"class\":\"price\"}).text.strip(\"-\").strip(\",\")\n",
    "    comp_name=i.h2.text.strip().split(\"-\")[0]\n",
    "    details_title =i.find(\"dl\",{\"class\":\"product-details\"}).find_all(\"dt\")\n",
    "    details =i.find(\"dl\",{\"class\":\"product-details\"}).find_all(\"dd\")\n",
    "\n",
    "    show=f'Name\\t: {comp_name} \\nPrice\\t: {price} \\nDetails\\t: '    \n",
    "    print(show, end='')\n",
    "    for s1,s2 in zip(details_title,details):\n",
    "        print(s1.text, s2.text,'\\n\\t  ',end='')\n",
    "    print(\"\\n\",70*\"*\",\"\\n\")\n"
   ]
  },
  {
   "cell_type": "markdown",
   "id": "7d7b1f9a",
   "metadata": {},
   "source": [
    "# imdb\n",
    "https://www.imdb.com/chart/top/"
   ]
  },
  {
   "cell_type": "code",
   "execution_count": 95,
   "id": "e40e5009",
   "metadata": {},
   "outputs": [
    {
     "name": "stdout",
     "output_type": "stream",
     "text": [
      "IMDb Top 250 - IMDb\n",
      "**********************************************************************\n",
      "Title\t: The Shawshank Redemption\n",
      "Year\t: 1994\n",
      "Rating\t: 9.2\n",
      "Director: Frank Darabont\n",
      "Actors\t: Tim Robbins, Morgan Freeman\n",
      "**********************************************************************\n",
      "Title\t: The Godfather\n",
      "Year\t: 1972\n",
      "Rating\t: 9.1\n",
      "Director: Francis Ford Coppola\n",
      "Actors\t: Marlon Brando, Al Pacino\n",
      "**********************************************************************\n",
      "Title\t: The Godfather: Part II\n",
      "Year\t: 1974\n",
      "Rating\t: 9.0\n",
      "Director: Francis Ford Coppola\n",
      "Actors\t: Al Pacino, Robert De Niro\n",
      "**********************************************************************\n",
      "Title\t: The Dark Knight\n",
      "Year\t: 2008\n",
      "Rating\t: 9.0\n",
      "Director: Christopher Nolan\n",
      "Actors\t: Christian Bale, Heath Ledger\n",
      "**********************************************************************\n",
      "Title\t: 12 Angry Men\n",
      "Year\t: 1957\n",
      "Rating\t: 8.9\n",
      "Director: Sidney Lumet\n",
      "Actors\t: Henry Fonda, Lee J. Cobb\n",
      "**********************************************************************\n",
      "Title\t: Schindler's List\n",
      "Year\t: 1993\n",
      "Rating\t: 8.9\n",
      "Director: Steven Spielberg\n",
      "Actors\t: Liam Neeson, Ralph Fiennes\n",
      "**********************************************************************\n",
      "Title\t: The Lord of the Rings: The Return of the King\n",
      "Year\t: 2003\n",
      "Rating\t: 8.9\n",
      "Director: Peter Jackson\n",
      "Actors\t: Elijah Wood, Viggo Mortensen\n",
      "**********************************************************************\n",
      "Title\t: Pulp Fiction\n",
      "Year\t: 1994\n",
      "Rating\t: 8.8\n",
      "Director: Quentin Tarantino\n",
      "Actors\t: John Travolta, Uma Thurman\n",
      "**********************************************************************\n",
      "Title\t: The Good, the Bad and the Ugly\n",
      "Year\t: 1966\n",
      "Rating\t: 8.8\n",
      "Director: Sergio Leone\n",
      "Actors\t: Clint Eastwood, Eli Wallach\n",
      "**********************************************************************\n",
      "Title\t: The Lord of the Rings: The Fellowship of the Ring\n",
      "Year\t: 2001\n",
      "Rating\t: 8.8\n",
      "Director: Peter Jackson\n",
      "Actors\t: Elijah Wood, Ian McKellen\n",
      "**********************************************************************\n",
      "Title\t: Fight Club\n",
      "Year\t: 1999\n",
      "Rating\t: 8.8\n",
      "Director: David Fincher\n",
      "Actors\t: Brad Pitt, Edward Norton\n",
      "**********************************************************************\n",
      "Title\t: Forrest Gump\n",
      "Year\t: 1994\n",
      "Rating\t: 8.8\n",
      "Director: Robert Zemeckis\n",
      "Actors\t: Tom Hanks, Robin Wright\n",
      "**********************************************************************\n",
      "Title\t: Inception\n",
      "Year\t: 2010\n",
      "Rating\t: 8.7\n",
      "Director: Christopher Nolan\n",
      "Actors\t: Leonardo DiCaprio, Joseph Gordon-Levitt\n",
      "**********************************************************************\n",
      "Title\t: The Lord of the Rings: The Two Towers\n",
      "Year\t: 2002\n",
      "Rating\t: 8.7\n",
      "Director: Peter Jackson\n",
      "Actors\t: Elijah Wood, Ian McKellen\n",
      "**********************************************************************\n",
      "Title\t: Star Wars: Episode V - The Empire Strikes Back\n",
      "Year\t: 1980\n",
      "Rating\t: 8.7\n",
      "Director: Irvin Kershner\n",
      "Actors\t: Mark Hamill, Harrison Ford\n",
      "**********************************************************************\n",
      "Title\t: The Matrix\n",
      "Year\t: 1999\n",
      "Rating\t: 8.6\n",
      "Director: Lana Wachowski\n",
      "Actors\t: Keanu Reeves, Laurence Fishburne\n",
      "**********************************************************************\n",
      "Title\t: Goodfellas\n",
      "Year\t: 1990\n",
      "Rating\t: 8.6\n",
      "Director: Martin Scorsese\n",
      "Actors\t: Robert De Niro, Ray Liotta\n",
      "**********************************************************************\n",
      "Title\t: One Flew Over the Cuckoo's Nest\n",
      "Year\t: 1975\n",
      "Rating\t: 8.6\n",
      "Director: Milos Forman\n",
      "Actors\t: Jack Nicholson, Louise Fletcher\n",
      "**********************************************************************\n",
      "Title\t: Shichinin no samurai\n",
      "Year\t: 1954\n",
      "Rating\t: 8.6\n",
      "Director: Akira Kurosawa\n",
      "Actors\t: Toshirô Mifune, Takashi Shimura\n",
      "**********************************************************************\n",
      "Title\t: Seven\n",
      "Year\t: 1995\n",
      "Rating\t: 8.6\n",
      "Director: David Fincher\n",
      "Actors\t: Morgan Freeman, Brad Pitt\n",
      "**********************************************************************\n",
      "Title\t: Het leven is mooi\n",
      "Year\t: 1997\n",
      "Rating\t: 8.6\n",
      "Director: Roberto Benigni\n",
      "Actors\t: Roberto Benigni, Nicoletta Braschi\n",
      "**********************************************************************\n",
      "Title\t: Cidade de Deus\n",
      "Year\t: 2002\n",
      "Rating\t: 8.6\n",
      "Director: Fernando Meirelles\n",
      "Actors\t: Alexandre Rodrigues, Leandro Firmino\n",
      "**********************************************************************\n",
      "Title\t: The Silence of the Lambs\n",
      "Year\t: 1991\n",
      "Rating\t: 8.6\n",
      "Director: Jonathan Demme\n",
      "Actors\t: Jodie Foster, Anthony Hopkins\n",
      "**********************************************************************\n",
      "Title\t: It's a Wonderful Life\n",
      "Year\t: 1946\n",
      "Rating\t: 8.6\n",
      "Director: Frank Capra\n",
      "Actors\t: James Stewart, Donna Reed\n",
      "**********************************************************************\n",
      "Title\t: Saving Private Ryan\n",
      "Year\t: 1998\n",
      "Rating\t: 8.6\n",
      "Director: Steven Spielberg\n",
      "Actors\t: Tom Hanks, Matt Damon\n",
      "**********************************************************************\n",
      "Title\t: Star Wars: Episode IV - A New Hope\n",
      "Year\t: 1977\n",
      "Rating\t: 8.6\n",
      "Director: George Lucas\n",
      "Actors\t: Mark Hamill, Harrison Ford\n",
      "**********************************************************************\n",
      "Title\t: The Green Mile\n",
      "Year\t: 1999\n",
      "Rating\t: 8.5\n",
      "Director: Frank Darabont\n",
      "Actors\t: Tom Hanks, Michael Clarke Duncan\n",
      "**********************************************************************\n",
      "Title\t: Spirited Away\n",
      "Year\t: 2001\n",
      "Rating\t: 8.5\n",
      "Director: Hayao Miyazaki\n",
      "Actors\t: Daveigh Chase, Suzanne Pleshette\n",
      "**********************************************************************\n",
      "Title\t: Interstellar\n",
      "Year\t: 2014\n",
      "Rating\t: 8.5\n",
      "Director: Christopher Nolan\n",
      "Actors\t: Matthew McConaughey, Anne Hathaway\n",
      "**********************************************************************\n",
      "Title\t: Gisaengchung\n",
      "Year\t: 2019\n",
      "Rating\t: 8.5\n",
      "Director: Bong Joon Ho\n",
      "Actors\t: Kang-ho Song, Sun-kyun Lee\n",
      "**********************************************************************\n",
      "Title\t: Léon\n",
      "Year\t: 1994\n",
      "Rating\t: 8.5\n",
      "Director: Luc Besson\n",
      "Actors\t: Jean Reno, Gary Oldman\n",
      "**********************************************************************\n",
      "Title\t: Seppuku\n",
      "Year\t: 1962\n",
      "Rating\t: 8.5\n",
      "Director: Masaki Kobayashi\n",
      "Actors\t: Tatsuya Nakadai, Akira Ishihama\n",
      "**********************************************************************\n",
      "Title\t: The Lion King\n",
      "Year\t: 1994\n",
      "Rating\t: 8.5\n",
      "Director: Roger Allers\n",
      "Actors\t: Matthew Broderick, Jeremy Irons\n",
      "**********************************************************************\n",
      "Title\t: The Usual Suspects\n",
      "Year\t: 1995\n",
      "Rating\t: 8.5\n",
      "Director: Bryan Singer\n",
      "Actors\t: Kevin Spacey, Gabriel Byrne\n",
      "**********************************************************************\n",
      "Title\t: The Pianist\n",
      "Year\t: 2002\n",
      "Rating\t: 8.5\n",
      "Director: Roman Polanski\n",
      "Actors\t: Adrien Brody, Thomas Kretschmann\n",
      "**********************************************************************\n",
      "Title\t: Terminator 2: Judgment Day\n",
      "Year\t: 1991\n",
      "Rating\t: 8.5\n",
      "Director: James Cameron\n",
      "Actors\t: Arnold Schwarzenegger, Linda Hamilton\n",
      "**********************************************************************\n",
      "Title\t: Terug naar de toekomst\n",
      "Year\t: 1985\n",
      "Rating\t: 8.5\n",
      "Director: Robert Zemeckis\n",
      "Actors\t: Michael J. Fox, Christopher Lloyd\n",
      "**********************************************************************\n",
      "Title\t: American History X\n",
      "Year\t: 1998\n",
      "Rating\t: 8.5\n",
      "Director: Tony Kaye\n",
      "Actors\t: Edward Norton, Edward Furlong\n",
      "**********************************************************************\n",
      "Title\t: Modern Times\n",
      "Year\t: 1936\n",
      "Rating\t: 8.5\n",
      "Director: Charles Chaplin\n",
      "Actors\t: Charles Chaplin, Paulette Goddard\n",
      "**********************************************************************\n",
      "Title\t: Gladiator\n",
      "Year\t: 2000\n",
      "Rating\t: 8.5\n",
      "Director: Ridley Scott\n",
      "Actors\t: Russell Crowe, Joaquin Phoenix\n",
      "**********************************************************************\n",
      "Title\t: Psycho\n",
      "Year\t: 1960\n",
      "Rating\t: 8.5\n",
      "Director: Alfred Hitchcock\n",
      "Actors\t: Anthony Perkins, Janet Leigh\n",
      "**********************************************************************\n",
      "Title\t: The Departed\n",
      "Year\t: 2006\n",
      "Rating\t: 8.5\n",
      "Director: Martin Scorsese\n",
      "Actors\t: Leonardo DiCaprio, Matt Damon\n",
      "**********************************************************************\n",
      "Title\t: City Lights\n",
      "Year\t: 1931\n",
      "Rating\t: 8.5\n",
      "Director: Charles Chaplin\n",
      "Actors\t: Charles Chaplin, Virginia Cherrill\n",
      "**********************************************************************\n",
      "Title\t: Whiplash\n",
      "Year\t: 2014\n",
      "Rating\t: 8.5\n",
      "Director: Damien Chazelle\n",
      "Actors\t: Miles Teller, J.K. Simmons\n",
      "**********************************************************************\n",
      "Title\t: The Intouchables\n",
      "Year\t: 2011\n",
      "Rating\t: 8.5\n",
      "Director: Olivier Nakache\n",
      "Actors\t: François Cluzet, Omar Sy\n",
      "**********************************************************************\n",
      "Title\t: Hotaru no haka\n",
      "Year\t: 1988\n",
      "Rating\t: 8.5\n",
      "Director: Isao Takahata\n",
      "Actors\t: Tsutomu Tatsumi, Ayano Shiraishi\n",
      "**********************************************************************\n",
      "Title\t: The Prestige\n",
      "Year\t: 2006\n",
      "Rating\t: 8.5\n",
      "Director: Christopher Nolan\n",
      "Actors\t: Christian Bale, Hugh Jackman\n",
      "**********************************************************************\n",
      "Title\t: Once Upon a Time in the West\n",
      "Year\t: 1968\n",
      "Rating\t: 8.4\n",
      "Director: Sergio Leone\n",
      "Actors\t: Henry Fonda, Charles Bronson\n",
      "**********************************************************************\n",
      "Title\t: Casablanca\n",
      "Year\t: 1942\n",
      "Rating\t: 8.4\n",
      "Director: Michael Curtiz\n",
      "Actors\t: Humphrey Bogart, Ingrid Bergman\n",
      "**********************************************************************\n",
      "Title\t: Nuovo Cinema Paradiso\n",
      "Year\t: 1988\n",
      "Rating\t: 8.4\n",
      "Director: Giuseppe Tornatore\n",
      "Actors\t: Philippe Noiret, Enzo Cannavale\n",
      "**********************************************************************\n",
      "Title\t: Rear Window\n",
      "Year\t: 1954\n",
      "Rating\t: 8.4\n",
      "Director: Alfred Hitchcock\n",
      "Actors\t: James Stewart, Grace Kelly\n",
      "**********************************************************************\n",
      "Title\t: Alien\n",
      "Year\t: 1979\n",
      "Rating\t: 8.4\n",
      "Director: Ridley Scott\n",
      "Actors\t: Sigourney Weaver, Tom Skerritt\n",
      "**********************************************************************\n",
      "Title\t: Apocalypse Now\n",
      "Year\t: 1979\n",
      "Rating\t: 8.4\n",
      "Director: Francis Ford Coppola\n",
      "Actors\t: Martin Sheen, Marlon Brando\n",
      "**********************************************************************\n",
      "Title\t: Memento\n",
      "Year\t: 2000\n",
      "Rating\t: 8.4\n",
      "Director: Christopher Nolan\n",
      "Actors\t: Guy Pearce, Carrie-Anne Moss\n",
      "**********************************************************************\n",
      "Title\t: De dictator\n",
      "Year\t: 1940\n",
      "Rating\t: 8.4\n",
      "Director: Charles Chaplin\n",
      "Actors\t: Charles Chaplin, Paulette Goddard\n",
      "**********************************************************************\n",
      "Title\t: Indiana Jones and the Raiders of the Lost Ark\n",
      "Year\t: 1981\n",
      "Rating\t: 8.4\n",
      "Director: Steven Spielberg\n",
      "Actors\t: Harrison Ford, Karen Allen\n",
      "**********************************************************************\n",
      "Title\t: Django Unchained\n",
      "Year\t: 2012\n",
      "Rating\t: 8.4\n",
      "Director: Quentin Tarantino\n",
      "Actors\t: Jamie Foxx, Christoph Waltz\n",
      "**********************************************************************\n",
      "Title\t: Das Leben der Anderen\n",
      "Year\t: 2006\n",
      "Rating\t: 8.4\n",
      "Director: Florian Henckel von Donnersmarck\n",
      "Actors\t: Ulrich Mühe, Martina Gedeck\n",
      "**********************************************************************\n",
      "Title\t: Paths of Glory\n",
      "Year\t: 1957\n",
      "Rating\t: 8.4\n",
      "Director: Stanley Kubrick\n",
      "Actors\t: Kirk Douglas, Ralph Meeker\n",
      "**********************************************************************\n",
      "Title\t: Hamilton\n",
      "Year\t: 2020\n",
      "Rating\t: 8.4\n",
      "Director: Thomas Kail\n",
      "Actors\t: Lin-Manuel Miranda, Phillipa Soo\n",
      "**********************************************************************\n",
      "Title\t: WALL·E\n",
      "Year\t: 2008\n",
      "Rating\t: 8.4\n",
      "Director: Andrew Stanton\n",
      "Actors\t: Ben Burtt, Elissa Knight\n",
      "**********************************************************************\n",
      "Title\t: Joker\n",
      "Year\t: 2019\n",
      "Rating\t: 8.4\n",
      "Director: Todd Phillips\n",
      "Actors\t: Joaquin Phoenix, Robert De Niro\n",
      "**********************************************************************\n",
      "Title\t: The Shining\n",
      "Year\t: 1980\n",
      "Rating\t: 8.4\n",
      "Director: Stanley Kubrick\n",
      "Actors\t: Jack Nicholson, Shelley Duvall\n",
      "**********************************************************************\n",
      "Title\t: Avengers: Infinity War\n",
      "Year\t: 2018\n",
      "Rating\t: 8.4\n",
      "Director: Anthony Russo\n",
      "Actors\t: Robert Downey Jr., Chris Hemsworth\n",
      "**********************************************************************\n",
      "Title\t: Sunset Boulevard\n",
      "Year\t: 1950\n",
      "Rating\t: 8.4\n",
      "Director: Billy Wilder\n",
      "Actors\t: William Holden, Gloria Swanson\n",
      "**********************************************************************\n",
      "Title\t: Witness for the Prosecution\n",
      "Year\t: 1957\n",
      "Rating\t: 8.4\n",
      "Director: Billy Wilder\n",
      "Actors\t: Tyrone Power, Marlene Dietrich\n",
      "**********************************************************************\n",
      "Title\t: Oldeuboi\n",
      "Year\t: 2003\n",
      "Rating\t: 8.3\n",
      "Director: Chan-wook Park\n",
      "Actors\t: Choi Min-sik, Yoo Ji-Tae\n",
      "**********************************************************************\n",
      "Title\t: Spider-Man: Een nieuw universum\n",
      "Year\t: 2018\n",
      "Rating\t: 8.3\n",
      "Director: Bob Persichetti\n",
      "Actors\t: Shameik Moore, Jake Johnson\n",
      "**********************************************************************\n",
      "Title\t: Mononoke-hime\n",
      "Year\t: 1997\n",
      "Rating\t: 8.3\n",
      "Director: Hayao Miyazaki\n",
      "Actors\t: Yôji Matsuda, Yuriko Ishida\n",
      "**********************************************************************\n",
      "Title\t: Dr. Strangelove or: How I Learned to Stop Worrying and Love the Bomb\n",
      "Year\t: 1964\n",
      "Rating\t: 8.3\n",
      "Director: Stanley Kubrick\n",
      "Actors\t: Peter Sellers, George C. Scott\n",
      "**********************************************************************\n",
      "Title\t: The Dark Knight Rises\n",
      "Year\t: 2012\n",
      "Rating\t: 8.3\n",
      "Director: Christopher Nolan\n",
      "Actors\t: Christian Bale, Tom Hardy\n",
      "**********************************************************************\n",
      "Title\t: Once Upon a Time in America\n",
      "Year\t: 1984\n",
      "Rating\t: 8.3\n",
      "Director: Sergio Leone\n",
      "Actors\t: Robert De Niro, James Woods\n",
      "**********************************************************************\n",
      "Title\t: Kimi no na wa.\n",
      "Year\t: 2016\n",
      "Rating\t: 8.3\n",
      "Director: Makoto Shinkai\n",
      "Actors\t: Ryûnosuke Kamiki, Mone Kamishiraishi\n",
      "**********************************************************************\n",
      "Title\t: Aliens\n",
      "Year\t: 1986\n",
      "Rating\t: 8.3\n",
      "Director: James Cameron\n",
      "Actors\t: Sigourney Weaver, Michael Biehn\n",
      "**********************************************************************\n",
      "Title\t: Coco\n",
      "Year\t: 2017\n",
      "Rating\t: 8.3\n",
      "Director: Lee Unkrich\n",
      "Actors\t: Anthony Gonzalez, Gael García Bernal\n",
      "**********************************************************************\n",
      "Title\t: Avengers: Endgame\n",
      "Year\t: 2019\n",
      "Rating\t: 8.3\n",
      "Director: Anthony Russo\n",
      "Actors\t: Robert Downey Jr., Chris Evans\n",
      "**********************************************************************\n",
      "Title\t: Capharnaüm\n",
      "Year\t: 2018\n",
      "Rating\t: 8.3\n",
      "Director: Nadine Labaki\n",
      "Actors\t: Zain Al Rafeea, Yordanos Shiferaw\n",
      "**********************************************************************\n",
      "Title\t: American Beauty\n",
      "Year\t: 1999\n",
      "Rating\t: 8.3\n",
      "Director: Sam Mendes\n",
      "Actors\t: Kevin Spacey, Annette Bening\n",
      "**********************************************************************\n",
      "Title\t: Braveheart\n",
      "Year\t: 1995\n",
      "Rating\t: 8.3\n",
      "Director: Mel Gibson\n",
      "Actors\t: Mel Gibson, Sophie Marceau\n",
      "**********************************************************************\n",
      "Title\t: Tengoku to jigoku\n",
      "Year\t: 1963\n",
      "Rating\t: 8.3\n",
      "Director: Akira Kurosawa\n",
      "Actors\t: Toshirô Mifune, Yutaka Sada\n",
      "**********************************************************************\n",
      "Title\t: Toy Story\n",
      "Year\t: 1995\n",
      "Rating\t: 8.3\n",
      "Director: John Lasseter\n",
      "Actors\t: Tom Hanks, Tim Allen\n",
      "**********************************************************************\n",
      "Title\t: Das Boot\n",
      "Year\t: 1981\n",
      "Rating\t: 8.3\n",
      "Director: Wolfgang Petersen\n",
      "Actors\t: Jürgen Prochnow, Herbert Grönemeyer\n",
      "**********************************************************************\n",
      "Title\t: 3 Idiots\n",
      "Year\t: 2009\n",
      "Rating\t: 8.3\n",
      "Director: Rajkumar Hirani\n",
      "Actors\t: Aamir Khan, Madhavan\n",
      "**********************************************************************\n",
      "Title\t: Amadeus\n",
      "Year\t: 1984\n",
      "Rating\t: 8.3\n",
      "Director: Milos Forman\n",
      "Actors\t: F. Murray Abraham, Tom Hulce\n",
      "**********************************************************************\n",
      "Title\t: Inglourious Basterds\n",
      "Year\t: 2009\n",
      "Rating\t: 8.3\n",
      "Director: Quentin Tarantino\n",
      "Actors\t: Brad Pitt, Diane Kruger\n",
      "**********************************************************************\n",
      "Title\t: Good Will Hunting\n",
      "Year\t: 1997\n",
      "Rating\t: 8.3\n",
      "Director: Gus Van Sant\n",
      "Actors\t: Robin Williams, Matt Damon\n",
      "**********************************************************************\n",
      "Title\t: Star Wars: Episode VI - Return of the Jedi\n",
      "Year\t: 1983\n",
      "Rating\t: 8.3\n",
      "Director: Richard Marquand\n",
      "Actors\t: Mark Hamill, Harrison Ford\n",
      "**********************************************************************\n",
      "Title\t: Taare Zameen Par\n",
      "Year\t: 2007\n",
      "Rating\t: 8.3\n",
      "Director: Aamir Khan\n",
      "Actors\t: Darsheel Safary, Aamir Khan\n",
      "**********************************************************************\n",
      "Title\t: Reservoir Dogs\n",
      "Year\t: 1992\n",
      "Rating\t: 8.3\n",
      "Director: Quentin Tarantino\n",
      "Actors\t: Harvey Keitel, Tim Roth\n",
      "**********************************************************************\n",
      "Title\t: 2001: Een zwerftocht in de ruimte\n",
      "Year\t: 1968\n",
      "Rating\t: 8.3\n",
      "Director: Stanley Kubrick\n",
      "Actors\t: Keir Dullea, Gary Lockwood\n",
      "**********************************************************************\n",
      "Title\t: Requiem for a Dream\n",
      "Year\t: 2000\n",
      "Rating\t: 8.3\n",
      "Director: Darren Aronofsky\n",
      "Actors\t: Ellen Burstyn, Jared Leto\n",
      "**********************************************************************\n",
      "Title\t: Jagten\n",
      "Year\t: 2012\n",
      "Rating\t: 8.3\n",
      "Director: Thomas Vinterberg\n",
      "Actors\t: Mads Mikkelsen, Thomas Bo Larsen\n",
      "**********************************************************************\n",
      "Title\t: Vertigo\n",
      "Year\t: 1958\n",
      "Rating\t: 8.3\n",
      "Director: Alfred Hitchcock\n",
      "Actors\t: James Stewart, Kim Novak\n",
      "**********************************************************************\n",
      "Title\t: M - Eine Stadt sucht einen Mörder\n",
      "Year\t: 1931\n",
      "Rating\t: 8.3\n",
      "Director: Fritz Lang\n",
      "Actors\t: Peter Lorre, Ellen Widmann\n",
      "**********************************************************************\n",
      "Title\t: Eternal Sunshine of the Spotless Mind\n",
      "Year\t: 2004\n",
      "Rating\t: 8.3\n",
      "Director: Michel Gondry\n",
      "Actors\t: Jim Carrey, Kate Winslet\n",
      "**********************************************************************\n",
      "Title\t: Citizen Kane\n",
      "Year\t: 1941\n",
      "Rating\t: 8.3\n",
      "Director: Orson Welles\n",
      "Actors\t: Orson Welles, Joseph Cotten\n",
      "**********************************************************************\n",
      "Title\t: Dangal\n",
      "Year\t: 2016\n",
      "Rating\t: 8.3\n",
      "Director: Nitesh Tiwari\n",
      "Actors\t: Aamir Khan, Sakshi Tanwar\n",
      "**********************************************************************\n",
      "Title\t: Idi i smotri\n",
      "Year\t: 1985\n",
      "Rating\t: 8.2\n",
      "Director: Elem Klimov\n",
      "Actors\t: Aleksey Kravchenko, Olga Mironova\n",
      "**********************************************************************\n",
      "Title\t: Singin' in the Rain\n",
      "Year\t: 1952\n",
      "Rating\t: 8.2\n",
      "Director: Stanley Donen\n",
      "Actors\t: Gene Kelly, Donald O'Connor\n",
      "**********************************************************************\n",
      "Title\t: The Kid\n",
      "Year\t: 1921\n",
      "Rating\t: 8.2\n",
      "Director: Charles Chaplin\n",
      "Actors\t: Charles Chaplin, Edna Purviance\n",
      "**********************************************************************\n",
      "Title\t: Ladri di biciclette\n",
      "Year\t: 1948\n",
      "Rating\t: 8.2\n",
      "Director: Vittorio De Sica\n",
      "Actors\t: Lamberto Maggiorani, Enzo Staiola\n",
      "**********************************************************************\n",
      "Title\t: Full Metal Jacket\n",
      "Year\t: 1987\n",
      "Rating\t: 8.2\n",
      "Director: Stanley Kubrick\n",
      "Actors\t: Matthew Modine, R. Lee Ermey\n",
      "**********************************************************************\n",
      "Title\t: Ikiru\n",
      "Year\t: 1952\n",
      "Rating\t: 8.2\n",
      "Director: Akira Kurosawa\n",
      "Actors\t: Takashi Shimura, Nobuo Kaneko\n",
      "**********************************************************************\n",
      "Title\t: Snatch\n",
      "Year\t: 2000\n",
      "Rating\t: 8.2\n",
      "Director: Guy Ritchie\n",
      "Actors\t: Jason Statham, Brad Pitt\n",
      "**********************************************************************\n",
      "Title\t: North by Northwest\n",
      "Year\t: 1959\n",
      "Rating\t: 8.2\n",
      "Director: Alfred Hitchcock\n",
      "Actors\t: Cary Grant, Eva Marie Saint\n",
      "**********************************************************************\n",
      "Title\t: Scarface\n",
      "Year\t: 1983\n",
      "Rating\t: 8.2\n",
      "Director: Brian De Palma\n",
      "Actors\t: Al Pacino, Michelle Pfeiffer\n",
      "**********************************************************************\n",
      "Title\t: A Clockwork Orange\n",
      "Year\t: 1971\n",
      "Rating\t: 8.2\n",
      "Director: Stanley Kubrick\n",
      "Actors\t: Malcolm McDowell, Patrick Magee\n",
      "**********************************************************************\n",
      "Title\t: 1917\n",
      "Year\t: 2019\n",
      "Rating\t: 8.2\n",
      "Director: Sam Mendes\n",
      "Actors\t: Dean-Charles Chapman, George MacKay\n",
      "**********************************************************************\n",
      "Title\t: Taxi Driver\n",
      "Year\t: 1976\n",
      "Rating\t: 8.2\n",
      "Director: Martin Scorsese\n",
      "Actors\t: Robert De Niro, Jodie Foster\n",
      "**********************************************************************\n",
      "Title\t: Incendies\n",
      "Year\t: 2010\n",
      "Rating\t: 8.2\n",
      "Director: Denis Villeneuve\n",
      "Actors\t: Lubna Azabal, Mélissa Désormeaux-Poulin\n",
      "**********************************************************************\n",
      "Title\t: A Separation\n",
      "Year\t: 2011\n",
      "Rating\t: 8.2\n",
      "Director: Asghar Farhadi\n",
      "Actors\t: Payman Maadi, Leila Hatami\n",
      "**********************************************************************\n",
      "Title\t: The Sting\n",
      "Year\t: 1973\n",
      "Rating\t: 8.2\n",
      "Director: George Roy Hill\n",
      "Actors\t: Paul Newman, Robert Redford\n",
      "**********************************************************************\n",
      "Title\t: Toy Story 3\n",
      "Year\t: 2010\n",
      "Rating\t: 8.2\n",
      "Director: Lee Unkrich\n",
      "Actors\t: Tom Hanks, Tim Allen\n",
      "**********************************************************************\n",
      "Title\t: Lawrence of Arabia\n",
      "Year\t: 1962\n",
      "Rating\t: 8.2\n",
      "Director: David Lean\n",
      "Actors\t: Peter O'Toole, Alec Guinness\n",
      "**********************************************************************\n",
      "Title\t: Amélie\n",
      "Year\t: 2001\n",
      "Rating\t: 8.2\n",
      "Director: Jean-Pierre Jeunet\n",
      "Actors\t: Audrey Tautou, Mathieu Kassovitz\n",
      "**********************************************************************\n",
      "Title\t: Metropolis\n",
      "Year\t: 1927\n",
      "Rating\t: 8.2\n",
      "Director: Fritz Lang\n",
      "Actors\t: Brigitte Helm, Alfred Abel\n",
      "**********************************************************************\n",
      "Title\t: Het appartement\n",
      "Year\t: 1960\n",
      "Rating\t: 8.2\n",
      "Director: Billy Wilder\n",
      "Actors\t: Jack Lemmon, Shirley MacLaine\n",
      "**********************************************************************\n",
      "Title\t: For a Few Dollars More\n",
      "Year\t: 1965\n",
      "Rating\t: 8.2\n",
      "Director: Sergio Leone\n",
      "Actors\t: Clint Eastwood, Lee Van Cleef\n",
      "**********************************************************************\n",
      "Title\t: Double Indemnity\n",
      "Year\t: 1944\n",
      "Rating\t: 8.2\n",
      "Director: Billy Wilder\n",
      "Actors\t: Fred MacMurray, Barbara Stanwyck\n",
      "**********************************************************************\n",
      "Title\t: To Kill a Mockingbird\n",
      "Year\t: 1962\n",
      "Rating\t: 8.2\n",
      "Director: Robert Mulligan\n",
      "Actors\t: Gregory Peck, John Megna\n",
      "**********************************************************************\n",
      "Title\t: Up\n",
      "Year\t: 2009\n",
      "Rating\t: 8.2\n",
      "Director: Pete Docter\n",
      "Actors\t: Edward Asner, Jordan Nagai\n",
      "**********************************************************************\n",
      "Title\t: Indiana Jones and the Last Crusade\n",
      "Year\t: 1989\n",
      "Rating\t: 8.2\n",
      "Director: Steven Spielberg\n",
      "Actors\t: Harrison Ford, Sean Connery\n",
      "**********************************************************************\n",
      "Title\t: Heat\n",
      "Year\t: 1995\n",
      "Rating\t: 8.2\n",
      "Director: Michael Mann\n",
      "Actors\t: Al Pacino, Robert De Niro\n",
      "**********************************************************************\n",
      "Title\t: L.A. Confidential\n",
      "Year\t: 1997\n",
      "Rating\t: 8.2\n",
      "Director: Curtis Hanson\n",
      "Actors\t: Kevin Spacey, Russell Crowe\n",
      "**********************************************************************\n",
      "Title\t: Green Book\n",
      "Year\t: 2018\n",
      "Rating\t: 8.2\n",
      "Director: Peter Farrelly\n",
      "Actors\t: Viggo Mortensen, Mahershala Ali\n",
      "**********************************************************************\n",
      "Title\t: Die Hard\n",
      "Year\t: 1988\n",
      "Rating\t: 8.2\n",
      "Director: John McTiernan\n",
      "Actors\t: Bruce Willis, Alan Rickman\n",
      "**********************************************************************\n",
      "Title\t: Batman Begins\n",
      "Year\t: 2005\n",
      "Rating\t: 8.2\n",
      "Director: Christopher Nolan\n",
      "Actors\t: Christian Bale, Michael Caine\n",
      "**********************************************************************\n",
      "Title\t: Yojinbo\n",
      "Year\t: 1961\n",
      "Rating\t: 8.2\n",
      "Director: Akira Kurosawa\n",
      "Actors\t: Toshirô Mifune, Eijirô Tôno\n",
      "**********************************************************************\n",
      "Title\t: Monty Python and the Holy Grail\n",
      "Year\t: 1975\n",
      "Rating\t: 8.2\n",
      "Director: Terry Gilliam\n",
      "Actors\t: Graham Chapman, John Cleese\n",
      "**********************************************************************\n",
      "Title\t: Rashomon\n",
      "Year\t: 1950\n",
      "Rating\t: 8.2\n",
      "Director: Akira Kurosawa\n",
      "Actors\t: Toshirô Mifune, Machiko Kyô\n",
      "**********************************************************************\n",
      "Title\t: Der Untergang\n",
      "Year\t: 2004\n",
      "Rating\t: 8.2\n",
      "Director: Oliver Hirschbiegel\n",
      "Actors\t: Bruno Ganz, Alexandra Maria Lara\n",
      "**********************************************************************\n",
      "Title\t: Bacheha-Ye aseman\n",
      "Year\t: 1997\n",
      "Rating\t: 8.2\n",
      "Director: Majid Majidi\n",
      "Actors\t: Mohammad Amir Naji, Amir Farrokh Hashemian\n",
      "**********************************************************************\n",
      "Title\t: The Father\n",
      "Year\t: 2020\n",
      "Rating\t: 8.2\n",
      "Director: Florian Zeller\n",
      "Actors\t: Anthony Hopkins, Olivia Colman\n",
      "**********************************************************************\n",
      "Title\t: Ran\n",
      "Year\t: 1985\n",
      "Rating\t: 8.2\n",
      "Director: Akira Kurosawa\n",
      "Actors\t: Tatsuya Nakadai, Akira Terao\n",
      "**********************************************************************\n",
      "Title\t: Unforgiven\n",
      "Year\t: 1992\n",
      "Rating\t: 8.2\n",
      "Director: Clint Eastwood\n",
      "Actors\t: Clint Eastwood, Gene Hackman\n",
      "**********************************************************************\n",
      "Title\t: Some Like It Hot\n",
      "Year\t: 1959\n",
      "Rating\t: 8.2\n",
      "Director: Billy Wilder\n",
      "Actors\t: Marilyn Monroe, Tony Curtis\n",
      "**********************************************************************\n",
      "Title\t: Hauru no ugoku shiro\n",
      "Year\t: 2004\n",
      "Rating\t: 8.2\n",
      "Director: Hayao Miyazaki\n",
      "Actors\t: Chieko Baishô, Takuya Kimura\n",
      "**********************************************************************\n",
      "Title\t: All About Eve\n",
      "Year\t: 1950\n",
      "Rating\t: 8.2\n",
      "Director: Joseph L. Mankiewicz\n",
      "Actors\t: Bette Davis, Anne Baxter\n",
      "**********************************************************************\n",
      "Title\t: Casino\n",
      "Year\t: 1995\n",
      "Rating\t: 8.2\n",
      "Director: Martin Scorsese\n",
      "Actors\t: Robert De Niro, Sharon Stone\n",
      "**********************************************************************\n",
      "Title\t: The Wolf of Wall Street\n",
      "Year\t: 2013\n",
      "Rating\t: 8.2\n",
      "Director: Martin Scorsese\n",
      "Actors\t: Leonardo DiCaprio, Jonah Hill\n",
      "**********************************************************************\n",
      "Title\t: A Beautiful Mind\n",
      "Year\t: 2001\n",
      "Rating\t: 8.2\n",
      "Director: Ron Howard\n",
      "Actors\t: Russell Crowe, Ed Harris\n",
      "**********************************************************************\n",
      "Title\t: The Great Escape\n",
      "Year\t: 1963\n",
      "Rating\t: 8.2\n",
      "Director: John Sturges\n",
      "Actors\t: Steve McQueen, James Garner\n",
      "**********************************************************************\n",
      "Title\t: Pan's Labyrinth\n",
      "Year\t: 2006\n",
      "Rating\t: 8.2\n",
      "Director: Guillermo del Toro\n",
      "Actors\t: Ivana Baquero, Ariadna Gil\n",
      "**********************************************************************\n",
      "Title\t: There Will Be Blood\n",
      "Year\t: 2007\n",
      "Rating\t: 8.1\n",
      "Director: Paul Thomas Anderson\n",
      "Actors\t: Daniel Day-Lewis, Paul Dano\n",
      "**********************************************************************\n",
      "Title\t: El secreto de sus ojos\n",
      "Year\t: 2009\n",
      "Rating\t: 8.1\n",
      "Director: Juan José Campanella\n",
      "Actors\t: Ricardo Darín, Soledad Villamil\n",
      "**********************************************************************\n",
      "Title\t: Oordeel te Neurenberg\n",
      "Year\t: 1961\n",
      "Rating\t: 8.1\n",
      "Director: Stanley Kramer\n",
      "Actors\t: Spencer Tracy, Burt Lancaster\n",
      "**********************************************************************\n",
      "Title\t: Lock, Stock and Two Smoking Barrels\n",
      "Year\t: 1998\n",
      "Rating\t: 8.1\n",
      "Director: Guy Ritchie\n",
      "Actors\t: Jason Flemyng, Dexter Fletcher\n",
      "**********************************************************************\n",
      "Title\t: Raging Bull\n",
      "Year\t: 1980\n",
      "Rating\t: 8.1\n",
      "Director: Martin Scorsese\n",
      "Actors\t: Robert De Niro, Cathy Moriarty\n",
      "**********************************************************************\n",
      "Title\t: Tonari no Totoro\n",
      "Year\t: 1988\n",
      "Rating\t: 8.1\n",
      "Director: Hayao Miyazaki\n",
      "Actors\t: Hitoshi Takagi, Noriko Hidaka\n",
      "**********************************************************************\n",
      "Title\t: The Treasure of the Sierra Madre\n",
      "Year\t: 1948\n",
      "Rating\t: 8.1\n",
      "Director: John Huston\n",
      "Actors\t: Humphrey Bogart, Walter Huston\n",
      "**********************************************************************\n",
      "Title\t: Dial M for Murder\n",
      "Year\t: 1954\n",
      "Rating\t: 8.1\n",
      "Director: Alfred Hitchcock\n",
      "Actors\t: Ray Milland, Grace Kelly\n",
      "**********************************************************************\n",
      "Title\t: Shutter Island\n",
      "Year\t: 2010\n",
      "Rating\t: 8.1\n",
      "Director: Martin Scorsese\n",
      "Actors\t: Leonardo DiCaprio, Emily Mortimer\n",
      "**********************************************************************\n",
      "Title\t: Three Billboards Outside Ebbing, Missouri\n",
      "Year\t: 2017\n",
      "Rating\t: 8.1\n",
      "Director: Martin McDonagh\n",
      "Actors\t: Frances McDormand, Woody Harrelson\n",
      "**********************************************************************\n",
      "Title\t: The Gold Rush\n",
      "Year\t: 1925\n",
      "Rating\t: 8.1\n",
      "Director: Charles Chaplin\n",
      "Actors\t: Charles Chaplin, Mack Swain\n",
      "**********************************************************************\n",
      "Title\t: Babam ve Oglum\n",
      "Year\t: 2005\n",
      "Rating\t: 8.1\n",
      "Director: Çagan Irmak\n",
      "Actors\t: Eser Sariyar, Çetin Tekindor\n",
      "**********************************************************************\n",
      "Title\t: Chinatown\n",
      "Year\t: 1974\n",
      "Rating\t: 8.1\n",
      "Director: Roman Polanski\n",
      "Actors\t: Jack Nicholson, Faye Dunaway\n",
      "**********************************************************************\n",
      "Title\t: No Country for Old Men\n",
      "Year\t: 2007\n",
      "Rating\t: 8.1\n",
      "Director: Ethan Coen\n",
      "Actors\t: Tommy Lee Jones, Javier Bardem\n",
      "**********************************************************************\n",
      "Title\t: V for Vendetta\n",
      "Year\t: 2005\n",
      "Rating\t: 8.1\n",
      "Director: James McTeigue\n",
      "Actors\t: Hugo Weaving, Natalie Portman\n",
      "**********************************************************************\n",
      "Title\t: Binnenstebuiten\n",
      "Year\t: 2015\n",
      "Rating\t: 8.1\n",
      "Director: Pete Docter\n",
      "Actors\t: Amy Poehler, Bill Hader\n",
      "**********************************************************************\n",
      "Title\t: The Thing\n",
      "Year\t: 1982\n",
      "Rating\t: 8.1\n",
      "Director: John Carpenter\n",
      "Actors\t: Kurt Russell, Wilford Brimley\n",
      "**********************************************************************\n",
      "Title\t: The Elephant Man\n",
      "Year\t: 1980\n",
      "Rating\t: 8.1\n",
      "Director: David Lynch\n",
      "Actors\t: Anthony Hopkins, John Hurt\n",
      "**********************************************************************\n",
      "Title\t: Det sjunde inseglet\n",
      "Year\t: 1957\n",
      "Rating\t: 8.1\n",
      "Director: Ingmar Bergman\n",
      "Actors\t: Max von Sydow, Gunnar Björnstrand\n",
      "**********************************************************************\n",
      "Title\t: The Sixth Sense\n",
      "Year\t: 1999\n",
      "Rating\t: 8.1\n",
      "Director: M. Night Shyamalan\n",
      "Actors\t: Bruce Willis, Haley Joel Osment\n",
      "**********************************************************************\n",
      "Title\t: Warrior\n",
      "Year\t: 2011\n",
      "Rating\t: 8.1\n",
      "Director: Gavin O'Connor\n",
      "Actors\t: Tom Hardy, Nick Nolte\n",
      "**********************************************************************\n",
      "Title\t: Jurassic Park\n",
      "Year\t: 1993\n",
      "Rating\t: 8.1\n",
      "Director: Steven Spielberg\n",
      "Actors\t: Sam Neill, Laura Dern\n",
      "**********************************************************************\n",
      "Title\t: Klaus\n",
      "Year\t: 2019\n",
      "Rating\t: 8.1\n",
      "Director: Sergio Pablos\n",
      "Actors\t: Jason Schwartzman, J.K. Simmons\n",
      "**********************************************************************\n",
      "Title\t: Trainspotting\n",
      "Year\t: 1996\n",
      "Rating\t: 8.1\n",
      "Director: Danny Boyle\n",
      "Actors\t: Ewan McGregor, Ewen Bremner\n",
      "**********************************************************************\n",
      "Title\t: The Truman Show\n",
      "Year\t: 1998\n",
      "Rating\t: 8.1\n",
      "Director: Peter Weir\n",
      "Actors\t: Jim Carrey, Ed Harris\n",
      "**********************************************************************\n",
      "Title\t: Gejaagd door de wind\n",
      "Year\t: 1939\n",
      "Rating\t: 8.1\n",
      "Director: Victor Fleming\n",
      "Actors\t: Clark Gable, Vivien Leigh\n",
      "**********************************************************************\n",
      "Title\t: Finding Nemo\n",
      "Year\t: 2003\n",
      "Rating\t: 8.1\n",
      "Director: Andrew Stanton\n",
      "Actors\t: Albert Brooks, Ellen DeGeneres\n",
      "**********************************************************************\n",
      "Title\t: Stalker\n",
      "Year\t: 1979\n",
      "Rating\t: 8.1\n",
      "Director: Andrei Tarkovsky\n",
      "Actors\t: Alisa Freyndlikh, Aleksandr Kaydanovskiy\n",
      "**********************************************************************\n",
      "Title\t: Salinui chueok\n",
      "Year\t: 2003\n",
      "Rating\t: 8.1\n",
      "Director: Bong Joon Ho\n",
      "Actors\t: Kang-ho Song, Kim Sang-kyung\n",
      "**********************************************************************\n",
      "Title\t: Smultronstället\n",
      "Year\t: 1957\n",
      "Rating\t: 8.1\n",
      "Director: Ingmar Bergman\n",
      "Actors\t: Victor Sjöström, Bibi Andersson\n",
      "**********************************************************************\n",
      "Title\t: Kill Bill: Vol. 1\n",
      "Year\t: 2003\n",
      "Rating\t: 8.1\n",
      "Director: Quentin Tarantino\n",
      "Actors\t: Uma Thurman, David Carradine\n",
      "**********************************************************************\n",
      "Title\t: Blade Runner\n",
      "Year\t: 1982\n",
      "Rating\t: 8.1\n",
      "Director: Ridley Scott\n",
      "Actors\t: Harrison Ford, Rutger Hauer\n",
      "**********************************************************************\n",
      "Title\t: Fargo\n",
      "Year\t: 1996\n",
      "Rating\t: 8.1\n",
      "Director: Joel Coen\n",
      "Actors\t: William H. Macy, Frances McDormand\n",
      "**********************************************************************\n",
      "Title\t: The Bridge on the River Kwai\n",
      "Year\t: 1957\n",
      "Rating\t: 8.1\n",
      "Director: David Lean\n",
      "Actors\t: William Holden, Alec Guinness\n",
      "**********************************************************************\n",
      "Title\t: Relatos salvajes\n",
      "Year\t: 2014\n",
      "Rating\t: 8.1\n",
      "Director: Damián Szifron\n",
      "Actors\t: Darío Grandinetti, María Marull\n",
      "**********************************************************************\n",
      "Title\t: Tôkyô monogatari\n",
      "Year\t: 1953\n",
      "Rating\t: 8.1\n",
      "Director: Yasujirô Ozu\n",
      "Actors\t: Chishû Ryû, Chieko Higashiyama\n",
      "**********************************************************************\n",
      "Title\t: Gran Torino\n",
      "Year\t: 2008\n",
      "Rating\t: 8.1\n",
      "Director: Clint Eastwood\n",
      "Actors\t: Clint Eastwood, Bee Vang\n",
      "**********************************************************************\n",
      "Title\t: Room\n",
      "Year\t: 2015\n",
      "Rating\t: 8.1\n",
      "Director: Lenny Abrahamson\n",
      "Actors\t: Brie Larson, Jacob Tremblay\n",
      "**********************************************************************\n",
      "Title\t: The Third Man\n",
      "Year\t: 1949\n",
      "Rating\t: 8.1\n",
      "Director: Carol Reed\n",
      "Actors\t: Orson Welles, Joseph Cotten\n",
      "**********************************************************************\n",
      "Title\t: On the Waterfront\n",
      "Year\t: 1954\n",
      "Rating\t: 8.1\n",
      "Director: Elia Kazan\n",
      "Actors\t: Marlon Brando, Karl Malden\n",
      "**********************************************************************\n",
      "Title\t: The Deer Hunter\n",
      "Year\t: 1978\n",
      "Rating\t: 8.1\n",
      "Director: Michael Cimino\n",
      "Actors\t: Robert De Niro, Christopher Walken\n",
      "**********************************************************************\n",
      "Title\t: In the Name of the Father\n",
      "Year\t: 1993\n",
      "Rating\t: 8.1\n",
      "Director: Jim Sheridan\n",
      "Actors\t: Daniel Day-Lewis, Pete Postlethwaite\n",
      "**********************************************************************\n",
      "Title\t: Before Sunrise\n",
      "Year\t: 1995\n",
      "Rating\t: 8.1\n",
      "Director: Richard Linklater\n",
      "Actors\t: Ethan Hawke, Julie Delpy\n",
      "**********************************************************************\n",
      "Title\t: Mary and Max\n",
      "Year\t: 2009\n",
      "Rating\t: 8.1\n",
      "Director: Adam Elliot\n",
      "Actors\t: Toni Collette, Philip Seymour Hoffman\n",
      "**********************************************************************\n",
      "Title\t: The Grand Budapest Hotel\n",
      "Year\t: 2014\n",
      "Rating\t: 8.1\n",
      "Director: Wes Anderson\n",
      "Actors\t: Ralph Fiennes, F. Murray Abraham\n",
      "**********************************************************************\n",
      "Title\t: Catch Me If You Can\n",
      "Year\t: 2002\n",
      "Rating\t: 8.1\n",
      "Director: Steven Spielberg\n",
      "Actors\t: Leonardo DiCaprio, Tom Hanks\n",
      "**********************************************************************\n",
      "Title\t: Gone Girl\n",
      "Year\t: 2014\n",
      "Rating\t: 8.1\n",
      "Director: David Fincher\n",
      "Actors\t: Ben Affleck, Rosamund Pike\n",
      "**********************************************************************\n",
      "Title\t: Hacksaw Ridge\n",
      "Year\t: 2016\n",
      "Rating\t: 8.1\n",
      "Director: Mel Gibson\n",
      "Actors\t: Andrew Garfield, Sam Worthington\n",
      "**********************************************************************\n",
      "Title\t: Prisoners\n",
      "Year\t: 2013\n",
      "Rating\t: 8.1\n",
      "Director: Denis Villeneuve\n",
      "Actors\t: Hugh Jackman, Jake Gyllenhaal\n",
      "**********************************************************************\n",
      "Title\t: Persona\n",
      "Year\t: 1966\n",
      "Rating\t: 8.1\n",
      "Director: Ingmar Bergman\n",
      "Actors\t: Bibi Andersson, Liv Ullmann\n",
      "**********************************************************************\n",
      "Title\t: Sherlock Jr.\n",
      "Year\t: 1924\n",
      "Rating\t: 8.1\n",
      "Director: Buster Keaton\n",
      "Actors\t: Buster Keaton, Kathryn McGuire\n",
      "**********************************************************************\n",
      "Title\t: Andhadhun\n",
      "Year\t: 2018\n",
      "Rating\t: 8.1\n",
      "Director: Sriram Raghavan\n",
      "Actors\t: Ayushmann Khurrana, Tabu\n",
      "**********************************************************************\n",
      "Title\t: The Big Lebowski\n",
      "Year\t: 1998\n",
      "Rating\t: 8.1\n",
      "Director: Joel Coen\n",
      "Actors\t: Jeff Bridges, John Goodman\n",
      "**********************************************************************\n",
      "Title\t: Barry Lyndon\n",
      "Year\t: 1975\n",
      "Rating\t: 8.1\n",
      "Director: Stanley Kubrick\n",
      "Actors\t: Ryan O'Neal, Marisa Berenson\n",
      "**********************************************************************\n",
      "Title\t: Gevaarlijk spel\n",
      "Year\t: 1942\n",
      "Rating\t: 8.1\n",
      "Director: Ernst Lubitsch\n",
      "Actors\t: Carole Lombard, Jack Benny\n",
      "**********************************************************************\n",
      "Title\t: The General\n",
      "Year\t: 1926\n",
      "Rating\t: 8.1\n",
      "Director: Clyde Bruckman\n",
      "Actors\t: Buster Keaton, Marion Mack\n",
      "**********************************************************************\n",
      "Title\t: Le Mans '66\n",
      "Year\t: 2019\n",
      "Rating\t: 8.1\n",
      "Director: James Mangold\n",
      "Actors\t: Matt Damon, Christian Bale\n",
      "**********************************************************************\n",
      "Title\t: How to Train Your Dragon\n",
      "Year\t: 2010\n",
      "Rating\t: 8.1\n",
      "Director: Dean DeBlois\n",
      "Actors\t: Jay Baruchel, Gerard Butler\n",
      "**********************************************************************\n",
      "Title\t: 12 Years a Slave\n",
      "Year\t: 2013\n",
      "Rating\t: 8.1\n",
      "Director: Steve McQueen\n",
      "Actors\t: Chiwetel Ejiofor, Michael Kenneth Williams\n",
      "**********************************************************************\n",
      "Title\t: Eskiya\n",
      "Year\t: 1996\n",
      "Rating\t: 8.1\n",
      "Director: Yavuz Turgul\n",
      "Actors\t: Sener Sen, Ugur Yücel\n",
      "**********************************************************************\n",
      "Title\t: Mr. Smith Goes to Washington\n",
      "Year\t: 1939\n",
      "Rating\t: 8.1\n",
      "Director: Frank Capra\n",
      "Actors\t: James Stewart, Jean Arthur\n",
      "**********************************************************************\n",
      "Title\t: Höstsonaten\n",
      "Year\t: 1978\n",
      "Rating\t: 8.1\n",
      "Director: Ingmar Bergman\n",
      "Actors\t: Ingrid Bergman, Liv Ullmann\n",
      "**********************************************************************\n",
      "Title\t: Mad Max: Fury Road\n",
      "Year\t: 2015\n",
      "Rating\t: 8.1\n",
      "Director: George Miller\n",
      "Actors\t: Tom Hardy, Charlize Theron\n",
      "**********************************************************************\n",
      "Title\t: Dead Poets Society\n",
      "Year\t: 1989\n",
      "Rating\t: 8.1\n",
      "Director: Peter Weir\n",
      "Actors\t: Robin Williams, Robert Sean Leonard\n",
      "**********************************************************************\n",
      "Title\t: Million Dollar Baby\n",
      "Year\t: 2004\n",
      "Rating\t: 8.1\n",
      "Director: Clint Eastwood\n",
      "Actors\t: Hilary Swank, Clint Eastwood\n",
      "**********************************************************************\n",
      "Title\t: Harry Potter and the Deathly Hallows: Part 2\n",
      "Year\t: 2011\n",
      "Rating\t: 8.1\n",
      "Director: David Yates\n",
      "Actors\t: Daniel Radcliffe, Emma Watson\n",
      "**********************************************************************\n",
      "Title\t: Stand by Me\n",
      "Year\t: 1986\n",
      "Rating\t: 8.1\n",
      "Director: Rob Reiner\n",
      "Actors\t: Wil Wheaton, River Phoenix\n",
      "**********************************************************************\n",
      "Title\t: Ben Hur\n",
      "Year\t: 1959\n",
      "Rating\t: 8.1\n",
      "Director: William Wyler\n",
      "Actors\t: Charlton Heston, Jack Hawkins\n",
      "**********************************************************************\n",
      "Title\t: Network\n",
      "Year\t: 1976\n",
      "Rating\t: 8.1\n",
      "Director: Sidney Lumet\n",
      "Actors\t: Faye Dunaway, William Holden\n",
      "**********************************************************************\n",
      "Title\t: Hachi\n",
      "Year\t: 2009\n",
      "Rating\t: 8.1\n",
      "Director: Lasse Hallström\n",
      "Actors\t: Richard Gere, Joan Allen\n",
      "**********************************************************************\n",
      "Title\t: Anand\n",
      "Year\t: 1971\n",
      "Rating\t: 8.1\n",
      "Director: Hrishikesh Mukherjee\n",
      "Actors\t: Rajesh Khanna, Amitabh Bachchan\n",
      "**********************************************************************\n",
      "Title\t: Ah-ga-ssi\n",
      "Year\t: 2016\n",
      "Rating\t: 8.1\n",
      "Director: Chan-wook Park\n",
      "Actors\t: Kim Min-hee, Jung-woo Ha\n",
      "**********************************************************************\n",
      "Title\t: Cool Hand Luke\n",
      "Year\t: 1967\n",
      "Rating\t: 8.1\n",
      "Director: Stuart Rosenberg\n",
      "Actors\t: Paul Newman, George Kennedy\n",
      "**********************************************************************\n",
      "Title\t: Logan\n",
      "Year\t: 2017\n",
      "Rating\t: 8.1\n",
      "Director: James Mangold\n",
      "Actors\t: Hugh Jackman, Patrick Stewart\n",
      "**********************************************************************\n",
      "Title\t: Platoon\n",
      "Year\t: 1986\n",
      "Rating\t: 8.0\n",
      "Director: Oliver Stone\n",
      "Actors\t: Charlie Sheen, Tom Berenger\n",
      "**********************************************************************\n",
      "Title\t: Het loon van de Angst\n",
      "Year\t: 1953\n",
      "Rating\t: 8.0\n",
      "Director: Henri-Georges Clouzot\n",
      "Actors\t: Yves Montand, Charles Vanel\n",
      "**********************************************************************\n",
      "Title\t: Rush\n",
      "Year\t: 2013\n",
      "Rating\t: 8.0\n",
      "Director: Ron Howard\n",
      "Actors\t: Daniel Brühl, Chris Hemsworth\n",
      "**********************************************************************\n",
      "Title\t: Into the Wild\n",
      "Year\t: 2007\n",
      "Rating\t: 8.0\n",
      "Director: Sean Penn\n",
      "Actors\t: Emile Hirsch, Vince Vaughn\n",
      "**********************************************************************\n",
      "Title\t: La haine\n",
      "Year\t: 1995\n",
      "Rating\t: 8.0\n",
      "Director: Mathieu Kassovitz\n",
      "Actors\t: Vincent Cassel, Hubert Koundé\n",
      "**********************************************************************\n",
      "Title\t: La passion de Jeanne d'Arc\n",
      "Year\t: 1928\n",
      "Rating\t: 8.0\n",
      "Director: Carl Theodor Dreyer\n",
      "Actors\t: Maria Falconetti, Eugene Silvain\n",
      "**********************************************************************\n",
      "Title\t: Les quatre cents coups\n",
      "Year\t: 1959\n",
      "Rating\t: 8.0\n",
      "Director: François Truffaut\n",
      "Actors\t: Jean-Pierre Léaud, Albert Rémy\n",
      "**********************************************************************\n",
      "Title\t: Monty Python's Life of Brian\n",
      "Year\t: 1979\n",
      "Rating\t: 8.0\n",
      "Director: Terry Jones\n",
      "Actors\t: Graham Chapman, John Cleese\n",
      "**********************************************************************\n",
      "Title\t: Spotlight\n",
      "Year\t: 2015\n",
      "Rating\t: 8.0\n",
      "Director: Tom McCarthy\n",
      "Actors\t: Mark Ruffalo, Michael Keaton\n",
      "**********************************************************************\n",
      "Title\t: Gangs of Wasseypur\n",
      "Year\t: 2012\n",
      "Rating\t: 8.0\n",
      "Director: Anurag Kashyap\n",
      "Actors\t: Manoj Bajpayee, Richa Chadha\n",
      "**********************************************************************\n",
      "Title\t: Hotel Rwanda\n",
      "Year\t: 2004\n",
      "Rating\t: 8.0\n",
      "Director: Terry George\n",
      "Actors\t: Don Cheadle, Sophie Okonedo\n",
      "**********************************************************************\n",
      "Title\t: Amores perros\n",
      "Year\t: 2000\n",
      "Rating\t: 8.0\n",
      "Director: Alejandro G. Iñárritu\n",
      "Actors\t: Emilio Echevarría, Gael García Bernal\n",
      "**********************************************************************\n",
      "Title\t: Monsters, Inc.\n",
      "Year\t: 2001\n",
      "Rating\t: 8.0\n",
      "Director: Pete Docter\n",
      "Actors\t: Billy Crystal, John Goodman\n",
      "**********************************************************************\n",
      "Title\t: Andrei Rublev\n",
      "Year\t: 1966\n",
      "Rating\t: 8.0\n",
      "Director: Andrei Tarkovsky\n",
      "Actors\t: Anatoliy Solonitsyn, Ivan Lapikov\n",
      "**********************************************************************\n",
      "Title\t: Rocky\n",
      "Year\t: 1976\n",
      "Rating\t: 8.0\n",
      "Director: John G. Avildsen\n",
      "Actors\t: Sylvester Stallone, Talia Shire\n",
      "**********************************************************************\n",
      "Title\t: Soul\n",
      "Year\t: 2020\n",
      "Rating\t: 8.0\n",
      "Director: Pete Docter\n",
      "Actors\t: Jamie Foxx, Tina Fey\n",
      "**********************************************************************\n",
      "Title\t: Kaze no tani no Naushika\n",
      "Year\t: 1984\n",
      "Rating\t: 8.0\n",
      "Director: Hayao Miyazaki\n",
      "Actors\t: Sumi Shimamoto, Mahito Tsujimura\n",
      "**********************************************************************\n",
      "Title\t: Rebecca\n",
      "Year\t: 1940\n",
      "Rating\t: 8.0\n",
      "Director: Alfred Hitchcock\n",
      "Actors\t: Laurence Olivier, Joan Fontaine\n",
      "**********************************************************************\n",
      "Title\t: Before Sunset\n",
      "Year\t: 2004\n",
      "Rating\t: 8.0\n",
      "Director: Richard Linklater\n",
      "Actors\t: Ethan Hawke, Julie Delpy\n",
      "**********************************************************************\n",
      "Title\t: Fa yeung nin wah\n",
      "Year\t: 2000\n",
      "Rating\t: 8.0\n",
      "Director: Kar-Wai Wong\n",
      "Actors\t: Tony Chiu-Wai Leung, Maggie Cheung\n",
      "**********************************************************************\n",
      "Title\t: Ratsasan\n",
      "Year\t: 2018\n",
      "Rating\t: 8.0\n",
      "Director: Ram Kumar\n",
      "Actors\t: Vishnu Vishal, Amala Paul\n",
      "**********************************************************************\n",
      "Title\t: Dom za vesanje\n",
      "Year\t: 1988\n",
      "Rating\t: 8.0\n",
      "Director: Emir Kusturica\n",
      "Actors\t: Davor Dujmovic, Bora Todorovic\n",
      "**********************************************************************\n",
      "Title\t: Rang De Basanti\n",
      "Year\t: 2006\n",
      "Rating\t: 8.0\n",
      "Director: Rakeysh Omprakash Mehra\n",
      "Actors\t: Aamir Khan, Soha Ali Khan\n",
      "**********************************************************************\n",
      "Title\t: Du rififi chez les hommes\n",
      "Year\t: 1955\n",
      "Rating\t: 8.0\n",
      "Director: Jules Dassin\n",
      "Actors\t: Jean Servais, Carl Möhner\n",
      "**********************************************************************\n",
      "Title\t: Paris, Texas\n",
      "Year\t: 1984\n",
      "Rating\t: 8.0\n",
      "Director: Wim Wenders\n",
      "Actors\t: Harry Dean Stanton, Nastassja Kinski\n",
      "**********************************************************************\n",
      "Title\t: Drishyam\n",
      "Year\t: 2013\n",
      "Rating\t: 8.0\n",
      "Director: Jeethu Joseph\n",
      "Actors\t: Mohanlal, Meena\n",
      "**********************************************************************\n",
      "Title\t: Zack Snyder's Justice League\n",
      "Year\t: 2021\n",
      "Rating\t: 8.0\n",
      "Director: Zack Snyder\n",
      "Actors\t: Henry Cavill, Ben Affleck\n",
      "**********************************************************************\n",
      "Title\t: Portrait de la jeune fille en feu\n",
      "Year\t: 2019\n",
      "Rating\t: 8.0\n",
      "Director: Céline Sciamma\n",
      "Actors\t: Noémie Merlant, Adèle Haenel\n",
      "**********************************************************************\n",
      "Title\t: Het gebeurde op 'n avond\n",
      "Year\t: 1934\n",
      "Rating\t: 8.0\n",
      "Director: Frank Capra\n",
      "Actors\t: Clark Gable, Claudette Colbert\n",
      "**********************************************************************\n",
      "Title\t: Mandariinid\n",
      "Year\t: 2013\n",
      "Rating\t: 8.0\n",
      "Director: Zaza Urushadze\n",
      "Actors\t: Lembit Ulfsak, Elmo Nüganen\n",
      "**********************************************************************\n",
      "Title\t: Drishyam\n",
      "Year\t: 2015\n",
      "Rating\t: 8.0\n",
      "Director: Nishikant Kamat\n",
      "Actors\t: Ajay Devgn, Shriya Saran\n",
      "**********************************************************************\n",
      "Title\t: Song of the Sea\n",
      "Year\t: 2014\n",
      "Rating\t: 8.0\n",
      "Director: Tomm Moore\n",
      "Actors\t: David Rawle, Brendan Gleeson\n",
      "**********************************************************************\n",
      "Title\t: De slag om Algiers\n",
      "Year\t: 1966\n",
      "Rating\t: 8.0\n",
      "Director: Gillo Pontecorvo\n",
      "Actors\t: Brahim Hadjadj, Jean Martin\n",
      "**********************************************************************\n"
     ]
    }
   ],
   "source": [
    "import requests\n",
    "from bs4 import BeautifulSoup\n",
    "import html5lib\n",
    "\n",
    "url = 'https://www.imdb.com/chart/top/'\n",
    "html=requests.get(url).content\n",
    "soup=BeautifulSoup(html,\"html5lib\")\n",
    "print(soup.title.text,\"\\n\",70*'*',sep='')\n",
    "\n",
    "List =soup.find('tbody',{'class':'lister-list'}).find_all('tr')\n",
    "for film in List:\n",
    "    title = film.find('td',{'class':'titleColumn'}).a.text\n",
    "    year = film.find('td',{'class':'titleColumn'}).span.text.strip('()')\n",
    "    rating = film.find('td',{'class':'ratingColumn imdbRating'}).strong.text\n",
    "    director = film.find('td',{'class':'titleColumn'}).a.get('title').split(' (dir.), ')[0]\n",
    "    actors = film.find('td',{'class':'titleColumn'}).a.get('title').split(' (dir.), ')[1]\n",
    "        \n",
    "    show=f'''Title\\t: {title}\n",
    "Year\\t: {year}\n",
    "Rating\\t: {rating}\n",
    "Director: {director}\n",
    "Actors\\t: {actors}'''\n",
    "    print(show)\n",
    "    print(70*\"*\")"
   ]
  },
  {
   "cell_type": "markdown",
   "id": "9ff7af9d",
   "metadata": {},
   "source": [
    "# arabam\n",
    "https://www.arabam.com/"
   ]
  },
  {
   "cell_type": "code",
   "execution_count": 96,
   "id": "6645f492",
   "metadata": {},
   "outputs": [
    {
     "name": "stdout",
     "output_type": "stream",
     "text": [
      "arabam.com: 2. El ve 0 Km Satılık Araç İlanları Platformu\n",
      "**********************************************************************\n",
      "City\t: Antalya\n",
      "Year\t: 1966\n",
      "Model\t:  Volkswagen Golf 1.6 TDi BlueMotio...  \n",
      "Price\t: Gillo Pontecorvo\n",
      "Actors\t: 225.500 TL\n",
      "**********************************************************************\n",
      "City\t: Antalya\n",
      "Year\t: 1966\n",
      "Model\t:  Volkswagen Golf 1.6 TDi BlueMotio...  \n",
      "Price\t: Gillo Pontecorvo\n",
      "Actors\t: 225.500 TL\n",
      "**********************************************************************\n",
      "City\t: Antalya\n",
      "Year\t: 1966\n",
      "Model\t:  Volkswagen Golf 1.6 TDi BlueMotio...  \n",
      "Price\t: Gillo Pontecorvo\n",
      "Actors\t: 225.500 TL\n",
      "**********************************************************************\n",
      "City\t: Antalya\n",
      "Year\t: 1966\n",
      "Model\t:  Volkswagen Golf 1.6 TDi BlueMotio...  \n",
      "Price\t: Gillo Pontecorvo\n",
      "Actors\t: 225.500 TL\n",
      "**********************************************************************\n",
      "City\t: Ankara\n",
      "Year\t: 2001\n",
      "Model\t: Mercedes - Benz CLK 200 Kompresso...\n",
      "Price\t: Gillo Pontecorvo\n",
      "Actors\t: 112.750 TL\n",
      "**********************************************************************\n",
      "City\t: İzmir\n",
      "Year\t: 2011\n",
      "Model\t: Ford Focus 1.6 TDCi Collection\n",
      "Price\t: Gillo Pontecorvo\n",
      "Actors\t: 113.750 TL\n",
      "**********************************************************************\n",
      "City\t: Burdur\n",
      "Year\t: 2012\n",
      "Model\t: Hyundai Accent Blue 1.6 CRDI Biz\n",
      "Price\t: Gillo Pontecorvo\n",
      "Actors\t: 117.000 TL\n",
      "**********************************************************************\n",
      "City\t: İzmir\n",
      "Year\t: 2014\n",
      "Model\t: Ford Tourneo Courier 1.6 TDCi Tit...\n",
      "Price\t: Gillo Pontecorvo\n",
      "Actors\t: 118.000 TL\n",
      "**********************************************************************\n",
      "City\t: İstanbul\n",
      "Year\t: 2016\n",
      "Model\t: Mercedes - Benz CLA 200 AMG\n",
      "Price\t: Gillo Pontecorvo\n",
      "Actors\t: 342.500 TL\n",
      "**********************************************************************\n",
      "City\t: Aydın\n",
      "Year\t: 2016\n",
      "Model\t: Toyota Verso 1.6 D-4D Advance\n",
      "Price\t: Gillo Pontecorvo\n",
      "Actors\t: 178.000 TL\n",
      "**********************************************************************\n",
      "City\t: Adıyaman\n",
      "Year\t: 2013\n",
      "Model\t: Renault Fluence 1.5 dCi Icon\n",
      "Price\t: Gillo Pontecorvo\n",
      "Actors\t: 142.000 TL\n",
      "**********************************************************************\n",
      "City\t: İstanbul\n",
      "Year\t: 2017\n",
      "Model\t: Hyundai i20 1.4 MPI Style\n",
      "Price\t: Gillo Pontecorvo\n",
      "Actors\t: 155.900 TL\n",
      "**********************************************************************\n",
      "City\t: İstanbul\n",
      "Year\t: 2016\n",
      "Model\t: Ford Mustang 5.0 GT\n",
      "Price\t: Gillo Pontecorvo\n",
      "Actors\t: 1.050.000 TL\n",
      "**********************************************************************\n",
      "City\t: Hatay\n",
      "Year\t: 2017\n",
      "Model\t: Opel Astra 1.6 CDTI Design\n",
      "Price\t: Gillo Pontecorvo\n",
      "Actors\t: 1.050.000 TL\n",
      "**********************************************************************\n",
      "City\t: Antalya\n",
      "Year\t: 2017\n",
      "Model\t: Skoda Octavia 1.6 TDI Style\n",
      "Price\t: Gillo Pontecorvo\n",
      "Actors\t: 214.500 TL\n",
      "**********************************************************************\n",
      "City\t: Antalya\n",
      "Year\t: 2018\n",
      "Model\t: Volkswagen Passat 1.6 TDi BlueMot...\n",
      "Price\t: Gillo Pontecorvo\n",
      "Actors\t: 310.000 TL\n",
      "**********************************************************************\n",
      "City\t: Ankara\n",
      "Year\t: 2012\n",
      "Model\t: Volkswagen Golf 1.6 TDi BlueMotio...\n",
      "Price\t: Gillo Pontecorvo\n",
      "Actors\t: 184.750 TL\n",
      "**********************************************************************\n",
      "City\t: Denizli\n",
      "Year\t: 2004\n",
      "Model\t: Opel Corsa 1.3 CDTI Essentia\n",
      "Price\t: Gillo Pontecorvo\n",
      "Actors\t: 64.750 TL\n",
      "**********************************************************************\n",
      "City\t: Ankara\n",
      "Year\t: 2013\n",
      "Model\t: Ford Focus 1.6 TDCi Titanium\n",
      "Price\t: Gillo Pontecorvo\n",
      "Actors\t: 162.000 TL\n",
      "**********************************************************************\n",
      "City\t: İstanbul\n",
      "Year\t: 2015\n",
      "Model\t: Renault Fluence 1.5 dCi Touch\n",
      "Price\t: Gillo Pontecorvo\n",
      "Actors\t: 136.750 TL\n",
      "**********************************************************************\n",
      "City\t: İstanbul\n",
      "Year\t: 2015\n",
      "Model\t: Renault Fluence 1.5 dCi Touch\n",
      "Price\t: Gillo Pontecorvo\n",
      "Actors\t: 136.750 TL\n",
      "**********************************************************************\n",
      "City\t: İstanbul\n",
      "Year\t: 2015\n",
      "Model\t: Renault Fluence 1.5 dCi Touch\n",
      "Price\t: Gillo Pontecorvo\n",
      "Actors\t: 136.750 TL\n",
      "**********************************************************************\n",
      "City\t: İstanbul\n",
      "Year\t: 2015\n",
      "Model\t: Renault Fluence 1.5 dCi Touch\n",
      "Price\t: Gillo Pontecorvo\n",
      "Actors\t: 136.750 TL\n",
      "**********************************************************************\n",
      "City\t: İstanbul\n",
      "Year\t: 2015\n",
      "Model\t: Renault Fluence 1.5 dCi Touch\n",
      "Price\t: Gillo Pontecorvo\n",
      "Actors\t: 136.750 TL\n",
      "**********************************************************************\n",
      "City\t: İstanbul\n",
      "Year\t: 2015\n",
      "Model\t: Renault Fluence 1.5 dCi Touch\n",
      "Price\t: Gillo Pontecorvo\n",
      "Actors\t: 136.750 TL\n",
      "**********************************************************************\n",
      "City\t: İstanbul\n",
      "Year\t: 2015\n",
      "Model\t: Renault Fluence 1.5 dCi Touch\n",
      "Price\t: Gillo Pontecorvo\n",
      "Actors\t: 136.750 TL\n",
      "**********************************************************************\n",
      "City\t: İstanbul\n",
      "Year\t: 2015\n",
      "Model\t: Renault Fluence 1.5 dCi Touch\n",
      "Price\t: Gillo Pontecorvo\n",
      "Actors\t: 136.750 TL\n",
      "**********************************************************************\n",
      "City\t: İstanbul\n",
      "Year\t: 2015\n",
      "Model\t: Renault Fluence 1.5 dCi Touch\n",
      "Price\t: Gillo Pontecorvo\n",
      "Actors\t: 136.750 TL\n",
      "**********************************************************************\n",
      "City\t: İstanbul\n",
      "Year\t: 2015\n",
      "Model\t: Renault Fluence 1.5 dCi Touch\n",
      "Price\t: Gillo Pontecorvo\n",
      "Actors\t: 136.750 TL\n",
      "**********************************************************************\n",
      "City\t: İstanbul\n",
      "Year\t: 2015\n",
      "Model\t: Renault Fluence 1.5 dCi Touch\n",
      "Price\t: Gillo Pontecorvo\n",
      "Actors\t: 136.750 TL\n",
      "**********************************************************************\n",
      "City\t: İstanbul\n",
      "Year\t: 2015\n",
      "Model\t: Renault Fluence 1.5 dCi Touch\n",
      "Price\t: Gillo Pontecorvo\n",
      "Actors\t: 136.750 TL\n",
      "**********************************************************************\n",
      "City\t: İstanbul\n",
      "Year\t: 2015\n",
      "Model\t: Renault Fluence 1.5 dCi Touch\n",
      "Price\t: Gillo Pontecorvo\n",
      "Actors\t: 136.750 TL\n",
      "**********************************************************************\n",
      "City\t: İstanbul\n",
      "Year\t: 2015\n",
      "Model\t: Renault Fluence 1.5 dCi Touch\n",
      "Price\t: Gillo Pontecorvo\n",
      "Actors\t: 136.750 TL\n",
      "**********************************************************************\n",
      "City\t: İstanbul\n",
      "Year\t: 2015\n",
      "Model\t: Renault Fluence 1.5 dCi Touch\n",
      "Price\t: Gillo Pontecorvo\n",
      "Actors\t: 136.750 TL\n",
      "**********************************************************************\n",
      "City\t: İstanbul\n",
      "Year\t: 2015\n",
      "Model\t: Renault Fluence 1.5 dCi Touch\n",
      "Price\t: Gillo Pontecorvo\n",
      "Actors\t: 136.750 TL\n",
      "**********************************************************************\n",
      "City\t: İstanbul\n",
      "Year\t: 2015\n",
      "Model\t: Renault Fluence 1.5 dCi Touch\n",
      "Price\t: Gillo Pontecorvo\n",
      "Actors\t: 136.750 TL\n",
      "**********************************************************************\n"
     ]
    }
   ],
   "source": [
    "import requests\n",
    "from bs4 import BeautifulSoup\n",
    "import html5lib\n",
    "\n",
    "\n",
    "url = 'https://www.arabam.com/'\n",
    "html=requests.get(url).content\n",
    "soup=BeautifulSoup(html,\"html5lib\")\n",
    "print(soup.title.text,\"\\n\",70*'*',sep='')\n",
    "\n",
    "List =soup.find_all('div',{'class':'content-container'})\n",
    "for i in List:\n",
    "    if i.find('p',{'class':\"model-city\"})!=None:\n",
    "        city = i.find('p',{'class':\"model-city\"}).text\n",
    "    if i.find('p',{'class':\"model-year\"})!=None:\n",
    "        year = i.find('p',{'class':\"model-year\"}).text\n",
    "    if i.find('h4',{'class':\"model-name\"})!=None:\n",
    "        model = i.find('h4',{'class':\"model-name\"}).text.strip()\n",
    "    if i.find('div',{'class':\"price\"})!=None:\n",
    "        price = i.find('div',{'class':\"price\"}).text\n",
    "        \n",
    "    show=f'''City\\t: {city}\n",
    "Year\\t: {year}\n",
    "Model\\t: {model}\n",
    "Price\\t: {director}\n",
    "Actors\\t: {price}'''\n",
    "    print(show)\n",
    "    print(70*\"*\")    "
   ]
  },
  {
   "cell_type": "markdown",
   "id": "e0232b47",
   "metadata": {},
   "source": [
    "# arabam (1-50 pages)\n",
    "https://www.arabam.com/ikinci-el/otomobil?take=50&page=1"
   ]
  },
  {
   "cell_type": "code",
   "execution_count": 29,
   "id": "48a627ea",
   "metadata": {},
   "outputs": [
    {
     "name": "stdout",
     "output_type": "stream",
     "text": [
      "1 - 2 - 3 - 4 - 5 - 6 - 7 - 8 - 9 - 10 - 11 - 12 - 13 - 14 - 15 - 16 - 17 - 18 - 19 - 20 - 21 - 22 - 23 - 24 - 25 - 26 - 27 - 28 - 29 - 30 - 31 - 32 - 33 - 34 - 35 - 36 - 37 - 38 - 39 - 40 - 41 - 42 - 43 - 44 - 45 - 46 - 47 - 48 - 49 - 50 - \n",
      "SCRAPING IS OVER...\n"
     ]
    },
    {
     "data": {
      "application/javascript": [
       "\n",
       "        if (window._pyforest_update_imports_cell) { window._pyforest_update_imports_cell('import numpy as np\\nimport pandas as pd'); }\n",
       "    "
      ],
      "text/plain": [
       "<IPython.core.display.Javascript object>"
      ]
     },
     "metadata": {},
     "output_type": "display_data"
    },
    {
     "data": {
      "text/html": [
       "<div>\n",
       "<style scoped>\n",
       "    .dataframe tbody tr th:only-of-type {\n",
       "        vertical-align: middle;\n",
       "    }\n",
       "\n",
       "    .dataframe tbody tr th {\n",
       "        vertical-align: top;\n",
       "    }\n",
       "\n",
       "    .dataframe thead th {\n",
       "        text-align: right;\n",
       "    }\n",
       "</style>\n",
       "<table border=\"1\" class=\"dataframe\">\n",
       "  <thead>\n",
       "    <tr style=\"text-align: right;\">\n",
       "      <th></th>\n",
       "      <th>hotel_name</th>\n",
       "      <th>price</th>\n",
       "      <th>rating</th>\n",
       "      <th>review_count</th>\n",
       "      <th>services</th>\n",
       "    </tr>\n",
       "  </thead>\n",
       "  <tbody>\n",
       "    <tr>\n",
       "      <th>0</th>\n",
       "      <td>JW Marriott Hotel Ankara</td>\n",
       "      <td>231</td>\n",
       "      <td>4,5</td>\n",
       "      <td>514</td>\n",
       "      <td>[Ücretsiz otopark, Havuz, Restoran, Oda servisi]</td>\n",
       "    </tr>\n",
       "    <tr>\n",
       "      <th>1</th>\n",
       "      <td>Ankara HiltonSA</td>\n",
       "      <td>76</td>\n",
       "      <td>4</td>\n",
       "      <td>1.066</td>\n",
       "      <td>[Ücretsiz Wifi, Ücretsiz otopark]</td>\n",
       "    </tr>\n",
       "    <tr>\n",
       "      <th>2</th>\n",
       "      <td>Swissotel Ankara</td>\n",
       "      <td>76</td>\n",
       "      <td>4,5</td>\n",
       "      <td>727</td>\n",
       "      <td>[Ücretsiz Wifi, Ücretsiz otopark]</td>\n",
       "    </tr>\n",
       "    <tr>\n",
       "      <th>3</th>\n",
       "      <td>Radisson Blu Hotel</td>\n",
       "      <td>60</td>\n",
       "      <td>4</td>\n",
       "      <td>968</td>\n",
       "      <td>[Ücretsiz Wifi, Ücretsiz otopark]</td>\n",
       "    </tr>\n",
       "    <tr>\n",
       "      <th>4</th>\n",
       "      <td>Divan Çukurhan</td>\n",
       "      <td>63</td>\n",
       "      <td>4,5</td>\n",
       "      <td>365</td>\n",
       "      <td>[Ücretsiz Wifi, Ücretsiz otopark]</td>\n",
       "    </tr>\n",
       "    <tr>\n",
       "      <th>...</th>\n",
       "      <td>...</td>\n",
       "      <td>...</td>\n",
       "      <td>...</td>\n",
       "      <td>...</td>\n",
       "      <td>...</td>\n",
       "    </tr>\n",
       "    <tr>\n",
       "      <th>465</th>\n",
       "      <td>Deniz Tesis</td>\n",
       "      <td>NaN</td>\n",
       "      <td>NaN</td>\n",
       "      <td>0</td>\n",
       "      <td>[]</td>\n",
       "    </tr>\n",
       "    <tr>\n",
       "      <th>466</th>\n",
       "      <td>Heaven Hotel</td>\n",
       "      <td>NaN</td>\n",
       "      <td>NaN</td>\n",
       "      <td>0</td>\n",
       "      <td>[Ücretsiz Wifi, Oda servisi]</td>\n",
       "    </tr>\n",
       "    <tr>\n",
       "      <th>467</th>\n",
       "      <td>Atlas Hotel</td>\n",
       "      <td>NaN</td>\n",
       "      <td>NaN</td>\n",
       "      <td>0</td>\n",
       "      <td>[]</td>\n",
       "    </tr>\n",
       "    <tr>\n",
       "      <th>468</th>\n",
       "      <td>Park Residance Female Only</td>\n",
       "      <td>NaN</td>\n",
       "      <td>NaN</td>\n",
       "      <td>0</td>\n",
       "      <td>[]</td>\n",
       "    </tr>\n",
       "    <tr>\n",
       "      <th>469</th>\n",
       "      <td>Yurtpalas</td>\n",
       "      <td>NaN</td>\n",
       "      <td>NaN</td>\n",
       "      <td>0</td>\n",
       "      <td>[]</td>\n",
       "    </tr>\n",
       "  </tbody>\n",
       "</table>\n",
       "<p>470 rows × 5 columns</p>\n",
       "</div>"
      ],
      "text/plain": [
       "                     hotel_name price rating review_count  \\\n",
       "0      JW Marriott Hotel Ankara   231    4,5          514   \n",
       "1               Ankara HiltonSA    76      4        1.066   \n",
       "2              Swissotel Ankara    76    4,5          727   \n",
       "3            Radisson Blu Hotel    60      4          968   \n",
       "4                Divan Çukurhan    63    4,5          365   \n",
       "..                          ...   ...    ...          ...   \n",
       "465                 Deniz Tesis   NaN    NaN            0   \n",
       "466                Heaven Hotel   NaN    NaN            0   \n",
       "467                 Atlas Hotel   NaN    NaN            0   \n",
       "468  Park Residance Female Only   NaN    NaN            0   \n",
       "469                   Yurtpalas   NaN    NaN            0   \n",
       "\n",
       "                                             services  \n",
       "0    [Ücretsiz otopark, Havuz, Restoran, Oda servisi]  \n",
       "1                   [Ücretsiz Wifi, Ücretsiz otopark]  \n",
       "2                   [Ücretsiz Wifi, Ücretsiz otopark]  \n",
       "3                   [Ücretsiz Wifi, Ücretsiz otopark]  \n",
       "4                   [Ücretsiz Wifi, Ücretsiz otopark]  \n",
       "..                                                ...  \n",
       "465                                                []  \n",
       "466                      [Ücretsiz Wifi, Oda servisi]  \n",
       "467                                                []  \n",
       "468                                                []  \n",
       "469                                                []  \n",
       "\n",
       "[470 rows x 5 columns]"
      ]
     },
     "metadata": {},
     "output_type": "display_data"
    }
   ],
   "source": [
    "import requests\n",
    "from bs4 import BeautifulSoup\n",
    "import html5lib\n",
    "import re\n",
    "\n",
    "url = \"https://www.arabam.com/ikinci-el/otomobil?take=50&page=\"\n",
    "\n",
    "for page in range(1,51):\n",
    "    html=requests.get(url + str(page)).content\n",
    "    soup=BeautifulSoup(html,\"html5lib\")\n",
    "    print(re.search(r'\\d{1,2}', soup.title.text).group(),end=' - ')\n",
    "\n",
    "    List =soup.find_all('tr',{'class':'listing-list-item pr should-hover bg-white'})\n",
    "\n",
    "    model, title, year, price, date, province, county =[],[],[],[],[],[],[]\n",
    "    for i in List:\n",
    "        model.append(i.find('td',{\"class\":\"listing-modelname pr\"}).text.strip()) \n",
    "        title.append(i.find('td',{'class' : \"horizontal-half-padder-minus pr\"}).text.strip())\n",
    "        year.append(i.find('td',{'class' : \"listing-text pl8 pr8 tac pr\"}).text.strip())\n",
    "        price.append(i.find('td',{'class' : \"pl8 pr8 tac pr\"}).text.strip())\n",
    "        date.append(i.find('td',{'class' : \"listing-text tac pr\"}).text.strip())\n",
    "        province.append(i.find('div',{'class' : \"pr\"}).find('a').find_all('span')[0].text.strip())\n",
    "        county.append(i.find('div',{'class' : \"pr\"}).find('a').find_all('span')[1].text.strip())\n",
    " \n",
    "#         show=f'''Model\\t\\t: {model[-1]}\n",
    "# Title\\t\\t: {title[-1]}\n",
    "# Year\\t\\t: {year[-1]}\n",
    "# Price\\t\\t: {price[-1]}\n",
    "# Date\\t\\t: {date[-1]}\n",
    "# Location\\t: {province[-1]}/{county[-1]}'''\n",
    "#         print(show)\n",
    "#         print(70*\"*\")\n",
    "\n",
    "print(f'\\n{\"Scraping is over...\".upper()}')\n",
    "\n",
    "keys=['model', 'title', 'year', 'price', 'date', 'province', 'county']\n",
    "values=[model, title, year, price, date, province, county]\n",
    "dictionary = dict(zip(keys, values))\n",
    "df_arabam = pd.DataFrame.from_dict(dictionary)\n",
    "display(df)"
   ]
  },
  {
   "cell_type": "markdown",
   "id": "9b6dd47c",
   "metadata": {},
   "source": [
    "# tripadvisor\n",
    "https://www.tripadvisor.com.tr/Hotels-g298656-oa0-Ankara-Hotels.html"
   ]
  },
  {
   "cell_type": "code",
   "execution_count": 26,
   "id": "dc70c3a4",
   "metadata": {},
   "outputs": [
    {
     "name": "stdout",
     "output_type": "stream",
     "text": [
      "1.page scraped...\n"
     ]
    },
    {
     "data": {
      "application/javascript": [
       "\n",
       "        if (window._pyforest_update_imports_cell) { window._pyforest_update_imports_cell('import numpy as np\\nimport pandas as pd'); }\n",
       "    "
      ],
      "text/plain": [
       "<IPython.core.display.Javascript object>"
      ]
     },
     "metadata": {},
     "output_type": "display_data"
    },
    {
     "data": {
      "application/javascript": [
       "\n",
       "        if (window._pyforest_update_imports_cell) { window._pyforest_update_imports_cell('import numpy as np\\nimport pandas as pd'); }\n",
       "    "
      ],
      "text/plain": [
       "<IPython.core.display.Javascript object>"
      ]
     },
     "metadata": {},
     "output_type": "display_data"
    },
    {
     "name": "stdout",
     "output_type": "stream",
     "text": [
      "2.page scraped...\n",
      "3.page scraped...\n",
      "4.page scraped...\n",
      "5.page scraped...\n",
      "6.page scraped...\n"
     ]
    },
    {
     "data": {
      "application/javascript": [
       "\n",
       "        if (window._pyforest_update_imports_cell) { window._pyforest_update_imports_cell('import numpy as np\\nimport pandas as pd'); }\n",
       "    "
      ],
      "text/plain": [
       "<IPython.core.display.Javascript object>"
      ]
     },
     "metadata": {},
     "output_type": "display_data"
    },
    {
     "data": {
      "application/javascript": [
       "\n",
       "        if (window._pyforest_update_imports_cell) { window._pyforest_update_imports_cell('import numpy as np\\nimport pandas as pd'); }\n",
       "    "
      ],
      "text/plain": [
       "<IPython.core.display.Javascript object>"
      ]
     },
     "metadata": {},
     "output_type": "display_data"
    },
    {
     "data": {
      "application/javascript": [
       "\n",
       "        if (window._pyforest_update_imports_cell) { window._pyforest_update_imports_cell('import numpy as np\\nimport pandas as pd'); }\n",
       "    "
      ],
      "text/plain": [
       "<IPython.core.display.Javascript object>"
      ]
     },
     "metadata": {},
     "output_type": "display_data"
    },
    {
     "data": {
      "application/javascript": [
       "\n",
       "        if (window._pyforest_update_imports_cell) { window._pyforest_update_imports_cell('import numpy as np\\nimport pandas as pd'); }\n",
       "    "
      ],
      "text/plain": [
       "<IPython.core.display.Javascript object>"
      ]
     },
     "metadata": {},
     "output_type": "display_data"
    },
    {
     "name": "stdout",
     "output_type": "stream",
     "text": [
      "7.page scraped...\n"
     ]
    },
    {
     "data": {
      "application/javascript": [
       "\n",
       "        if (window._pyforest_update_imports_cell) { window._pyforest_update_imports_cell('import numpy as np\\nimport pandas as pd'); }\n",
       "    "
      ],
      "text/plain": [
       "<IPython.core.display.Javascript object>"
      ]
     },
     "metadata": {},
     "output_type": "display_data"
    },
    {
     "data": {
      "application/javascript": [
       "\n",
       "        if (window._pyforest_update_imports_cell) { window._pyforest_update_imports_cell('import numpy as np\\nimport pandas as pd'); }\n",
       "    "
      ],
      "text/plain": [
       "<IPython.core.display.Javascript object>"
      ]
     },
     "metadata": {},
     "output_type": "display_data"
    },
    {
     "data": {
      "application/javascript": [
       "\n",
       "        if (window._pyforest_update_imports_cell) { window._pyforest_update_imports_cell('import numpy as np\\nimport pandas as pd'); }\n",
       "    "
      ],
      "text/plain": [
       "<IPython.core.display.Javascript object>"
      ]
     },
     "metadata": {},
     "output_type": "display_data"
    },
    {
     "data": {
      "application/javascript": [
       "\n",
       "        if (window._pyforest_update_imports_cell) { window._pyforest_update_imports_cell('import numpy as np\\nimport pandas as pd'); }\n",
       "    "
      ],
      "text/plain": [
       "<IPython.core.display.Javascript object>"
      ]
     },
     "metadata": {},
     "output_type": "display_data"
    },
    {
     "data": {
      "application/javascript": [
       "\n",
       "        if (window._pyforest_update_imports_cell) { window._pyforest_update_imports_cell('import numpy as np\\nimport pandas as pd'); }\n",
       "    "
      ],
      "text/plain": [
       "<IPython.core.display.Javascript object>"
      ]
     },
     "metadata": {},
     "output_type": "display_data"
    },
    {
     "data": {
      "application/javascript": [
       "\n",
       "        if (window._pyforest_update_imports_cell) { window._pyforest_update_imports_cell('import numpy as np\\nimport pandas as pd'); }\n",
       "    "
      ],
      "text/plain": [
       "<IPython.core.display.Javascript object>"
      ]
     },
     "metadata": {},
     "output_type": "display_data"
    },
    {
     "data": {
      "application/javascript": [
       "\n",
       "        if (window._pyforest_update_imports_cell) { window._pyforest_update_imports_cell('import numpy as np\\nimport pandas as pd'); }\n",
       "    "
      ],
      "text/plain": [
       "<IPython.core.display.Javascript object>"
      ]
     },
     "metadata": {},
     "output_type": "display_data"
    },
    {
     "data": {
      "application/javascript": [
       "\n",
       "        if (window._pyforest_update_imports_cell) { window._pyforest_update_imports_cell('import numpy as np\\nimport pandas as pd'); }\n",
       "    "
      ],
      "text/plain": [
       "<IPython.core.display.Javascript object>"
      ]
     },
     "metadata": {},
     "output_type": "display_data"
    },
    {
     "data": {
      "application/javascript": [
       "\n",
       "        if (window._pyforest_update_imports_cell) { window._pyforest_update_imports_cell('import numpy as np\\nimport pandas as pd'); }\n",
       "    "
      ],
      "text/plain": [
       "<IPython.core.display.Javascript object>"
      ]
     },
     "metadata": {},
     "output_type": "display_data"
    },
    {
     "data": {
      "application/javascript": [
       "\n",
       "        if (window._pyforest_update_imports_cell) { window._pyforest_update_imports_cell('import numpy as np\\nimport pandas as pd'); }\n",
       "    "
      ],
      "text/plain": [
       "<IPython.core.display.Javascript object>"
      ]
     },
     "metadata": {},
     "output_type": "display_data"
    },
    {
     "data": {
      "application/javascript": [
       "\n",
       "        if (window._pyforest_update_imports_cell) { window._pyforest_update_imports_cell('import numpy as np\\nimport pandas as pd'); }\n",
       "    "
      ],
      "text/plain": [
       "<IPython.core.display.Javascript object>"
      ]
     },
     "metadata": {},
     "output_type": "display_data"
    },
    {
     "data": {
      "application/javascript": [
       "\n",
       "        if (window._pyforest_update_imports_cell) { window._pyforest_update_imports_cell('import numpy as np\\nimport pandas as pd'); }\n",
       "    "
      ],
      "text/plain": [
       "<IPython.core.display.Javascript object>"
      ]
     },
     "metadata": {},
     "output_type": "display_data"
    },
    {
     "data": {
      "application/javascript": [
       "\n",
       "        if (window._pyforest_update_imports_cell) { window._pyforest_update_imports_cell('import numpy as np\\nimport pandas as pd'); }\n",
       "    "
      ],
      "text/plain": [
       "<IPython.core.display.Javascript object>"
      ]
     },
     "metadata": {},
     "output_type": "display_data"
    },
    {
     "data": {
      "application/javascript": [
       "\n",
       "        if (window._pyforest_update_imports_cell) { window._pyforest_update_imports_cell('import numpy as np\\nimport pandas as pd'); }\n",
       "    "
      ],
      "text/plain": [
       "<IPython.core.display.Javascript object>"
      ]
     },
     "metadata": {},
     "output_type": "display_data"
    },
    {
     "data": {
      "application/javascript": [
       "\n",
       "        if (window._pyforest_update_imports_cell) { window._pyforest_update_imports_cell('import numpy as np\\nimport pandas as pd'); }\n",
       "    "
      ],
      "text/plain": [
       "<IPython.core.display.Javascript object>"
      ]
     },
     "metadata": {},
     "output_type": "display_data"
    },
    {
     "data": {
      "application/javascript": [
       "\n",
       "        if (window._pyforest_update_imports_cell) { window._pyforest_update_imports_cell('import numpy as np\\nimport pandas as pd'); }\n",
       "    "
      ],
      "text/plain": [
       "<IPython.core.display.Javascript object>"
      ]
     },
     "metadata": {},
     "output_type": "display_data"
    },
    {
     "data": {
      "application/javascript": [
       "\n",
       "        if (window._pyforest_update_imports_cell) { window._pyforest_update_imports_cell('import numpy as np\\nimport pandas as pd'); }\n",
       "    "
      ],
      "text/plain": [
       "<IPython.core.display.Javascript object>"
      ]
     },
     "metadata": {},
     "output_type": "display_data"
    },
    {
     "data": {
      "application/javascript": [
       "\n",
       "        if (window._pyforest_update_imports_cell) { window._pyforest_update_imports_cell('import numpy as np\\nimport pandas as pd'); }\n",
       "    "
      ],
      "text/plain": [
       "<IPython.core.display.Javascript object>"
      ]
     },
     "metadata": {},
     "output_type": "display_data"
    },
    {
     "data": {
      "application/javascript": [
       "\n",
       "        if (window._pyforest_update_imports_cell) { window._pyforest_update_imports_cell('import numpy as np\\nimport pandas as pd'); }\n",
       "    "
      ],
      "text/plain": [
       "<IPython.core.display.Javascript object>"
      ]
     },
     "metadata": {},
     "output_type": "display_data"
    },
    {
     "data": {
      "application/javascript": [
       "\n",
       "        if (window._pyforest_update_imports_cell) { window._pyforest_update_imports_cell('import numpy as np\\nimport pandas as pd'); }\n",
       "    "
      ],
      "text/plain": [
       "<IPython.core.display.Javascript object>"
      ]
     },
     "metadata": {},
     "output_type": "display_data"
    },
    {
     "data": {
      "application/javascript": [
       "\n",
       "        if (window._pyforest_update_imports_cell) { window._pyforest_update_imports_cell('import numpy as np\\nimport pandas as pd'); }\n",
       "    "
      ],
      "text/plain": [
       "<IPython.core.display.Javascript object>"
      ]
     },
     "metadata": {},
     "output_type": "display_data"
    },
    {
     "data": {
      "application/javascript": [
       "\n",
       "        if (window._pyforest_update_imports_cell) { window._pyforest_update_imports_cell('import numpy as np\\nimport pandas as pd'); }\n",
       "    "
      ],
      "text/plain": [
       "<IPython.core.display.Javascript object>"
      ]
     },
     "metadata": {},
     "output_type": "display_data"
    },
    {
     "data": {
      "application/javascript": [
       "\n",
       "        if (window._pyforest_update_imports_cell) { window._pyforest_update_imports_cell('import numpy as np\\nimport pandas as pd'); }\n",
       "    "
      ],
      "text/plain": [
       "<IPython.core.display.Javascript object>"
      ]
     },
     "metadata": {},
     "output_type": "display_data"
    },
    {
     "data": {
      "application/javascript": [
       "\n",
       "        if (window._pyforest_update_imports_cell) { window._pyforest_update_imports_cell('import numpy as np\\nimport pandas as pd'); }\n",
       "    "
      ],
      "text/plain": [
       "<IPython.core.display.Javascript object>"
      ]
     },
     "metadata": {},
     "output_type": "display_data"
    },
    {
     "data": {
      "application/javascript": [
       "\n",
       "        if (window._pyforest_update_imports_cell) { window._pyforest_update_imports_cell('import numpy as np\\nimport pandas as pd'); }\n",
       "    "
      ],
      "text/plain": [
       "<IPython.core.display.Javascript object>"
      ]
     },
     "metadata": {},
     "output_type": "display_data"
    },
    {
     "data": {
      "application/javascript": [
       "\n",
       "        if (window._pyforest_update_imports_cell) { window._pyforest_update_imports_cell('import numpy as np\\nimport pandas as pd'); }\n",
       "    "
      ],
      "text/plain": [
       "<IPython.core.display.Javascript object>"
      ]
     },
     "metadata": {},
     "output_type": "display_data"
    },
    {
     "data": {
      "application/javascript": [
       "\n",
       "        if (window._pyforest_update_imports_cell) { window._pyforest_update_imports_cell('import numpy as np\\nimport pandas as pd'); }\n",
       "    "
      ],
      "text/plain": [
       "<IPython.core.display.Javascript object>"
      ]
     },
     "metadata": {},
     "output_type": "display_data"
    },
    {
     "data": {
      "application/javascript": [
       "\n",
       "        if (window._pyforest_update_imports_cell) { window._pyforest_update_imports_cell('import numpy as np\\nimport pandas as pd'); }\n",
       "    "
      ],
      "text/plain": [
       "<IPython.core.display.Javascript object>"
      ]
     },
     "metadata": {},
     "output_type": "display_data"
    },
    {
     "data": {
      "application/javascript": [
       "\n",
       "        if (window._pyforest_update_imports_cell) { window._pyforest_update_imports_cell('import numpy as np\\nimport pandas as pd'); }\n",
       "    "
      ],
      "text/plain": [
       "<IPython.core.display.Javascript object>"
      ]
     },
     "metadata": {},
     "output_type": "display_data"
    },
    {
     "data": {
      "application/javascript": [
       "\n",
       "        if (window._pyforest_update_imports_cell) { window._pyforest_update_imports_cell('import numpy as np\\nimport pandas as pd'); }\n",
       "    "
      ],
      "text/plain": [
       "<IPython.core.display.Javascript object>"
      ]
     },
     "metadata": {},
     "output_type": "display_data"
    },
    {
     "name": "stdout",
     "output_type": "stream",
     "text": [
      "8.page scraped...\n"
     ]
    },
    {
     "data": {
      "application/javascript": [
       "\n",
       "        if (window._pyforest_update_imports_cell) { window._pyforest_update_imports_cell('import numpy as np\\nimport pandas as pd'); }\n",
       "    "
      ],
      "text/plain": [
       "<IPython.core.display.Javascript object>"
      ]
     },
     "metadata": {},
     "output_type": "display_data"
    },
    {
     "data": {
      "application/javascript": [
       "\n",
       "        if (window._pyforest_update_imports_cell) { window._pyforest_update_imports_cell('import numpy as np\\nimport pandas as pd'); }\n",
       "    "
      ],
      "text/plain": [
       "<IPython.core.display.Javascript object>"
      ]
     },
     "metadata": {},
     "output_type": "display_data"
    },
    {
     "data": {
      "application/javascript": [
       "\n",
       "        if (window._pyforest_update_imports_cell) { window._pyforest_update_imports_cell('import numpy as np\\nimport pandas as pd'); }\n",
       "    "
      ],
      "text/plain": [
       "<IPython.core.display.Javascript object>"
      ]
     },
     "metadata": {},
     "output_type": "display_data"
    },
    {
     "data": {
      "application/javascript": [
       "\n",
       "        if (window._pyforest_update_imports_cell) { window._pyforest_update_imports_cell('import numpy as np\\nimport pandas as pd'); }\n",
       "    "
      ],
      "text/plain": [
       "<IPython.core.display.Javascript object>"
      ]
     },
     "metadata": {},
     "output_type": "display_data"
    },
    {
     "data": {
      "application/javascript": [
       "\n",
       "        if (window._pyforest_update_imports_cell) { window._pyforest_update_imports_cell('import numpy as np\\nimport pandas as pd'); }\n",
       "    "
      ],
      "text/plain": [
       "<IPython.core.display.Javascript object>"
      ]
     },
     "metadata": {},
     "output_type": "display_data"
    },
    {
     "data": {
      "application/javascript": [
       "\n",
       "        if (window._pyforest_update_imports_cell) { window._pyforest_update_imports_cell('import numpy as np\\nimport pandas as pd'); }\n",
       "    "
      ],
      "text/plain": [
       "<IPython.core.display.Javascript object>"
      ]
     },
     "metadata": {},
     "output_type": "display_data"
    },
    {
     "data": {
      "application/javascript": [
       "\n",
       "        if (window._pyforest_update_imports_cell) { window._pyforest_update_imports_cell('import numpy as np\\nimport pandas as pd'); }\n",
       "    "
      ],
      "text/plain": [
       "<IPython.core.display.Javascript object>"
      ]
     },
     "metadata": {},
     "output_type": "display_data"
    },
    {
     "data": {
      "application/javascript": [
       "\n",
       "        if (window._pyforest_update_imports_cell) { window._pyforest_update_imports_cell('import numpy as np\\nimport pandas as pd'); }\n",
       "    "
      ],
      "text/plain": [
       "<IPython.core.display.Javascript object>"
      ]
     },
     "metadata": {},
     "output_type": "display_data"
    },
    {
     "data": {
      "application/javascript": [
       "\n",
       "        if (window._pyforest_update_imports_cell) { window._pyforest_update_imports_cell('import numpy as np\\nimport pandas as pd'); }\n",
       "    "
      ],
      "text/plain": [
       "<IPython.core.display.Javascript object>"
      ]
     },
     "metadata": {},
     "output_type": "display_data"
    },
    {
     "data": {
      "application/javascript": [
       "\n",
       "        if (window._pyforest_update_imports_cell) { window._pyforest_update_imports_cell('import numpy as np\\nimport pandas as pd'); }\n",
       "    "
      ],
      "text/plain": [
       "<IPython.core.display.Javascript object>"
      ]
     },
     "metadata": {},
     "output_type": "display_data"
    },
    {
     "data": {
      "application/javascript": [
       "\n",
       "        if (window._pyforest_update_imports_cell) { window._pyforest_update_imports_cell('import numpy as np\\nimport pandas as pd'); }\n",
       "    "
      ],
      "text/plain": [
       "<IPython.core.display.Javascript object>"
      ]
     },
     "metadata": {},
     "output_type": "display_data"
    },
    {
     "data": {
      "application/javascript": [
       "\n",
       "        if (window._pyforest_update_imports_cell) { window._pyforest_update_imports_cell('import numpy as np\\nimport pandas as pd'); }\n",
       "    "
      ],
      "text/plain": [
       "<IPython.core.display.Javascript object>"
      ]
     },
     "metadata": {},
     "output_type": "display_data"
    },
    {
     "data": {
      "application/javascript": [
       "\n",
       "        if (window._pyforest_update_imports_cell) { window._pyforest_update_imports_cell('import numpy as np\\nimport pandas as pd'); }\n",
       "    "
      ],
      "text/plain": [
       "<IPython.core.display.Javascript object>"
      ]
     },
     "metadata": {},
     "output_type": "display_data"
    },
    {
     "data": {
      "application/javascript": [
       "\n",
       "        if (window._pyforest_update_imports_cell) { window._pyforest_update_imports_cell('import numpy as np\\nimport pandas as pd'); }\n",
       "    "
      ],
      "text/plain": [
       "<IPython.core.display.Javascript object>"
      ]
     },
     "metadata": {},
     "output_type": "display_data"
    },
    {
     "data": {
      "application/javascript": [
       "\n",
       "        if (window._pyforest_update_imports_cell) { window._pyforest_update_imports_cell('import numpy as np\\nimport pandas as pd'); }\n",
       "    "
      ],
      "text/plain": [
       "<IPython.core.display.Javascript object>"
      ]
     },
     "metadata": {},
     "output_type": "display_data"
    },
    {
     "data": {
      "application/javascript": [
       "\n",
       "        if (window._pyforest_update_imports_cell) { window._pyforest_update_imports_cell('import numpy as np\\nimport pandas as pd'); }\n",
       "    "
      ],
      "text/plain": [
       "<IPython.core.display.Javascript object>"
      ]
     },
     "metadata": {},
     "output_type": "display_data"
    },
    {
     "data": {
      "application/javascript": [
       "\n",
       "        if (window._pyforest_update_imports_cell) { window._pyforest_update_imports_cell('import numpy as np\\nimport pandas as pd'); }\n",
       "    "
      ],
      "text/plain": [
       "<IPython.core.display.Javascript object>"
      ]
     },
     "metadata": {},
     "output_type": "display_data"
    },
    {
     "data": {
      "application/javascript": [
       "\n",
       "        if (window._pyforest_update_imports_cell) { window._pyforest_update_imports_cell('import numpy as np\\nimport pandas as pd'); }\n",
       "    "
      ],
      "text/plain": [
       "<IPython.core.display.Javascript object>"
      ]
     },
     "metadata": {},
     "output_type": "display_data"
    },
    {
     "data": {
      "application/javascript": [
       "\n",
       "        if (window._pyforest_update_imports_cell) { window._pyforest_update_imports_cell('import numpy as np\\nimport pandas as pd'); }\n",
       "    "
      ],
      "text/plain": [
       "<IPython.core.display.Javascript object>"
      ]
     },
     "metadata": {},
     "output_type": "display_data"
    },
    {
     "data": {
      "application/javascript": [
       "\n",
       "        if (window._pyforest_update_imports_cell) { window._pyforest_update_imports_cell('import numpy as np\\nimport pandas as pd'); }\n",
       "    "
      ],
      "text/plain": [
       "<IPython.core.display.Javascript object>"
      ]
     },
     "metadata": {},
     "output_type": "display_data"
    },
    {
     "data": {
      "application/javascript": [
       "\n",
       "        if (window._pyforest_update_imports_cell) { window._pyforest_update_imports_cell('import numpy as np\\nimport pandas as pd'); }\n",
       "    "
      ],
      "text/plain": [
       "<IPython.core.display.Javascript object>"
      ]
     },
     "metadata": {},
     "output_type": "display_data"
    },
    {
     "data": {
      "application/javascript": [
       "\n",
       "        if (window._pyforest_update_imports_cell) { window._pyforest_update_imports_cell('import numpy as np\\nimport pandas as pd'); }\n",
       "    "
      ],
      "text/plain": [
       "<IPython.core.display.Javascript object>"
      ]
     },
     "metadata": {},
     "output_type": "display_data"
    },
    {
     "data": {
      "application/javascript": [
       "\n",
       "        if (window._pyforest_update_imports_cell) { window._pyforest_update_imports_cell('import numpy as np\\nimport pandas as pd'); }\n",
       "    "
      ],
      "text/plain": [
       "<IPython.core.display.Javascript object>"
      ]
     },
     "metadata": {},
     "output_type": "display_data"
    },
    {
     "data": {
      "application/javascript": [
       "\n",
       "        if (window._pyforest_update_imports_cell) { window._pyforest_update_imports_cell('import numpy as np\\nimport pandas as pd'); }\n",
       "    "
      ],
      "text/plain": [
       "<IPython.core.display.Javascript object>"
      ]
     },
     "metadata": {},
     "output_type": "display_data"
    },
    {
     "data": {
      "application/javascript": [
       "\n",
       "        if (window._pyforest_update_imports_cell) { window._pyforest_update_imports_cell('import numpy as np\\nimport pandas as pd'); }\n",
       "    "
      ],
      "text/plain": [
       "<IPython.core.display.Javascript object>"
      ]
     },
     "metadata": {},
     "output_type": "display_data"
    },
    {
     "data": {
      "application/javascript": [
       "\n",
       "        if (window._pyforest_update_imports_cell) { window._pyforest_update_imports_cell('import numpy as np\\nimport pandas as pd'); }\n",
       "    "
      ],
      "text/plain": [
       "<IPython.core.display.Javascript object>"
      ]
     },
     "metadata": {},
     "output_type": "display_data"
    },
    {
     "data": {
      "application/javascript": [
       "\n",
       "        if (window._pyforest_update_imports_cell) { window._pyforest_update_imports_cell('import numpy as np\\nimport pandas as pd'); }\n",
       "    "
      ],
      "text/plain": [
       "<IPython.core.display.Javascript object>"
      ]
     },
     "metadata": {},
     "output_type": "display_data"
    },
    {
     "data": {
      "application/javascript": [
       "\n",
       "        if (window._pyforest_update_imports_cell) { window._pyforest_update_imports_cell('import numpy as np\\nimport pandas as pd'); }\n",
       "    "
      ],
      "text/plain": [
       "<IPython.core.display.Javascript object>"
      ]
     },
     "metadata": {},
     "output_type": "display_data"
    },
    {
     "data": {
      "application/javascript": [
       "\n",
       "        if (window._pyforest_update_imports_cell) { window._pyforest_update_imports_cell('import numpy as np\\nimport pandas as pd'); }\n",
       "    "
      ],
      "text/plain": [
       "<IPython.core.display.Javascript object>"
      ]
     },
     "metadata": {},
     "output_type": "display_data"
    },
    {
     "data": {
      "application/javascript": [
       "\n",
       "        if (window._pyforest_update_imports_cell) { window._pyforest_update_imports_cell('import numpy as np\\nimport pandas as pd'); }\n",
       "    "
      ],
      "text/plain": [
       "<IPython.core.display.Javascript object>"
      ]
     },
     "metadata": {},
     "output_type": "display_data"
    },
    {
     "name": "stdout",
     "output_type": "stream",
     "text": [
      "9.page scraped...\n"
     ]
    },
    {
     "data": {
      "application/javascript": [
       "\n",
       "        if (window._pyforest_update_imports_cell) { window._pyforest_update_imports_cell('import numpy as np\\nimport pandas as pd'); }\n",
       "    "
      ],
      "text/plain": [
       "<IPython.core.display.Javascript object>"
      ]
     },
     "metadata": {},
     "output_type": "display_data"
    },
    {
     "data": {
      "application/javascript": [
       "\n",
       "        if (window._pyforest_update_imports_cell) { window._pyforest_update_imports_cell('import numpy as np\\nimport pandas as pd'); }\n",
       "    "
      ],
      "text/plain": [
       "<IPython.core.display.Javascript object>"
      ]
     },
     "metadata": {},
     "output_type": "display_data"
    },
    {
     "data": {
      "application/javascript": [
       "\n",
       "        if (window._pyforest_update_imports_cell) { window._pyforest_update_imports_cell('import numpy as np\\nimport pandas as pd'); }\n",
       "    "
      ],
      "text/plain": [
       "<IPython.core.display.Javascript object>"
      ]
     },
     "metadata": {},
     "output_type": "display_data"
    },
    {
     "data": {
      "application/javascript": [
       "\n",
       "        if (window._pyforest_update_imports_cell) { window._pyforest_update_imports_cell('import numpy as np\\nimport pandas as pd'); }\n",
       "    "
      ],
      "text/plain": [
       "<IPython.core.display.Javascript object>"
      ]
     },
     "metadata": {},
     "output_type": "display_data"
    },
    {
     "data": {
      "application/javascript": [
       "\n",
       "        if (window._pyforest_update_imports_cell) { window._pyforest_update_imports_cell('import numpy as np\\nimport pandas as pd'); }\n",
       "    "
      ],
      "text/plain": [
       "<IPython.core.display.Javascript object>"
      ]
     },
     "metadata": {},
     "output_type": "display_data"
    },
    {
     "data": {
      "application/javascript": [
       "\n",
       "        if (window._pyforest_update_imports_cell) { window._pyforest_update_imports_cell('import numpy as np\\nimport pandas as pd'); }\n",
       "    "
      ],
      "text/plain": [
       "<IPython.core.display.Javascript object>"
      ]
     },
     "metadata": {},
     "output_type": "display_data"
    },
    {
     "data": {
      "application/javascript": [
       "\n",
       "        if (window._pyforest_update_imports_cell) { window._pyforest_update_imports_cell('import numpy as np\\nimport pandas as pd'); }\n",
       "    "
      ],
      "text/plain": [
       "<IPython.core.display.Javascript object>"
      ]
     },
     "metadata": {},
     "output_type": "display_data"
    },
    {
     "data": {
      "application/javascript": [
       "\n",
       "        if (window._pyforest_update_imports_cell) { window._pyforest_update_imports_cell('import numpy as np\\nimport pandas as pd'); }\n",
       "    "
      ],
      "text/plain": [
       "<IPython.core.display.Javascript object>"
      ]
     },
     "metadata": {},
     "output_type": "display_data"
    },
    {
     "data": {
      "application/javascript": [
       "\n",
       "        if (window._pyforest_update_imports_cell) { window._pyforest_update_imports_cell('import numpy as np\\nimport pandas as pd'); }\n",
       "    "
      ],
      "text/plain": [
       "<IPython.core.display.Javascript object>"
      ]
     },
     "metadata": {},
     "output_type": "display_data"
    },
    {
     "data": {
      "application/javascript": [
       "\n",
       "        if (window._pyforest_update_imports_cell) { window._pyforest_update_imports_cell('import numpy as np\\nimport pandas as pd'); }\n",
       "    "
      ],
      "text/plain": [
       "<IPython.core.display.Javascript object>"
      ]
     },
     "metadata": {},
     "output_type": "display_data"
    },
    {
     "data": {
      "application/javascript": [
       "\n",
       "        if (window._pyforest_update_imports_cell) { window._pyforest_update_imports_cell('import numpy as np\\nimport pandas as pd'); }\n",
       "    "
      ],
      "text/plain": [
       "<IPython.core.display.Javascript object>"
      ]
     },
     "metadata": {},
     "output_type": "display_data"
    },
    {
     "data": {
      "application/javascript": [
       "\n",
       "        if (window._pyforest_update_imports_cell) { window._pyforest_update_imports_cell('import numpy as np\\nimport pandas as pd'); }\n",
       "    "
      ],
      "text/plain": [
       "<IPython.core.display.Javascript object>"
      ]
     },
     "metadata": {},
     "output_type": "display_data"
    },
    {
     "data": {
      "application/javascript": [
       "\n",
       "        if (window._pyforest_update_imports_cell) { window._pyforest_update_imports_cell('import numpy as np\\nimport pandas as pd'); }\n",
       "    "
      ],
      "text/plain": [
       "<IPython.core.display.Javascript object>"
      ]
     },
     "metadata": {},
     "output_type": "display_data"
    },
    {
     "data": {
      "application/javascript": [
       "\n",
       "        if (window._pyforest_update_imports_cell) { window._pyforest_update_imports_cell('import numpy as np\\nimport pandas as pd'); }\n",
       "    "
      ],
      "text/plain": [
       "<IPython.core.display.Javascript object>"
      ]
     },
     "metadata": {},
     "output_type": "display_data"
    },
    {
     "data": {
      "application/javascript": [
       "\n",
       "        if (window._pyforest_update_imports_cell) { window._pyforest_update_imports_cell('import numpy as np\\nimport pandas as pd'); }\n",
       "    "
      ],
      "text/plain": [
       "<IPython.core.display.Javascript object>"
      ]
     },
     "metadata": {},
     "output_type": "display_data"
    },
    {
     "data": {
      "application/javascript": [
       "\n",
       "        if (window._pyforest_update_imports_cell) { window._pyforest_update_imports_cell('import numpy as np\\nimport pandas as pd'); }\n",
       "    "
      ],
      "text/plain": [
       "<IPython.core.display.Javascript object>"
      ]
     },
     "metadata": {},
     "output_type": "display_data"
    },
    {
     "data": {
      "application/javascript": [
       "\n",
       "        if (window._pyforest_update_imports_cell) { window._pyforest_update_imports_cell('import numpy as np\\nimport pandas as pd'); }\n",
       "    "
      ],
      "text/plain": [
       "<IPython.core.display.Javascript object>"
      ]
     },
     "metadata": {},
     "output_type": "display_data"
    },
    {
     "data": {
      "application/javascript": [
       "\n",
       "        if (window._pyforest_update_imports_cell) { window._pyforest_update_imports_cell('import numpy as np\\nimport pandas as pd'); }\n",
       "    "
      ],
      "text/plain": [
       "<IPython.core.display.Javascript object>"
      ]
     },
     "metadata": {},
     "output_type": "display_data"
    },
    {
     "data": {
      "application/javascript": [
       "\n",
       "        if (window._pyforest_update_imports_cell) { window._pyforest_update_imports_cell('import numpy as np\\nimport pandas as pd'); }\n",
       "    "
      ],
      "text/plain": [
       "<IPython.core.display.Javascript object>"
      ]
     },
     "metadata": {},
     "output_type": "display_data"
    },
    {
     "data": {
      "application/javascript": [
       "\n",
       "        if (window._pyforest_update_imports_cell) { window._pyforest_update_imports_cell('import numpy as np\\nimport pandas as pd'); }\n",
       "    "
      ],
      "text/plain": [
       "<IPython.core.display.Javascript object>"
      ]
     },
     "metadata": {},
     "output_type": "display_data"
    },
    {
     "data": {
      "application/javascript": [
       "\n",
       "        if (window._pyforest_update_imports_cell) { window._pyforest_update_imports_cell('import numpy as np\\nimport pandas as pd'); }\n",
       "    "
      ],
      "text/plain": [
       "<IPython.core.display.Javascript object>"
      ]
     },
     "metadata": {},
     "output_type": "display_data"
    },
    {
     "data": {
      "application/javascript": [
       "\n",
       "        if (window._pyforest_update_imports_cell) { window._pyforest_update_imports_cell('import numpy as np\\nimport pandas as pd'); }\n",
       "    "
      ],
      "text/plain": [
       "<IPython.core.display.Javascript object>"
      ]
     },
     "metadata": {},
     "output_type": "display_data"
    },
    {
     "data": {
      "application/javascript": [
       "\n",
       "        if (window._pyforest_update_imports_cell) { window._pyforest_update_imports_cell('import numpy as np\\nimport pandas as pd'); }\n",
       "    "
      ],
      "text/plain": [
       "<IPython.core.display.Javascript object>"
      ]
     },
     "metadata": {},
     "output_type": "display_data"
    },
    {
     "data": {
      "application/javascript": [
       "\n",
       "        if (window._pyforest_update_imports_cell) { window._pyforest_update_imports_cell('import numpy as np\\nimport pandas as pd'); }\n",
       "    "
      ],
      "text/plain": [
       "<IPython.core.display.Javascript object>"
      ]
     },
     "metadata": {},
     "output_type": "display_data"
    },
    {
     "data": {
      "application/javascript": [
       "\n",
       "        if (window._pyforest_update_imports_cell) { window._pyforest_update_imports_cell('import numpy as np\\nimport pandas as pd'); }\n",
       "    "
      ],
      "text/plain": [
       "<IPython.core.display.Javascript object>"
      ]
     },
     "metadata": {},
     "output_type": "display_data"
    },
    {
     "data": {
      "application/javascript": [
       "\n",
       "        if (window._pyforest_update_imports_cell) { window._pyforest_update_imports_cell('import numpy as np\\nimport pandas as pd'); }\n",
       "    "
      ],
      "text/plain": [
       "<IPython.core.display.Javascript object>"
      ]
     },
     "metadata": {},
     "output_type": "display_data"
    },
    {
     "data": {
      "application/javascript": [
       "\n",
       "        if (window._pyforest_update_imports_cell) { window._pyforest_update_imports_cell('import numpy as np\\nimport pandas as pd'); }\n",
       "    "
      ],
      "text/plain": [
       "<IPython.core.display.Javascript object>"
      ]
     },
     "metadata": {},
     "output_type": "display_data"
    },
    {
     "data": {
      "application/javascript": [
       "\n",
       "        if (window._pyforest_update_imports_cell) { window._pyforest_update_imports_cell('import numpy as np\\nimport pandas as pd'); }\n",
       "    "
      ],
      "text/plain": [
       "<IPython.core.display.Javascript object>"
      ]
     },
     "metadata": {},
     "output_type": "display_data"
    },
    {
     "data": {
      "application/javascript": [
       "\n",
       "        if (window._pyforest_update_imports_cell) { window._pyforest_update_imports_cell('import numpy as np\\nimport pandas as pd'); }\n",
       "    "
      ],
      "text/plain": [
       "<IPython.core.display.Javascript object>"
      ]
     },
     "metadata": {},
     "output_type": "display_data"
    },
    {
     "data": {
      "application/javascript": [
       "\n",
       "        if (window._pyforest_update_imports_cell) { window._pyforest_update_imports_cell('import numpy as np\\nimport pandas as pd'); }\n",
       "    "
      ],
      "text/plain": [
       "<IPython.core.display.Javascript object>"
      ]
     },
     "metadata": {},
     "output_type": "display_data"
    },
    {
     "data": {
      "application/javascript": [
       "\n",
       "        if (window._pyforest_update_imports_cell) { window._pyforest_update_imports_cell('import numpy as np\\nimport pandas as pd'); }\n",
       "    "
      ],
      "text/plain": [
       "<IPython.core.display.Javascript object>"
      ]
     },
     "metadata": {},
     "output_type": "display_data"
    },
    {
     "data": {
      "application/javascript": [
       "\n",
       "        if (window._pyforest_update_imports_cell) { window._pyforest_update_imports_cell('import numpy as np\\nimport pandas as pd'); }\n",
       "    "
      ],
      "text/plain": [
       "<IPython.core.display.Javascript object>"
      ]
     },
     "metadata": {},
     "output_type": "display_data"
    },
    {
     "data": {
      "application/javascript": [
       "\n",
       "        if (window._pyforest_update_imports_cell) { window._pyforest_update_imports_cell('import numpy as np\\nimport pandas as pd'); }\n",
       "    "
      ],
      "text/plain": [
       "<IPython.core.display.Javascript object>"
      ]
     },
     "metadata": {},
     "output_type": "display_data"
    },
    {
     "data": {
      "application/javascript": [
       "\n",
       "        if (window._pyforest_update_imports_cell) { window._pyforest_update_imports_cell('import numpy as np\\nimport pandas as pd'); }\n",
       "    "
      ],
      "text/plain": [
       "<IPython.core.display.Javascript object>"
      ]
     },
     "metadata": {},
     "output_type": "display_data"
    },
    {
     "data": {
      "application/javascript": [
       "\n",
       "        if (window._pyforest_update_imports_cell) { window._pyforest_update_imports_cell('import numpy as np\\nimport pandas as pd'); }\n",
       "    "
      ],
      "text/plain": [
       "<IPython.core.display.Javascript object>"
      ]
     },
     "metadata": {},
     "output_type": "display_data"
    },
    {
     "data": {
      "application/javascript": [
       "\n",
       "        if (window._pyforest_update_imports_cell) { window._pyforest_update_imports_cell('import numpy as np\\nimport pandas as pd'); }\n",
       "    "
      ],
      "text/plain": [
       "<IPython.core.display.Javascript object>"
      ]
     },
     "metadata": {},
     "output_type": "display_data"
    },
    {
     "data": {
      "application/javascript": [
       "\n",
       "        if (window._pyforest_update_imports_cell) { window._pyforest_update_imports_cell('import numpy as np\\nimport pandas as pd'); }\n",
       "    "
      ],
      "text/plain": [
       "<IPython.core.display.Javascript object>"
      ]
     },
     "metadata": {},
     "output_type": "display_data"
    },
    {
     "data": {
      "application/javascript": [
       "\n",
       "        if (window._pyforest_update_imports_cell) { window._pyforest_update_imports_cell('import numpy as np\\nimport pandas as pd'); }\n",
       "    "
      ],
      "text/plain": [
       "<IPython.core.display.Javascript object>"
      ]
     },
     "metadata": {},
     "output_type": "display_data"
    },
    {
     "data": {
      "application/javascript": [
       "\n",
       "        if (window._pyforest_update_imports_cell) { window._pyforest_update_imports_cell('import numpy as np\\nimport pandas as pd'); }\n",
       "    "
      ],
      "text/plain": [
       "<IPython.core.display.Javascript object>"
      ]
     },
     "metadata": {},
     "output_type": "display_data"
    },
    {
     "data": {
      "application/javascript": [
       "\n",
       "        if (window._pyforest_update_imports_cell) { window._pyforest_update_imports_cell('import numpy as np\\nimport pandas as pd'); }\n",
       "    "
      ],
      "text/plain": [
       "<IPython.core.display.Javascript object>"
      ]
     },
     "metadata": {},
     "output_type": "display_data"
    },
    {
     "data": {
      "application/javascript": [
       "\n",
       "        if (window._pyforest_update_imports_cell) { window._pyforest_update_imports_cell('import numpy as np\\nimport pandas as pd'); }\n",
       "    "
      ],
      "text/plain": [
       "<IPython.core.display.Javascript object>"
      ]
     },
     "metadata": {},
     "output_type": "display_data"
    },
    {
     "data": {
      "application/javascript": [
       "\n",
       "        if (window._pyforest_update_imports_cell) { window._pyforest_update_imports_cell('import numpy as np\\nimport pandas as pd'); }\n",
       "    "
      ],
      "text/plain": [
       "<IPython.core.display.Javascript object>"
      ]
     },
     "metadata": {},
     "output_type": "display_data"
    },
    {
     "data": {
      "application/javascript": [
       "\n",
       "        if (window._pyforest_update_imports_cell) { window._pyforest_update_imports_cell('import numpy as np\\nimport pandas as pd'); }\n",
       "    "
      ],
      "text/plain": [
       "<IPython.core.display.Javascript object>"
      ]
     },
     "metadata": {},
     "output_type": "display_data"
    },
    {
     "data": {
      "application/javascript": [
       "\n",
       "        if (window._pyforest_update_imports_cell) { window._pyforest_update_imports_cell('import numpy as np\\nimport pandas as pd'); }\n",
       "    "
      ],
      "text/plain": [
       "<IPython.core.display.Javascript object>"
      ]
     },
     "metadata": {},
     "output_type": "display_data"
    },
    {
     "data": {
      "application/javascript": [
       "\n",
       "        if (window._pyforest_update_imports_cell) { window._pyforest_update_imports_cell('import numpy as np\\nimport pandas as pd'); }\n",
       "    "
      ],
      "text/plain": [
       "<IPython.core.display.Javascript object>"
      ]
     },
     "metadata": {},
     "output_type": "display_data"
    },
    {
     "data": {
      "application/javascript": [
       "\n",
       "        if (window._pyforest_update_imports_cell) { window._pyforest_update_imports_cell('import numpy as np\\nimport pandas as pd'); }\n",
       "    "
      ],
      "text/plain": [
       "<IPython.core.display.Javascript object>"
      ]
     },
     "metadata": {},
     "output_type": "display_data"
    },
    {
     "data": {
      "application/javascript": [
       "\n",
       "        if (window._pyforest_update_imports_cell) { window._pyforest_update_imports_cell('import numpy as np\\nimport pandas as pd'); }\n",
       "    "
      ],
      "text/plain": [
       "<IPython.core.display.Javascript object>"
      ]
     },
     "metadata": {},
     "output_type": "display_data"
    },
    {
     "data": {
      "application/javascript": [
       "\n",
       "        if (window._pyforest_update_imports_cell) { window._pyforest_update_imports_cell('import numpy as np\\nimport pandas as pd'); }\n",
       "    "
      ],
      "text/plain": [
       "<IPython.core.display.Javascript object>"
      ]
     },
     "metadata": {},
     "output_type": "display_data"
    },
    {
     "data": {
      "application/javascript": [
       "\n",
       "        if (window._pyforest_update_imports_cell) { window._pyforest_update_imports_cell('import numpy as np\\nimport pandas as pd'); }\n",
       "    "
      ],
      "text/plain": [
       "<IPython.core.display.Javascript object>"
      ]
     },
     "metadata": {},
     "output_type": "display_data"
    },
    {
     "data": {
      "application/javascript": [
       "\n",
       "        if (window._pyforest_update_imports_cell) { window._pyforest_update_imports_cell('import numpy as np\\nimport pandas as pd'); }\n",
       "    "
      ],
      "text/plain": [
       "<IPython.core.display.Javascript object>"
      ]
     },
     "metadata": {},
     "output_type": "display_data"
    },
    {
     "data": {
      "application/javascript": [
       "\n",
       "        if (window._pyforest_update_imports_cell) { window._pyforest_update_imports_cell('import numpy as np\\nimport pandas as pd'); }\n",
       "    "
      ],
      "text/plain": [
       "<IPython.core.display.Javascript object>"
      ]
     },
     "metadata": {},
     "output_type": "display_data"
    },
    {
     "data": {
      "application/javascript": [
       "\n",
       "        if (window._pyforest_update_imports_cell) { window._pyforest_update_imports_cell('import numpy as np\\nimport pandas as pd'); }\n",
       "    "
      ],
      "text/plain": [
       "<IPython.core.display.Javascript object>"
      ]
     },
     "metadata": {},
     "output_type": "display_data"
    },
    {
     "data": {
      "application/javascript": [
       "\n",
       "        if (window._pyforest_update_imports_cell) { window._pyforest_update_imports_cell('import numpy as np\\nimport pandas as pd'); }\n",
       "    "
      ],
      "text/plain": [
       "<IPython.core.display.Javascript object>"
      ]
     },
     "metadata": {},
     "output_type": "display_data"
    },
    {
     "name": "stdout",
     "output_type": "stream",
     "text": [
      "10.page scraped...\n"
     ]
    },
    {
     "data": {
      "application/javascript": [
       "\n",
       "        if (window._pyforest_update_imports_cell) { window._pyforest_update_imports_cell('import numpy as np\\nimport pandas as pd'); }\n",
       "    "
      ],
      "text/plain": [
       "<IPython.core.display.Javascript object>"
      ]
     },
     "metadata": {},
     "output_type": "display_data"
    },
    {
     "data": {
      "application/javascript": [
       "\n",
       "        if (window._pyforest_update_imports_cell) { window._pyforest_update_imports_cell('import numpy as np\\nimport pandas as pd'); }\n",
       "    "
      ],
      "text/plain": [
       "<IPython.core.display.Javascript object>"
      ]
     },
     "metadata": {},
     "output_type": "display_data"
    },
    {
     "data": {
      "application/javascript": [
       "\n",
       "        if (window._pyforest_update_imports_cell) { window._pyforest_update_imports_cell('import numpy as np\\nimport pandas as pd'); }\n",
       "    "
      ],
      "text/plain": [
       "<IPython.core.display.Javascript object>"
      ]
     },
     "metadata": {},
     "output_type": "display_data"
    },
    {
     "data": {
      "application/javascript": [
       "\n",
       "        if (window._pyforest_update_imports_cell) { window._pyforest_update_imports_cell('import numpy as np\\nimport pandas as pd'); }\n",
       "    "
      ],
      "text/plain": [
       "<IPython.core.display.Javascript object>"
      ]
     },
     "metadata": {},
     "output_type": "display_data"
    },
    {
     "data": {
      "application/javascript": [
       "\n",
       "        if (window._pyforest_update_imports_cell) { window._pyforest_update_imports_cell('import numpy as np\\nimport pandas as pd'); }\n",
       "    "
      ],
      "text/plain": [
       "<IPython.core.display.Javascript object>"
      ]
     },
     "metadata": {},
     "output_type": "display_data"
    },
    {
     "data": {
      "application/javascript": [
       "\n",
       "        if (window._pyforest_update_imports_cell) { window._pyforest_update_imports_cell('import numpy as np\\nimport pandas as pd'); }\n",
       "    "
      ],
      "text/plain": [
       "<IPython.core.display.Javascript object>"
      ]
     },
     "metadata": {},
     "output_type": "display_data"
    },
    {
     "data": {
      "application/javascript": [
       "\n",
       "        if (window._pyforest_update_imports_cell) { window._pyforest_update_imports_cell('import numpy as np\\nimport pandas as pd'); }\n",
       "    "
      ],
      "text/plain": [
       "<IPython.core.display.Javascript object>"
      ]
     },
     "metadata": {},
     "output_type": "display_data"
    },
    {
     "data": {
      "application/javascript": [
       "\n",
       "        if (window._pyforest_update_imports_cell) { window._pyforest_update_imports_cell('import numpy as np\\nimport pandas as pd'); }\n",
       "    "
      ],
      "text/plain": [
       "<IPython.core.display.Javascript object>"
      ]
     },
     "metadata": {},
     "output_type": "display_data"
    },
    {
     "data": {
      "application/javascript": [
       "\n",
       "        if (window._pyforest_update_imports_cell) { window._pyforest_update_imports_cell('import numpy as np\\nimport pandas as pd'); }\n",
       "    "
      ],
      "text/plain": [
       "<IPython.core.display.Javascript object>"
      ]
     },
     "metadata": {},
     "output_type": "display_data"
    },
    {
     "data": {
      "application/javascript": [
       "\n",
       "        if (window._pyforest_update_imports_cell) { window._pyforest_update_imports_cell('import numpy as np\\nimport pandas as pd'); }\n",
       "    "
      ],
      "text/plain": [
       "<IPython.core.display.Javascript object>"
      ]
     },
     "metadata": {},
     "output_type": "display_data"
    },
    {
     "data": {
      "application/javascript": [
       "\n",
       "        if (window._pyforest_update_imports_cell) { window._pyforest_update_imports_cell('import numpy as np\\nimport pandas as pd'); }\n",
       "    "
      ],
      "text/plain": [
       "<IPython.core.display.Javascript object>"
      ]
     },
     "metadata": {},
     "output_type": "display_data"
    },
    {
     "data": {
      "application/javascript": [
       "\n",
       "        if (window._pyforest_update_imports_cell) { window._pyforest_update_imports_cell('import numpy as np\\nimport pandas as pd'); }\n",
       "    "
      ],
      "text/plain": [
       "<IPython.core.display.Javascript object>"
      ]
     },
     "metadata": {},
     "output_type": "display_data"
    },
    {
     "data": {
      "application/javascript": [
       "\n",
       "        if (window._pyforest_update_imports_cell) { window._pyforest_update_imports_cell('import numpy as np\\nimport pandas as pd'); }\n",
       "    "
      ],
      "text/plain": [
       "<IPython.core.display.Javascript object>"
      ]
     },
     "metadata": {},
     "output_type": "display_data"
    },
    {
     "data": {
      "application/javascript": [
       "\n",
       "        if (window._pyforest_update_imports_cell) { window._pyforest_update_imports_cell('import numpy as np\\nimport pandas as pd'); }\n",
       "    "
      ],
      "text/plain": [
       "<IPython.core.display.Javascript object>"
      ]
     },
     "metadata": {},
     "output_type": "display_data"
    },
    {
     "data": {
      "application/javascript": [
       "\n",
       "        if (window._pyforest_update_imports_cell) { window._pyforest_update_imports_cell('import numpy as np\\nimport pandas as pd'); }\n",
       "    "
      ],
      "text/plain": [
       "<IPython.core.display.Javascript object>"
      ]
     },
     "metadata": {},
     "output_type": "display_data"
    },
    {
     "data": {
      "application/javascript": [
       "\n",
       "        if (window._pyforest_update_imports_cell) { window._pyforest_update_imports_cell('import numpy as np\\nimport pandas as pd'); }\n",
       "    "
      ],
      "text/plain": [
       "<IPython.core.display.Javascript object>"
      ]
     },
     "metadata": {},
     "output_type": "display_data"
    },
    {
     "data": {
      "application/javascript": [
       "\n",
       "        if (window._pyforest_update_imports_cell) { window._pyforest_update_imports_cell('import numpy as np\\nimport pandas as pd'); }\n",
       "    "
      ],
      "text/plain": [
       "<IPython.core.display.Javascript object>"
      ]
     },
     "metadata": {},
     "output_type": "display_data"
    },
    {
     "data": {
      "application/javascript": [
       "\n",
       "        if (window._pyforest_update_imports_cell) { window._pyforest_update_imports_cell('import numpy as np\\nimport pandas as pd'); }\n",
       "    "
      ],
      "text/plain": [
       "<IPython.core.display.Javascript object>"
      ]
     },
     "metadata": {},
     "output_type": "display_data"
    },
    {
     "data": {
      "application/javascript": [
       "\n",
       "        if (window._pyforest_update_imports_cell) { window._pyforest_update_imports_cell('import numpy as np\\nimport pandas as pd'); }\n",
       "    "
      ],
      "text/plain": [
       "<IPython.core.display.Javascript object>"
      ]
     },
     "metadata": {},
     "output_type": "display_data"
    },
    {
     "data": {
      "application/javascript": [
       "\n",
       "        if (window._pyforest_update_imports_cell) { window._pyforest_update_imports_cell('import numpy as np\\nimport pandas as pd'); }\n",
       "    "
      ],
      "text/plain": [
       "<IPython.core.display.Javascript object>"
      ]
     },
     "metadata": {},
     "output_type": "display_data"
    },
    {
     "data": {
      "application/javascript": [
       "\n",
       "        if (window._pyforest_update_imports_cell) { window._pyforest_update_imports_cell('import numpy as np\\nimport pandas as pd'); }\n",
       "    "
      ],
      "text/plain": [
       "<IPython.core.display.Javascript object>"
      ]
     },
     "metadata": {},
     "output_type": "display_data"
    },
    {
     "data": {
      "application/javascript": [
       "\n",
       "        if (window._pyforest_update_imports_cell) { window._pyforest_update_imports_cell('import numpy as np\\nimport pandas as pd'); }\n",
       "    "
      ],
      "text/plain": [
       "<IPython.core.display.Javascript object>"
      ]
     },
     "metadata": {},
     "output_type": "display_data"
    },
    {
     "data": {
      "application/javascript": [
       "\n",
       "        if (window._pyforest_update_imports_cell) { window._pyforest_update_imports_cell('import numpy as np\\nimport pandas as pd'); }\n",
       "    "
      ],
      "text/plain": [
       "<IPython.core.display.Javascript object>"
      ]
     },
     "metadata": {},
     "output_type": "display_data"
    },
    {
     "data": {
      "application/javascript": [
       "\n",
       "        if (window._pyforest_update_imports_cell) { window._pyforest_update_imports_cell('import numpy as np\\nimport pandas as pd'); }\n",
       "    "
      ],
      "text/plain": [
       "<IPython.core.display.Javascript object>"
      ]
     },
     "metadata": {},
     "output_type": "display_data"
    },
    {
     "data": {
      "application/javascript": [
       "\n",
       "        if (window._pyforest_update_imports_cell) { window._pyforest_update_imports_cell('import numpy as np\\nimport pandas as pd'); }\n",
       "    "
      ],
      "text/plain": [
       "<IPython.core.display.Javascript object>"
      ]
     },
     "metadata": {},
     "output_type": "display_data"
    },
    {
     "data": {
      "application/javascript": [
       "\n",
       "        if (window._pyforest_update_imports_cell) { window._pyforest_update_imports_cell('import numpy as np\\nimport pandas as pd'); }\n",
       "    "
      ],
      "text/plain": [
       "<IPython.core.display.Javascript object>"
      ]
     },
     "metadata": {},
     "output_type": "display_data"
    },
    {
     "data": {
      "application/javascript": [
       "\n",
       "        if (window._pyforest_update_imports_cell) { window._pyforest_update_imports_cell('import numpy as np\\nimport pandas as pd'); }\n",
       "    "
      ],
      "text/plain": [
       "<IPython.core.display.Javascript object>"
      ]
     },
     "metadata": {},
     "output_type": "display_data"
    },
    {
     "data": {
      "application/javascript": [
       "\n",
       "        if (window._pyforest_update_imports_cell) { window._pyforest_update_imports_cell('import numpy as np\\nimport pandas as pd'); }\n",
       "    "
      ],
      "text/plain": [
       "<IPython.core.display.Javascript object>"
      ]
     },
     "metadata": {},
     "output_type": "display_data"
    },
    {
     "data": {
      "application/javascript": [
       "\n",
       "        if (window._pyforest_update_imports_cell) { window._pyforest_update_imports_cell('import numpy as np\\nimport pandas as pd'); }\n",
       "    "
      ],
      "text/plain": [
       "<IPython.core.display.Javascript object>"
      ]
     },
     "metadata": {},
     "output_type": "display_data"
    },
    {
     "data": {
      "application/javascript": [
       "\n",
       "        if (window._pyforest_update_imports_cell) { window._pyforest_update_imports_cell('import numpy as np\\nimport pandas as pd'); }\n",
       "    "
      ],
      "text/plain": [
       "<IPython.core.display.Javascript object>"
      ]
     },
     "metadata": {},
     "output_type": "display_data"
    },
    {
     "data": {
      "application/javascript": [
       "\n",
       "        if (window._pyforest_update_imports_cell) { window._pyforest_update_imports_cell('import numpy as np\\nimport pandas as pd'); }\n",
       "    "
      ],
      "text/plain": [
       "<IPython.core.display.Javascript object>"
      ]
     },
     "metadata": {},
     "output_type": "display_data"
    },
    {
     "data": {
      "application/javascript": [
       "\n",
       "        if (window._pyforest_update_imports_cell) { window._pyforest_update_imports_cell('import numpy as np\\nimport pandas as pd'); }\n",
       "    "
      ],
      "text/plain": [
       "<IPython.core.display.Javascript object>"
      ]
     },
     "metadata": {},
     "output_type": "display_data"
    },
    {
     "data": {
      "application/javascript": [
       "\n",
       "        if (window._pyforest_update_imports_cell) { window._pyforest_update_imports_cell('import numpy as np\\nimport pandas as pd'); }\n",
       "    "
      ],
      "text/plain": [
       "<IPython.core.display.Javascript object>"
      ]
     },
     "metadata": {},
     "output_type": "display_data"
    },
    {
     "data": {
      "application/javascript": [
       "\n",
       "        if (window._pyforest_update_imports_cell) { window._pyforest_update_imports_cell('import numpy as np\\nimport pandas as pd'); }\n",
       "    "
      ],
      "text/plain": [
       "<IPython.core.display.Javascript object>"
      ]
     },
     "metadata": {},
     "output_type": "display_data"
    },
    {
     "data": {
      "application/javascript": [
       "\n",
       "        if (window._pyforest_update_imports_cell) { window._pyforest_update_imports_cell('import numpy as np\\nimport pandas as pd'); }\n",
       "    "
      ],
      "text/plain": [
       "<IPython.core.display.Javascript object>"
      ]
     },
     "metadata": {},
     "output_type": "display_data"
    },
    {
     "data": {
      "application/javascript": [
       "\n",
       "        if (window._pyforest_update_imports_cell) { window._pyforest_update_imports_cell('import numpy as np\\nimport pandas as pd'); }\n",
       "    "
      ],
      "text/plain": [
       "<IPython.core.display.Javascript object>"
      ]
     },
     "metadata": {},
     "output_type": "display_data"
    },
    {
     "data": {
      "application/javascript": [
       "\n",
       "        if (window._pyforest_update_imports_cell) { window._pyforest_update_imports_cell('import numpy as np\\nimport pandas as pd'); }\n",
       "    "
      ],
      "text/plain": [
       "<IPython.core.display.Javascript object>"
      ]
     },
     "metadata": {},
     "output_type": "display_data"
    },
    {
     "data": {
      "application/javascript": [
       "\n",
       "        if (window._pyforest_update_imports_cell) { window._pyforest_update_imports_cell('import numpy as np\\nimport pandas as pd'); }\n",
       "    "
      ],
      "text/plain": [
       "<IPython.core.display.Javascript object>"
      ]
     },
     "metadata": {},
     "output_type": "display_data"
    },
    {
     "name": "stdout",
     "output_type": "stream",
     "text": [
      "11.page scraped...\n"
     ]
    },
    {
     "data": {
      "application/javascript": [
       "\n",
       "        if (window._pyforest_update_imports_cell) { window._pyforest_update_imports_cell('import numpy as np\\nimport pandas as pd'); }\n",
       "    "
      ],
      "text/plain": [
       "<IPython.core.display.Javascript object>"
      ]
     },
     "metadata": {},
     "output_type": "display_data"
    },
    {
     "data": {
      "application/javascript": [
       "\n",
       "        if (window._pyforest_update_imports_cell) { window._pyforest_update_imports_cell('import numpy as np\\nimport pandas as pd'); }\n",
       "    "
      ],
      "text/plain": [
       "<IPython.core.display.Javascript object>"
      ]
     },
     "metadata": {},
     "output_type": "display_data"
    },
    {
     "data": {
      "application/javascript": [
       "\n",
       "        if (window._pyforest_update_imports_cell) { window._pyforest_update_imports_cell('import numpy as np\\nimport pandas as pd'); }\n",
       "    "
      ],
      "text/plain": [
       "<IPython.core.display.Javascript object>"
      ]
     },
     "metadata": {},
     "output_type": "display_data"
    },
    {
     "data": {
      "application/javascript": [
       "\n",
       "        if (window._pyforest_update_imports_cell) { window._pyforest_update_imports_cell('import numpy as np\\nimport pandas as pd'); }\n",
       "    "
      ],
      "text/plain": [
       "<IPython.core.display.Javascript object>"
      ]
     },
     "metadata": {},
     "output_type": "display_data"
    },
    {
     "data": {
      "application/javascript": [
       "\n",
       "        if (window._pyforest_update_imports_cell) { window._pyforest_update_imports_cell('import numpy as np\\nimport pandas as pd'); }\n",
       "    "
      ],
      "text/plain": [
       "<IPython.core.display.Javascript object>"
      ]
     },
     "metadata": {},
     "output_type": "display_data"
    },
    {
     "data": {
      "application/javascript": [
       "\n",
       "        if (window._pyforest_update_imports_cell) { window._pyforest_update_imports_cell('import numpy as np\\nimport pandas as pd'); }\n",
       "    "
      ],
      "text/plain": [
       "<IPython.core.display.Javascript object>"
      ]
     },
     "metadata": {},
     "output_type": "display_data"
    },
    {
     "data": {
      "application/javascript": [
       "\n",
       "        if (window._pyforest_update_imports_cell) { window._pyforest_update_imports_cell('import numpy as np\\nimport pandas as pd'); }\n",
       "    "
      ],
      "text/plain": [
       "<IPython.core.display.Javascript object>"
      ]
     },
     "metadata": {},
     "output_type": "display_data"
    },
    {
     "data": {
      "application/javascript": [
       "\n",
       "        if (window._pyforest_update_imports_cell) { window._pyforest_update_imports_cell('import numpy as np\\nimport pandas as pd'); }\n",
       "    "
      ],
      "text/plain": [
       "<IPython.core.display.Javascript object>"
      ]
     },
     "metadata": {},
     "output_type": "display_data"
    },
    {
     "data": {
      "application/javascript": [
       "\n",
       "        if (window._pyforest_update_imports_cell) { window._pyforest_update_imports_cell('import numpy as np\\nimport pandas as pd'); }\n",
       "    "
      ],
      "text/plain": [
       "<IPython.core.display.Javascript object>"
      ]
     },
     "metadata": {},
     "output_type": "display_data"
    },
    {
     "data": {
      "application/javascript": [
       "\n",
       "        if (window._pyforest_update_imports_cell) { window._pyforest_update_imports_cell('import numpy as np\\nimport pandas as pd'); }\n",
       "    "
      ],
      "text/plain": [
       "<IPython.core.display.Javascript object>"
      ]
     },
     "metadata": {},
     "output_type": "display_data"
    },
    {
     "data": {
      "application/javascript": [
       "\n",
       "        if (window._pyforest_update_imports_cell) { window._pyforest_update_imports_cell('import numpy as np\\nimport pandas as pd'); }\n",
       "    "
      ],
      "text/plain": [
       "<IPython.core.display.Javascript object>"
      ]
     },
     "metadata": {},
     "output_type": "display_data"
    },
    {
     "data": {
      "application/javascript": [
       "\n",
       "        if (window._pyforest_update_imports_cell) { window._pyforest_update_imports_cell('import numpy as np\\nimport pandas as pd'); }\n",
       "    "
      ],
      "text/plain": [
       "<IPython.core.display.Javascript object>"
      ]
     },
     "metadata": {},
     "output_type": "display_data"
    },
    {
     "data": {
      "application/javascript": [
       "\n",
       "        if (window._pyforest_update_imports_cell) { window._pyforest_update_imports_cell('import numpy as np\\nimport pandas as pd'); }\n",
       "    "
      ],
      "text/plain": [
       "<IPython.core.display.Javascript object>"
      ]
     },
     "metadata": {},
     "output_type": "display_data"
    },
    {
     "data": {
      "application/javascript": [
       "\n",
       "        if (window._pyforest_update_imports_cell) { window._pyforest_update_imports_cell('import numpy as np\\nimport pandas as pd'); }\n",
       "    "
      ],
      "text/plain": [
       "<IPython.core.display.Javascript object>"
      ]
     },
     "metadata": {},
     "output_type": "display_data"
    },
    {
     "data": {
      "application/javascript": [
       "\n",
       "        if (window._pyforest_update_imports_cell) { window._pyforest_update_imports_cell('import numpy as np\\nimport pandas as pd'); }\n",
       "    "
      ],
      "text/plain": [
       "<IPython.core.display.Javascript object>"
      ]
     },
     "metadata": {},
     "output_type": "display_data"
    },
    {
     "data": {
      "application/javascript": [
       "\n",
       "        if (window._pyforest_update_imports_cell) { window._pyforest_update_imports_cell('import numpy as np\\nimport pandas as pd'); }\n",
       "    "
      ],
      "text/plain": [
       "<IPython.core.display.Javascript object>"
      ]
     },
     "metadata": {},
     "output_type": "display_data"
    },
    {
     "data": {
      "application/javascript": [
       "\n",
       "        if (window._pyforest_update_imports_cell) { window._pyforest_update_imports_cell('import numpy as np\\nimport pandas as pd'); }\n",
       "    "
      ],
      "text/plain": [
       "<IPython.core.display.Javascript object>"
      ]
     },
     "metadata": {},
     "output_type": "display_data"
    },
    {
     "data": {
      "application/javascript": [
       "\n",
       "        if (window._pyforest_update_imports_cell) { window._pyforest_update_imports_cell('import numpy as np\\nimport pandas as pd'); }\n",
       "    "
      ],
      "text/plain": [
       "<IPython.core.display.Javascript object>"
      ]
     },
     "metadata": {},
     "output_type": "display_data"
    },
    {
     "data": {
      "application/javascript": [
       "\n",
       "        if (window._pyforest_update_imports_cell) { window._pyforest_update_imports_cell('import numpy as np\\nimport pandas as pd'); }\n",
       "    "
      ],
      "text/plain": [
       "<IPython.core.display.Javascript object>"
      ]
     },
     "metadata": {},
     "output_type": "display_data"
    },
    {
     "data": {
      "application/javascript": [
       "\n",
       "        if (window._pyforest_update_imports_cell) { window._pyforest_update_imports_cell('import numpy as np\\nimport pandas as pd'); }\n",
       "    "
      ],
      "text/plain": [
       "<IPython.core.display.Javascript object>"
      ]
     },
     "metadata": {},
     "output_type": "display_data"
    },
    {
     "data": {
      "application/javascript": [
       "\n",
       "        if (window._pyforest_update_imports_cell) { window._pyforest_update_imports_cell('import numpy as np\\nimport pandas as pd'); }\n",
       "    "
      ],
      "text/plain": [
       "<IPython.core.display.Javascript object>"
      ]
     },
     "metadata": {},
     "output_type": "display_data"
    },
    {
     "data": {
      "application/javascript": [
       "\n",
       "        if (window._pyforest_update_imports_cell) { window._pyforest_update_imports_cell('import numpy as np\\nimport pandas as pd'); }\n",
       "    "
      ],
      "text/plain": [
       "<IPython.core.display.Javascript object>"
      ]
     },
     "metadata": {},
     "output_type": "display_data"
    },
    {
     "data": {
      "application/javascript": [
       "\n",
       "        if (window._pyforest_update_imports_cell) { window._pyforest_update_imports_cell('import numpy as np\\nimport pandas as pd'); }\n",
       "    "
      ],
      "text/plain": [
       "<IPython.core.display.Javascript object>"
      ]
     },
     "metadata": {},
     "output_type": "display_data"
    },
    {
     "data": {
      "application/javascript": [
       "\n",
       "        if (window._pyforest_update_imports_cell) { window._pyforest_update_imports_cell('import numpy as np\\nimport pandas as pd'); }\n",
       "    "
      ],
      "text/plain": [
       "<IPython.core.display.Javascript object>"
      ]
     },
     "metadata": {},
     "output_type": "display_data"
    },
    {
     "data": {
      "application/javascript": [
       "\n",
       "        if (window._pyforest_update_imports_cell) { window._pyforest_update_imports_cell('import numpy as np\\nimport pandas as pd'); }\n",
       "    "
      ],
      "text/plain": [
       "<IPython.core.display.Javascript object>"
      ]
     },
     "metadata": {},
     "output_type": "display_data"
    },
    {
     "data": {
      "application/javascript": [
       "\n",
       "        if (window._pyforest_update_imports_cell) { window._pyforest_update_imports_cell('import numpy as np\\nimport pandas as pd'); }\n",
       "    "
      ],
      "text/plain": [
       "<IPython.core.display.Javascript object>"
      ]
     },
     "metadata": {},
     "output_type": "display_data"
    },
    {
     "data": {
      "application/javascript": [
       "\n",
       "        if (window._pyforest_update_imports_cell) { window._pyforest_update_imports_cell('import numpy as np\\nimport pandas as pd'); }\n",
       "    "
      ],
      "text/plain": [
       "<IPython.core.display.Javascript object>"
      ]
     },
     "metadata": {},
     "output_type": "display_data"
    },
    {
     "data": {
      "application/javascript": [
       "\n",
       "        if (window._pyforest_update_imports_cell) { window._pyforest_update_imports_cell('import numpy as np\\nimport pandas as pd'); }\n",
       "    "
      ],
      "text/plain": [
       "<IPython.core.display.Javascript object>"
      ]
     },
     "metadata": {},
     "output_type": "display_data"
    },
    {
     "data": {
      "application/javascript": [
       "\n",
       "        if (window._pyforest_update_imports_cell) { window._pyforest_update_imports_cell('import numpy as np\\nimport pandas as pd'); }\n",
       "    "
      ],
      "text/plain": [
       "<IPython.core.display.Javascript object>"
      ]
     },
     "metadata": {},
     "output_type": "display_data"
    },
    {
     "data": {
      "application/javascript": [
       "\n",
       "        if (window._pyforest_update_imports_cell) { window._pyforest_update_imports_cell('import numpy as np\\nimport pandas as pd'); }\n",
       "    "
      ],
      "text/plain": [
       "<IPython.core.display.Javascript object>"
      ]
     },
     "metadata": {},
     "output_type": "display_data"
    },
    {
     "name": "stdout",
     "output_type": "stream",
     "text": [
      "12.page scraped...\n"
     ]
    },
    {
     "data": {
      "application/javascript": [
       "\n",
       "        if (window._pyforest_update_imports_cell) { window._pyforest_update_imports_cell('import numpy as np\\nimport pandas as pd'); }\n",
       "    "
      ],
      "text/plain": [
       "<IPython.core.display.Javascript object>"
      ]
     },
     "metadata": {},
     "output_type": "display_data"
    },
    {
     "data": {
      "application/javascript": [
       "\n",
       "        if (window._pyforest_update_imports_cell) { window._pyforest_update_imports_cell('import numpy as np\\nimport pandas as pd'); }\n",
       "    "
      ],
      "text/plain": [
       "<IPython.core.display.Javascript object>"
      ]
     },
     "metadata": {},
     "output_type": "display_data"
    },
    {
     "data": {
      "application/javascript": [
       "\n",
       "        if (window._pyforest_update_imports_cell) { window._pyforest_update_imports_cell('import numpy as np\\nimport pandas as pd'); }\n",
       "    "
      ],
      "text/plain": [
       "<IPython.core.display.Javascript object>"
      ]
     },
     "metadata": {},
     "output_type": "display_data"
    },
    {
     "data": {
      "application/javascript": [
       "\n",
       "        if (window._pyforest_update_imports_cell) { window._pyforest_update_imports_cell('import numpy as np\\nimport pandas as pd'); }\n",
       "    "
      ],
      "text/plain": [
       "<IPython.core.display.Javascript object>"
      ]
     },
     "metadata": {},
     "output_type": "display_data"
    },
    {
     "data": {
      "application/javascript": [
       "\n",
       "        if (window._pyforest_update_imports_cell) { window._pyforest_update_imports_cell('import numpy as np\\nimport pandas as pd'); }\n",
       "    "
      ],
      "text/plain": [
       "<IPython.core.display.Javascript object>"
      ]
     },
     "metadata": {},
     "output_type": "display_data"
    },
    {
     "data": {
      "application/javascript": [
       "\n",
       "        if (window._pyforest_update_imports_cell) { window._pyforest_update_imports_cell('import numpy as np\\nimport pandas as pd'); }\n",
       "    "
      ],
      "text/plain": [
       "<IPython.core.display.Javascript object>"
      ]
     },
     "metadata": {},
     "output_type": "display_data"
    },
    {
     "data": {
      "application/javascript": [
       "\n",
       "        if (window._pyforest_update_imports_cell) { window._pyforest_update_imports_cell('import numpy as np\\nimport pandas as pd'); }\n",
       "    "
      ],
      "text/plain": [
       "<IPython.core.display.Javascript object>"
      ]
     },
     "metadata": {},
     "output_type": "display_data"
    },
    {
     "data": {
      "application/javascript": [
       "\n",
       "        if (window._pyforest_update_imports_cell) { window._pyforest_update_imports_cell('import numpy as np\\nimport pandas as pd'); }\n",
       "    "
      ],
      "text/plain": [
       "<IPython.core.display.Javascript object>"
      ]
     },
     "metadata": {},
     "output_type": "display_data"
    },
    {
     "data": {
      "application/javascript": [
       "\n",
       "        if (window._pyforest_update_imports_cell) { window._pyforest_update_imports_cell('import numpy as np\\nimport pandas as pd'); }\n",
       "    "
      ],
      "text/plain": [
       "<IPython.core.display.Javascript object>"
      ]
     },
     "metadata": {},
     "output_type": "display_data"
    },
    {
     "data": {
      "application/javascript": [
       "\n",
       "        if (window._pyforest_update_imports_cell) { window._pyforest_update_imports_cell('import numpy as np\\nimport pandas as pd'); }\n",
       "    "
      ],
      "text/plain": [
       "<IPython.core.display.Javascript object>"
      ]
     },
     "metadata": {},
     "output_type": "display_data"
    },
    {
     "data": {
      "application/javascript": [
       "\n",
       "        if (window._pyforest_update_imports_cell) { window._pyforest_update_imports_cell('import numpy as np\\nimport pandas as pd'); }\n",
       "    "
      ],
      "text/plain": [
       "<IPython.core.display.Javascript object>"
      ]
     },
     "metadata": {},
     "output_type": "display_data"
    },
    {
     "data": {
      "application/javascript": [
       "\n",
       "        if (window._pyforest_update_imports_cell) { window._pyforest_update_imports_cell('import numpy as np\\nimport pandas as pd'); }\n",
       "    "
      ],
      "text/plain": [
       "<IPython.core.display.Javascript object>"
      ]
     },
     "metadata": {},
     "output_type": "display_data"
    },
    {
     "data": {
      "application/javascript": [
       "\n",
       "        if (window._pyforest_update_imports_cell) { window._pyforest_update_imports_cell('import numpy as np\\nimport pandas as pd'); }\n",
       "    "
      ],
      "text/plain": [
       "<IPython.core.display.Javascript object>"
      ]
     },
     "metadata": {},
     "output_type": "display_data"
    },
    {
     "data": {
      "application/javascript": [
       "\n",
       "        if (window._pyforest_update_imports_cell) { window._pyforest_update_imports_cell('import numpy as np\\nimport pandas as pd'); }\n",
       "    "
      ],
      "text/plain": [
       "<IPython.core.display.Javascript object>"
      ]
     },
     "metadata": {},
     "output_type": "display_data"
    },
    {
     "data": {
      "application/javascript": [
       "\n",
       "        if (window._pyforest_update_imports_cell) { window._pyforest_update_imports_cell('import numpy as np\\nimport pandas as pd'); }\n",
       "    "
      ],
      "text/plain": [
       "<IPython.core.display.Javascript object>"
      ]
     },
     "metadata": {},
     "output_type": "display_data"
    },
    {
     "data": {
      "application/javascript": [
       "\n",
       "        if (window._pyforest_update_imports_cell) { window._pyforest_update_imports_cell('import numpy as np\\nimport pandas as pd'); }\n",
       "    "
      ],
      "text/plain": [
       "<IPython.core.display.Javascript object>"
      ]
     },
     "metadata": {},
     "output_type": "display_data"
    },
    {
     "data": {
      "application/javascript": [
       "\n",
       "        if (window._pyforest_update_imports_cell) { window._pyforest_update_imports_cell('import numpy as np\\nimport pandas as pd'); }\n",
       "    "
      ],
      "text/plain": [
       "<IPython.core.display.Javascript object>"
      ]
     },
     "metadata": {},
     "output_type": "display_data"
    },
    {
     "data": {
      "application/javascript": [
       "\n",
       "        if (window._pyforest_update_imports_cell) { window._pyforest_update_imports_cell('import numpy as np\\nimport pandas as pd'); }\n",
       "    "
      ],
      "text/plain": [
       "<IPython.core.display.Javascript object>"
      ]
     },
     "metadata": {},
     "output_type": "display_data"
    },
    {
     "data": {
      "application/javascript": [
       "\n",
       "        if (window._pyforest_update_imports_cell) { window._pyforest_update_imports_cell('import numpy as np\\nimport pandas as pd'); }\n",
       "    "
      ],
      "text/plain": [
       "<IPython.core.display.Javascript object>"
      ]
     },
     "metadata": {},
     "output_type": "display_data"
    },
    {
     "data": {
      "application/javascript": [
       "\n",
       "        if (window._pyforest_update_imports_cell) { window._pyforest_update_imports_cell('import numpy as np\\nimport pandas as pd'); }\n",
       "    "
      ],
      "text/plain": [
       "<IPython.core.display.Javascript object>"
      ]
     },
     "metadata": {},
     "output_type": "display_data"
    },
    {
     "data": {
      "application/javascript": [
       "\n",
       "        if (window._pyforest_update_imports_cell) { window._pyforest_update_imports_cell('import numpy as np\\nimport pandas as pd'); }\n",
       "    "
      ],
      "text/plain": [
       "<IPython.core.display.Javascript object>"
      ]
     },
     "metadata": {},
     "output_type": "display_data"
    },
    {
     "data": {
      "application/javascript": [
       "\n",
       "        if (window._pyforest_update_imports_cell) { window._pyforest_update_imports_cell('import numpy as np\\nimport pandas as pd'); }\n",
       "    "
      ],
      "text/plain": [
       "<IPython.core.display.Javascript object>"
      ]
     },
     "metadata": {},
     "output_type": "display_data"
    },
    {
     "data": {
      "application/javascript": [
       "\n",
       "        if (window._pyforest_update_imports_cell) { window._pyforest_update_imports_cell('import numpy as np\\nimport pandas as pd'); }\n",
       "    "
      ],
      "text/plain": [
       "<IPython.core.display.Javascript object>"
      ]
     },
     "metadata": {},
     "output_type": "display_data"
    },
    {
     "data": {
      "application/javascript": [
       "\n",
       "        if (window._pyforest_update_imports_cell) { window._pyforest_update_imports_cell('import numpy as np\\nimport pandas as pd'); }\n",
       "    "
      ],
      "text/plain": [
       "<IPython.core.display.Javascript object>"
      ]
     },
     "metadata": {},
     "output_type": "display_data"
    },
    {
     "data": {
      "application/javascript": [
       "\n",
       "        if (window._pyforest_update_imports_cell) { window._pyforest_update_imports_cell('import numpy as np\\nimport pandas as pd'); }\n",
       "    "
      ],
      "text/plain": [
       "<IPython.core.display.Javascript object>"
      ]
     },
     "metadata": {},
     "output_type": "display_data"
    },
    {
     "data": {
      "application/javascript": [
       "\n",
       "        if (window._pyforest_update_imports_cell) { window._pyforest_update_imports_cell('import numpy as np\\nimport pandas as pd'); }\n",
       "    "
      ],
      "text/plain": [
       "<IPython.core.display.Javascript object>"
      ]
     },
     "metadata": {},
     "output_type": "display_data"
    },
    {
     "data": {
      "application/javascript": [
       "\n",
       "        if (window._pyforest_update_imports_cell) { window._pyforest_update_imports_cell('import numpy as np\\nimport pandas as pd'); }\n",
       "    "
      ],
      "text/plain": [
       "<IPython.core.display.Javascript object>"
      ]
     },
     "metadata": {},
     "output_type": "display_data"
    },
    {
     "data": {
      "application/javascript": [
       "\n",
       "        if (window._pyforest_update_imports_cell) { window._pyforest_update_imports_cell('import numpy as np\\nimport pandas as pd'); }\n",
       "    "
      ],
      "text/plain": [
       "<IPython.core.display.Javascript object>"
      ]
     },
     "metadata": {},
     "output_type": "display_data"
    },
    {
     "data": {
      "application/javascript": [
       "\n",
       "        if (window._pyforest_update_imports_cell) { window._pyforest_update_imports_cell('import numpy as np\\nimport pandas as pd'); }\n",
       "    "
      ],
      "text/plain": [
       "<IPython.core.display.Javascript object>"
      ]
     },
     "metadata": {},
     "output_type": "display_data"
    },
    {
     "data": {
      "application/javascript": [
       "\n",
       "        if (window._pyforest_update_imports_cell) { window._pyforest_update_imports_cell('import numpy as np\\nimport pandas as pd'); }\n",
       "    "
      ],
      "text/plain": [
       "<IPython.core.display.Javascript object>"
      ]
     },
     "metadata": {},
     "output_type": "display_data"
    },
    {
     "name": "stdout",
     "output_type": "stream",
     "text": [
      "13.page scraped...\n"
     ]
    },
    {
     "data": {
      "application/javascript": [
       "\n",
       "        if (window._pyforest_update_imports_cell) { window._pyforest_update_imports_cell('import numpy as np\\nimport pandas as pd'); }\n",
       "    "
      ],
      "text/plain": [
       "<IPython.core.display.Javascript object>"
      ]
     },
     "metadata": {},
     "output_type": "display_data"
    },
    {
     "data": {
      "application/javascript": [
       "\n",
       "        if (window._pyforest_update_imports_cell) { window._pyforest_update_imports_cell('import numpy as np\\nimport pandas as pd'); }\n",
       "    "
      ],
      "text/plain": [
       "<IPython.core.display.Javascript object>"
      ]
     },
     "metadata": {},
     "output_type": "display_data"
    },
    {
     "data": {
      "application/javascript": [
       "\n",
       "        if (window._pyforest_update_imports_cell) { window._pyforest_update_imports_cell('import numpy as np\\nimport pandas as pd'); }\n",
       "    "
      ],
      "text/plain": [
       "<IPython.core.display.Javascript object>"
      ]
     },
     "metadata": {},
     "output_type": "display_data"
    },
    {
     "data": {
      "application/javascript": [
       "\n",
       "        if (window._pyforest_update_imports_cell) { window._pyforest_update_imports_cell('import numpy as np\\nimport pandas as pd'); }\n",
       "    "
      ],
      "text/plain": [
       "<IPython.core.display.Javascript object>"
      ]
     },
     "metadata": {},
     "output_type": "display_data"
    },
    {
     "data": {
      "application/javascript": [
       "\n",
       "        if (window._pyforest_update_imports_cell) { window._pyforest_update_imports_cell('import numpy as np\\nimport pandas as pd'); }\n",
       "    "
      ],
      "text/plain": [
       "<IPython.core.display.Javascript object>"
      ]
     },
     "metadata": {},
     "output_type": "display_data"
    },
    {
     "data": {
      "application/javascript": [
       "\n",
       "        if (window._pyforest_update_imports_cell) { window._pyforest_update_imports_cell('import numpy as np\\nimport pandas as pd'); }\n",
       "    "
      ],
      "text/plain": [
       "<IPython.core.display.Javascript object>"
      ]
     },
     "metadata": {},
     "output_type": "display_data"
    },
    {
     "data": {
      "application/javascript": [
       "\n",
       "        if (window._pyforest_update_imports_cell) { window._pyforest_update_imports_cell('import numpy as np\\nimport pandas as pd'); }\n",
       "    "
      ],
      "text/plain": [
       "<IPython.core.display.Javascript object>"
      ]
     },
     "metadata": {},
     "output_type": "display_data"
    },
    {
     "data": {
      "application/javascript": [
       "\n",
       "        if (window._pyforest_update_imports_cell) { window._pyforest_update_imports_cell('import numpy as np\\nimport pandas as pd'); }\n",
       "    "
      ],
      "text/plain": [
       "<IPython.core.display.Javascript object>"
      ]
     },
     "metadata": {},
     "output_type": "display_data"
    },
    {
     "data": {
      "application/javascript": [
       "\n",
       "        if (window._pyforest_update_imports_cell) { window._pyforest_update_imports_cell('import numpy as np\\nimport pandas as pd'); }\n",
       "    "
      ],
      "text/plain": [
       "<IPython.core.display.Javascript object>"
      ]
     },
     "metadata": {},
     "output_type": "display_data"
    },
    {
     "data": {
      "application/javascript": [
       "\n",
       "        if (window._pyforest_update_imports_cell) { window._pyforest_update_imports_cell('import numpy as np\\nimport pandas as pd'); }\n",
       "    "
      ],
      "text/plain": [
       "<IPython.core.display.Javascript object>"
      ]
     },
     "metadata": {},
     "output_type": "display_data"
    },
    {
     "data": {
      "application/javascript": [
       "\n",
       "        if (window._pyforest_update_imports_cell) { window._pyforest_update_imports_cell('import numpy as np\\nimport pandas as pd'); }\n",
       "    "
      ],
      "text/plain": [
       "<IPython.core.display.Javascript object>"
      ]
     },
     "metadata": {},
     "output_type": "display_data"
    },
    {
     "data": {
      "application/javascript": [
       "\n",
       "        if (window._pyforest_update_imports_cell) { window._pyforest_update_imports_cell('import numpy as np\\nimport pandas as pd'); }\n",
       "    "
      ],
      "text/plain": [
       "<IPython.core.display.Javascript object>"
      ]
     },
     "metadata": {},
     "output_type": "display_data"
    },
    {
     "data": {
      "application/javascript": [
       "\n",
       "        if (window._pyforest_update_imports_cell) { window._pyforest_update_imports_cell('import numpy as np\\nimport pandas as pd'); }\n",
       "    "
      ],
      "text/plain": [
       "<IPython.core.display.Javascript object>"
      ]
     },
     "metadata": {},
     "output_type": "display_data"
    },
    {
     "data": {
      "application/javascript": [
       "\n",
       "        if (window._pyforest_update_imports_cell) { window._pyforest_update_imports_cell('import numpy as np\\nimport pandas as pd'); }\n",
       "    "
      ],
      "text/plain": [
       "<IPython.core.display.Javascript object>"
      ]
     },
     "metadata": {},
     "output_type": "display_data"
    },
    {
     "data": {
      "application/javascript": [
       "\n",
       "        if (window._pyforest_update_imports_cell) { window._pyforest_update_imports_cell('import numpy as np\\nimport pandas as pd'); }\n",
       "    "
      ],
      "text/plain": [
       "<IPython.core.display.Javascript object>"
      ]
     },
     "metadata": {},
     "output_type": "display_data"
    },
    {
     "data": {
      "application/javascript": [
       "\n",
       "        if (window._pyforest_update_imports_cell) { window._pyforest_update_imports_cell('import numpy as np\\nimport pandas as pd'); }\n",
       "    "
      ],
      "text/plain": [
       "<IPython.core.display.Javascript object>"
      ]
     },
     "metadata": {},
     "output_type": "display_data"
    },
    {
     "data": {
      "application/javascript": [
       "\n",
       "        if (window._pyforest_update_imports_cell) { window._pyforest_update_imports_cell('import numpy as np\\nimport pandas as pd'); }\n",
       "    "
      ],
      "text/plain": [
       "<IPython.core.display.Javascript object>"
      ]
     },
     "metadata": {},
     "output_type": "display_data"
    },
    {
     "data": {
      "application/javascript": [
       "\n",
       "        if (window._pyforest_update_imports_cell) { window._pyforest_update_imports_cell('import numpy as np\\nimport pandas as pd'); }\n",
       "    "
      ],
      "text/plain": [
       "<IPython.core.display.Javascript object>"
      ]
     },
     "metadata": {},
     "output_type": "display_data"
    },
    {
     "data": {
      "application/javascript": [
       "\n",
       "        if (window._pyforest_update_imports_cell) { window._pyforest_update_imports_cell('import numpy as np\\nimport pandas as pd'); }\n",
       "    "
      ],
      "text/plain": [
       "<IPython.core.display.Javascript object>"
      ]
     },
     "metadata": {},
     "output_type": "display_data"
    },
    {
     "data": {
      "application/javascript": [
       "\n",
       "        if (window._pyforest_update_imports_cell) { window._pyforest_update_imports_cell('import numpy as np\\nimport pandas as pd'); }\n",
       "    "
      ],
      "text/plain": [
       "<IPython.core.display.Javascript object>"
      ]
     },
     "metadata": {},
     "output_type": "display_data"
    },
    {
     "data": {
      "application/javascript": [
       "\n",
       "        if (window._pyforest_update_imports_cell) { window._pyforest_update_imports_cell('import numpy as np\\nimport pandas as pd'); }\n",
       "    "
      ],
      "text/plain": [
       "<IPython.core.display.Javascript object>"
      ]
     },
     "metadata": {},
     "output_type": "display_data"
    },
    {
     "data": {
      "application/javascript": [
       "\n",
       "        if (window._pyforest_update_imports_cell) { window._pyforest_update_imports_cell('import numpy as np\\nimport pandas as pd'); }\n",
       "    "
      ],
      "text/plain": [
       "<IPython.core.display.Javascript object>"
      ]
     },
     "metadata": {},
     "output_type": "display_data"
    },
    {
     "data": {
      "application/javascript": [
       "\n",
       "        if (window._pyforest_update_imports_cell) { window._pyforest_update_imports_cell('import numpy as np\\nimport pandas as pd'); }\n",
       "    "
      ],
      "text/plain": [
       "<IPython.core.display.Javascript object>"
      ]
     },
     "metadata": {},
     "output_type": "display_data"
    },
    {
     "data": {
      "application/javascript": [
       "\n",
       "        if (window._pyforest_update_imports_cell) { window._pyforest_update_imports_cell('import numpy as np\\nimport pandas as pd'); }\n",
       "    "
      ],
      "text/plain": [
       "<IPython.core.display.Javascript object>"
      ]
     },
     "metadata": {},
     "output_type": "display_data"
    },
    {
     "data": {
      "application/javascript": [
       "\n",
       "        if (window._pyforest_update_imports_cell) { window._pyforest_update_imports_cell('import numpy as np\\nimport pandas as pd'); }\n",
       "    "
      ],
      "text/plain": [
       "<IPython.core.display.Javascript object>"
      ]
     },
     "metadata": {},
     "output_type": "display_data"
    },
    {
     "data": {
      "application/javascript": [
       "\n",
       "        if (window._pyforest_update_imports_cell) { window._pyforest_update_imports_cell('import numpy as np\\nimport pandas as pd'); }\n",
       "    "
      ],
      "text/plain": [
       "<IPython.core.display.Javascript object>"
      ]
     },
     "metadata": {},
     "output_type": "display_data"
    },
    {
     "data": {
      "application/javascript": [
       "\n",
       "        if (window._pyforest_update_imports_cell) { window._pyforest_update_imports_cell('import numpy as np\\nimport pandas as pd'); }\n",
       "    "
      ],
      "text/plain": [
       "<IPython.core.display.Javascript object>"
      ]
     },
     "metadata": {},
     "output_type": "display_data"
    },
    {
     "data": {
      "application/javascript": [
       "\n",
       "        if (window._pyforest_update_imports_cell) { window._pyforest_update_imports_cell('import numpy as np\\nimport pandas as pd'); }\n",
       "    "
      ],
      "text/plain": [
       "<IPython.core.display.Javascript object>"
      ]
     },
     "metadata": {},
     "output_type": "display_data"
    },
    {
     "data": {
      "application/javascript": [
       "\n",
       "        if (window._pyforest_update_imports_cell) { window._pyforest_update_imports_cell('import numpy as np\\nimport pandas as pd'); }\n",
       "    "
      ],
      "text/plain": [
       "<IPython.core.display.Javascript object>"
      ]
     },
     "metadata": {},
     "output_type": "display_data"
    },
    {
     "data": {
      "application/javascript": [
       "\n",
       "        if (window._pyforest_update_imports_cell) { window._pyforest_update_imports_cell('import numpy as np\\nimport pandas as pd'); }\n",
       "    "
      ],
      "text/plain": [
       "<IPython.core.display.Javascript object>"
      ]
     },
     "metadata": {},
     "output_type": "display_data"
    },
    {
     "data": {
      "application/javascript": [
       "\n",
       "        if (window._pyforest_update_imports_cell) { window._pyforest_update_imports_cell('import numpy as np\\nimport pandas as pd'); }\n",
       "    "
      ],
      "text/plain": [
       "<IPython.core.display.Javascript object>"
      ]
     },
     "metadata": {},
     "output_type": "display_data"
    },
    {
     "data": {
      "application/javascript": [
       "\n",
       "        if (window._pyforest_update_imports_cell) { window._pyforest_update_imports_cell('import numpy as np\\nimport pandas as pd'); }\n",
       "    "
      ],
      "text/plain": [
       "<IPython.core.display.Javascript object>"
      ]
     },
     "metadata": {},
     "output_type": "display_data"
    },
    {
     "data": {
      "application/javascript": [
       "\n",
       "        if (window._pyforest_update_imports_cell) { window._pyforest_update_imports_cell('import numpy as np\\nimport pandas as pd'); }\n",
       "    "
      ],
      "text/plain": [
       "<IPython.core.display.Javascript object>"
      ]
     },
     "metadata": {},
     "output_type": "display_data"
    },
    {
     "data": {
      "application/javascript": [
       "\n",
       "        if (window._pyforest_update_imports_cell) { window._pyforest_update_imports_cell('import numpy as np\\nimport pandas as pd'); }\n",
       "    "
      ],
      "text/plain": [
       "<IPython.core.display.Javascript object>"
      ]
     },
     "metadata": {},
     "output_type": "display_data"
    },
    {
     "data": {
      "application/javascript": [
       "\n",
       "        if (window._pyforest_update_imports_cell) { window._pyforest_update_imports_cell('import numpy as np\\nimport pandas as pd'); }\n",
       "    "
      ],
      "text/plain": [
       "<IPython.core.display.Javascript object>"
      ]
     },
     "metadata": {},
     "output_type": "display_data"
    },
    {
     "data": {
      "application/javascript": [
       "\n",
       "        if (window._pyforest_update_imports_cell) { window._pyforest_update_imports_cell('import numpy as np\\nimport pandas as pd'); }\n",
       "    "
      ],
      "text/plain": [
       "<IPython.core.display.Javascript object>"
      ]
     },
     "metadata": {},
     "output_type": "display_data"
    },
    {
     "data": {
      "application/javascript": [
       "\n",
       "        if (window._pyforest_update_imports_cell) { window._pyforest_update_imports_cell('import numpy as np\\nimport pandas as pd'); }\n",
       "    "
      ],
      "text/plain": [
       "<IPython.core.display.Javascript object>"
      ]
     },
     "metadata": {},
     "output_type": "display_data"
    },
    {
     "data": {
      "application/javascript": [
       "\n",
       "        if (window._pyforest_update_imports_cell) { window._pyforest_update_imports_cell('import numpy as np\\nimport pandas as pd'); }\n",
       "    "
      ],
      "text/plain": [
       "<IPython.core.display.Javascript object>"
      ]
     },
     "metadata": {},
     "output_type": "display_data"
    },
    {
     "data": {
      "application/javascript": [
       "\n",
       "        if (window._pyforest_update_imports_cell) { window._pyforest_update_imports_cell('import numpy as np\\nimport pandas as pd'); }\n",
       "    "
      ],
      "text/plain": [
       "<IPython.core.display.Javascript object>"
      ]
     },
     "metadata": {},
     "output_type": "display_data"
    },
    {
     "data": {
      "application/javascript": [
       "\n",
       "        if (window._pyforest_update_imports_cell) { window._pyforest_update_imports_cell('import numpy as np\\nimport pandas as pd'); }\n",
       "    "
      ],
      "text/plain": [
       "<IPython.core.display.Javascript object>"
      ]
     },
     "metadata": {},
     "output_type": "display_data"
    },
    {
     "data": {
      "application/javascript": [
       "\n",
       "        if (window._pyforest_update_imports_cell) { window._pyforest_update_imports_cell('import numpy as np\\nimport pandas as pd'); }\n",
       "    "
      ],
      "text/plain": [
       "<IPython.core.display.Javascript object>"
      ]
     },
     "metadata": {},
     "output_type": "display_data"
    },
    {
     "data": {
      "application/javascript": [
       "\n",
       "        if (window._pyforest_update_imports_cell) { window._pyforest_update_imports_cell('import numpy as np\\nimport pandas as pd'); }\n",
       "    "
      ],
      "text/plain": [
       "<IPython.core.display.Javascript object>"
      ]
     },
     "metadata": {},
     "output_type": "display_data"
    },
    {
     "data": {
      "application/javascript": [
       "\n",
       "        if (window._pyforest_update_imports_cell) { window._pyforest_update_imports_cell('import numpy as np\\nimport pandas as pd'); }\n",
       "    "
      ],
      "text/plain": [
       "<IPython.core.display.Javascript object>"
      ]
     },
     "metadata": {},
     "output_type": "display_data"
    },
    {
     "data": {
      "application/javascript": [
       "\n",
       "        if (window._pyforest_update_imports_cell) { window._pyforest_update_imports_cell('import numpy as np\\nimport pandas as pd'); }\n",
       "    "
      ],
      "text/plain": [
       "<IPython.core.display.Javascript object>"
      ]
     },
     "metadata": {},
     "output_type": "display_data"
    },
    {
     "data": {
      "application/javascript": [
       "\n",
       "        if (window._pyforest_update_imports_cell) { window._pyforest_update_imports_cell('import numpy as np\\nimport pandas as pd'); }\n",
       "    "
      ],
      "text/plain": [
       "<IPython.core.display.Javascript object>"
      ]
     },
     "metadata": {},
     "output_type": "display_data"
    },
    {
     "data": {
      "application/javascript": [
       "\n",
       "        if (window._pyforest_update_imports_cell) { window._pyforest_update_imports_cell('import numpy as np\\nimport pandas as pd'); }\n",
       "    "
      ],
      "text/plain": [
       "<IPython.core.display.Javascript object>"
      ]
     },
     "metadata": {},
     "output_type": "display_data"
    },
    {
     "data": {
      "application/javascript": [
       "\n",
       "        if (window._pyforest_update_imports_cell) { window._pyforest_update_imports_cell('import numpy as np\\nimport pandas as pd'); }\n",
       "    "
      ],
      "text/plain": [
       "<IPython.core.display.Javascript object>"
      ]
     },
     "metadata": {},
     "output_type": "display_data"
    },
    {
     "data": {
      "application/javascript": [
       "\n",
       "        if (window._pyforest_update_imports_cell) { window._pyforest_update_imports_cell('import numpy as np\\nimport pandas as pd'); }\n",
       "    "
      ],
      "text/plain": [
       "<IPython.core.display.Javascript object>"
      ]
     },
     "metadata": {},
     "output_type": "display_data"
    },
    {
     "data": {
      "application/javascript": [
       "\n",
       "        if (window._pyforest_update_imports_cell) { window._pyforest_update_imports_cell('import numpy as np\\nimport pandas as pd'); }\n",
       "    "
      ],
      "text/plain": [
       "<IPython.core.display.Javascript object>"
      ]
     },
     "metadata": {},
     "output_type": "display_data"
    },
    {
     "data": {
      "application/javascript": [
       "\n",
       "        if (window._pyforest_update_imports_cell) { window._pyforest_update_imports_cell('import numpy as np\\nimport pandas as pd'); }\n",
       "    "
      ],
      "text/plain": [
       "<IPython.core.display.Javascript object>"
      ]
     },
     "metadata": {},
     "output_type": "display_data"
    },
    {
     "data": {
      "application/javascript": [
       "\n",
       "        if (window._pyforest_update_imports_cell) { window._pyforest_update_imports_cell('import numpy as np\\nimport pandas as pd'); }\n",
       "    "
      ],
      "text/plain": [
       "<IPython.core.display.Javascript object>"
      ]
     },
     "metadata": {},
     "output_type": "display_data"
    },
    {
     "data": {
      "application/javascript": [
       "\n",
       "        if (window._pyforest_update_imports_cell) { window._pyforest_update_imports_cell('import numpy as np\\nimport pandas as pd'); }\n",
       "    "
      ],
      "text/plain": [
       "<IPython.core.display.Javascript object>"
      ]
     },
     "metadata": {},
     "output_type": "display_data"
    },
    {
     "data": {
      "application/javascript": [
       "\n",
       "        if (window._pyforest_update_imports_cell) { window._pyforest_update_imports_cell('import numpy as np\\nimport pandas as pd'); }\n",
       "    "
      ],
      "text/plain": [
       "<IPython.core.display.Javascript object>"
      ]
     },
     "metadata": {},
     "output_type": "display_data"
    },
    {
     "data": {
      "application/javascript": [
       "\n",
       "        if (window._pyforest_update_imports_cell) { window._pyforest_update_imports_cell('import numpy as np\\nimport pandas as pd'); }\n",
       "    "
      ],
      "text/plain": [
       "<IPython.core.display.Javascript object>"
      ]
     },
     "metadata": {},
     "output_type": "display_data"
    },
    {
     "name": "stdout",
     "output_type": "stream",
     "text": [
      "14.page scraped...\n"
     ]
    },
    {
     "data": {
      "application/javascript": [
       "\n",
       "        if (window._pyforest_update_imports_cell) { window._pyforest_update_imports_cell('import numpy as np\\nimport pandas as pd'); }\n",
       "    "
      ],
      "text/plain": [
       "<IPython.core.display.Javascript object>"
      ]
     },
     "metadata": {},
     "output_type": "display_data"
    },
    {
     "data": {
      "application/javascript": [
       "\n",
       "        if (window._pyforest_update_imports_cell) { window._pyforest_update_imports_cell('import numpy as np\\nimport pandas as pd'); }\n",
       "    "
      ],
      "text/plain": [
       "<IPython.core.display.Javascript object>"
      ]
     },
     "metadata": {},
     "output_type": "display_data"
    },
    {
     "data": {
      "application/javascript": [
       "\n",
       "        if (window._pyforest_update_imports_cell) { window._pyforest_update_imports_cell('import numpy as np\\nimport pandas as pd'); }\n",
       "    "
      ],
      "text/plain": [
       "<IPython.core.display.Javascript object>"
      ]
     },
     "metadata": {},
     "output_type": "display_data"
    },
    {
     "data": {
      "application/javascript": [
       "\n",
       "        if (window._pyforest_update_imports_cell) { window._pyforest_update_imports_cell('import numpy as np\\nimport pandas as pd'); }\n",
       "    "
      ],
      "text/plain": [
       "<IPython.core.display.Javascript object>"
      ]
     },
     "metadata": {},
     "output_type": "display_data"
    },
    {
     "data": {
      "application/javascript": [
       "\n",
       "        if (window._pyforest_update_imports_cell) { window._pyforest_update_imports_cell('import numpy as np\\nimport pandas as pd'); }\n",
       "    "
      ],
      "text/plain": [
       "<IPython.core.display.Javascript object>"
      ]
     },
     "metadata": {},
     "output_type": "display_data"
    },
    {
     "data": {
      "application/javascript": [
       "\n",
       "        if (window._pyforest_update_imports_cell) { window._pyforest_update_imports_cell('import numpy as np\\nimport pandas as pd'); }\n",
       "    "
      ],
      "text/plain": [
       "<IPython.core.display.Javascript object>"
      ]
     },
     "metadata": {},
     "output_type": "display_data"
    },
    {
     "data": {
      "application/javascript": [
       "\n",
       "        if (window._pyforest_update_imports_cell) { window._pyforest_update_imports_cell('import numpy as np\\nimport pandas as pd'); }\n",
       "    "
      ],
      "text/plain": [
       "<IPython.core.display.Javascript object>"
      ]
     },
     "metadata": {},
     "output_type": "display_data"
    },
    {
     "data": {
      "application/javascript": [
       "\n",
       "        if (window._pyforest_update_imports_cell) { window._pyforest_update_imports_cell('import numpy as np\\nimport pandas as pd'); }\n",
       "    "
      ],
      "text/plain": [
       "<IPython.core.display.Javascript object>"
      ]
     },
     "metadata": {},
     "output_type": "display_data"
    },
    {
     "data": {
      "application/javascript": [
       "\n",
       "        if (window._pyforest_update_imports_cell) { window._pyforest_update_imports_cell('import numpy as np\\nimport pandas as pd'); }\n",
       "    "
      ],
      "text/plain": [
       "<IPython.core.display.Javascript object>"
      ]
     },
     "metadata": {},
     "output_type": "display_data"
    },
    {
     "data": {
      "application/javascript": [
       "\n",
       "        if (window._pyforest_update_imports_cell) { window._pyforest_update_imports_cell('import numpy as np\\nimport pandas as pd'); }\n",
       "    "
      ],
      "text/plain": [
       "<IPython.core.display.Javascript object>"
      ]
     },
     "metadata": {},
     "output_type": "display_data"
    },
    {
     "data": {
      "application/javascript": [
       "\n",
       "        if (window._pyforest_update_imports_cell) { window._pyforest_update_imports_cell('import numpy as np\\nimport pandas as pd'); }\n",
       "    "
      ],
      "text/plain": [
       "<IPython.core.display.Javascript object>"
      ]
     },
     "metadata": {},
     "output_type": "display_data"
    },
    {
     "data": {
      "application/javascript": [
       "\n",
       "        if (window._pyforest_update_imports_cell) { window._pyforest_update_imports_cell('import numpy as np\\nimport pandas as pd'); }\n",
       "    "
      ],
      "text/plain": [
       "<IPython.core.display.Javascript object>"
      ]
     },
     "metadata": {},
     "output_type": "display_data"
    },
    {
     "data": {
      "application/javascript": [
       "\n",
       "        if (window._pyforest_update_imports_cell) { window._pyforest_update_imports_cell('import numpy as np\\nimport pandas as pd'); }\n",
       "    "
      ],
      "text/plain": [
       "<IPython.core.display.Javascript object>"
      ]
     },
     "metadata": {},
     "output_type": "display_data"
    },
    {
     "data": {
      "application/javascript": [
       "\n",
       "        if (window._pyforest_update_imports_cell) { window._pyforest_update_imports_cell('import numpy as np\\nimport pandas as pd'); }\n",
       "    "
      ],
      "text/plain": [
       "<IPython.core.display.Javascript object>"
      ]
     },
     "metadata": {},
     "output_type": "display_data"
    },
    {
     "data": {
      "application/javascript": [
       "\n",
       "        if (window._pyforest_update_imports_cell) { window._pyforest_update_imports_cell('import numpy as np\\nimport pandas as pd'); }\n",
       "    "
      ],
      "text/plain": [
       "<IPython.core.display.Javascript object>"
      ]
     },
     "metadata": {},
     "output_type": "display_data"
    },
    {
     "data": {
      "application/javascript": [
       "\n",
       "        if (window._pyforest_update_imports_cell) { window._pyforest_update_imports_cell('import numpy as np\\nimport pandas as pd'); }\n",
       "    "
      ],
      "text/plain": [
       "<IPython.core.display.Javascript object>"
      ]
     },
     "metadata": {},
     "output_type": "display_data"
    },
    {
     "data": {
      "application/javascript": [
       "\n",
       "        if (window._pyforest_update_imports_cell) { window._pyforest_update_imports_cell('import numpy as np\\nimport pandas as pd'); }\n",
       "    "
      ],
      "text/plain": [
       "<IPython.core.display.Javascript object>"
      ]
     },
     "metadata": {},
     "output_type": "display_data"
    },
    {
     "data": {
      "application/javascript": [
       "\n",
       "        if (window._pyforest_update_imports_cell) { window._pyforest_update_imports_cell('import numpy as np\\nimport pandas as pd'); }\n",
       "    "
      ],
      "text/plain": [
       "<IPython.core.display.Javascript object>"
      ]
     },
     "metadata": {},
     "output_type": "display_data"
    },
    {
     "data": {
      "application/javascript": [
       "\n",
       "        if (window._pyforest_update_imports_cell) { window._pyforest_update_imports_cell('import numpy as np\\nimport pandas as pd'); }\n",
       "    "
      ],
      "text/plain": [
       "<IPython.core.display.Javascript object>"
      ]
     },
     "metadata": {},
     "output_type": "display_data"
    },
    {
     "data": {
      "application/javascript": [
       "\n",
       "        if (window._pyforest_update_imports_cell) { window._pyforest_update_imports_cell('import numpy as np\\nimport pandas as pd'); }\n",
       "    "
      ],
      "text/plain": [
       "<IPython.core.display.Javascript object>"
      ]
     },
     "metadata": {},
     "output_type": "display_data"
    },
    {
     "data": {
      "application/javascript": [
       "\n",
       "        if (window._pyforest_update_imports_cell) { window._pyforest_update_imports_cell('import numpy as np\\nimport pandas as pd'); }\n",
       "    "
      ],
      "text/plain": [
       "<IPython.core.display.Javascript object>"
      ]
     },
     "metadata": {},
     "output_type": "display_data"
    },
    {
     "data": {
      "application/javascript": [
       "\n",
       "        if (window._pyforest_update_imports_cell) { window._pyforest_update_imports_cell('import numpy as np\\nimport pandas as pd'); }\n",
       "    "
      ],
      "text/plain": [
       "<IPython.core.display.Javascript object>"
      ]
     },
     "metadata": {},
     "output_type": "display_data"
    },
    {
     "data": {
      "application/javascript": [
       "\n",
       "        if (window._pyforest_update_imports_cell) { window._pyforest_update_imports_cell('import numpy as np\\nimport pandas as pd'); }\n",
       "    "
      ],
      "text/plain": [
       "<IPython.core.display.Javascript object>"
      ]
     },
     "metadata": {},
     "output_type": "display_data"
    },
    {
     "data": {
      "application/javascript": [
       "\n",
       "        if (window._pyforest_update_imports_cell) { window._pyforest_update_imports_cell('import numpy as np\\nimport pandas as pd'); }\n",
       "    "
      ],
      "text/plain": [
       "<IPython.core.display.Javascript object>"
      ]
     },
     "metadata": {},
     "output_type": "display_data"
    },
    {
     "data": {
      "application/javascript": [
       "\n",
       "        if (window._pyforest_update_imports_cell) { window._pyforest_update_imports_cell('import numpy as np\\nimport pandas as pd'); }\n",
       "    "
      ],
      "text/plain": [
       "<IPython.core.display.Javascript object>"
      ]
     },
     "metadata": {},
     "output_type": "display_data"
    },
    {
     "data": {
      "application/javascript": [
       "\n",
       "        if (window._pyforest_update_imports_cell) { window._pyforest_update_imports_cell('import numpy as np\\nimport pandas as pd'); }\n",
       "    "
      ],
      "text/plain": [
       "<IPython.core.display.Javascript object>"
      ]
     },
     "metadata": {},
     "output_type": "display_data"
    },
    {
     "data": {
      "application/javascript": [
       "\n",
       "        if (window._pyforest_update_imports_cell) { window._pyforest_update_imports_cell('import numpy as np\\nimport pandas as pd'); }\n",
       "    "
      ],
      "text/plain": [
       "<IPython.core.display.Javascript object>"
      ]
     },
     "metadata": {},
     "output_type": "display_data"
    },
    {
     "data": {
      "application/javascript": [
       "\n",
       "        if (window._pyforest_update_imports_cell) { window._pyforest_update_imports_cell('import numpy as np\\nimport pandas as pd'); }\n",
       "    "
      ],
      "text/plain": [
       "<IPython.core.display.Javascript object>"
      ]
     },
     "metadata": {},
     "output_type": "display_data"
    },
    {
     "data": {
      "application/javascript": [
       "\n",
       "        if (window._pyforest_update_imports_cell) { window._pyforest_update_imports_cell('import numpy as np\\nimport pandas as pd'); }\n",
       "    "
      ],
      "text/plain": [
       "<IPython.core.display.Javascript object>"
      ]
     },
     "metadata": {},
     "output_type": "display_data"
    },
    {
     "data": {
      "application/javascript": [
       "\n",
       "        if (window._pyforest_update_imports_cell) { window._pyforest_update_imports_cell('import numpy as np\\nimport pandas as pd'); }\n",
       "    "
      ],
      "text/plain": [
       "<IPython.core.display.Javascript object>"
      ]
     },
     "metadata": {},
     "output_type": "display_data"
    },
    {
     "data": {
      "application/javascript": [
       "\n",
       "        if (window._pyforest_update_imports_cell) { window._pyforest_update_imports_cell('import numpy as np\\nimport pandas as pd'); }\n",
       "    "
      ],
      "text/plain": [
       "<IPython.core.display.Javascript object>"
      ]
     },
     "metadata": {},
     "output_type": "display_data"
    },
    {
     "data": {
      "application/javascript": [
       "\n",
       "        if (window._pyforest_update_imports_cell) { window._pyforest_update_imports_cell('import numpy as np\\nimport pandas as pd'); }\n",
       "    "
      ],
      "text/plain": [
       "<IPython.core.display.Javascript object>"
      ]
     },
     "metadata": {},
     "output_type": "display_data"
    },
    {
     "data": {
      "application/javascript": [
       "\n",
       "        if (window._pyforest_update_imports_cell) { window._pyforest_update_imports_cell('import numpy as np\\nimport pandas as pd'); }\n",
       "    "
      ],
      "text/plain": [
       "<IPython.core.display.Javascript object>"
      ]
     },
     "metadata": {},
     "output_type": "display_data"
    },
    {
     "data": {
      "application/javascript": [
       "\n",
       "        if (window._pyforest_update_imports_cell) { window._pyforest_update_imports_cell('import numpy as np\\nimport pandas as pd'); }\n",
       "    "
      ],
      "text/plain": [
       "<IPython.core.display.Javascript object>"
      ]
     },
     "metadata": {},
     "output_type": "display_data"
    },
    {
     "data": {
      "application/javascript": [
       "\n",
       "        if (window._pyforest_update_imports_cell) { window._pyforest_update_imports_cell('import numpy as np\\nimport pandas as pd'); }\n",
       "    "
      ],
      "text/plain": [
       "<IPython.core.display.Javascript object>"
      ]
     },
     "metadata": {},
     "output_type": "display_data"
    },
    {
     "data": {
      "application/javascript": [
       "\n",
       "        if (window._pyforest_update_imports_cell) { window._pyforest_update_imports_cell('import numpy as np\\nimport pandas as pd'); }\n",
       "    "
      ],
      "text/plain": [
       "<IPython.core.display.Javascript object>"
      ]
     },
     "metadata": {},
     "output_type": "display_data"
    },
    {
     "data": {
      "application/javascript": [
       "\n",
       "        if (window._pyforest_update_imports_cell) { window._pyforest_update_imports_cell('import numpy as np\\nimport pandas as pd'); }\n",
       "    "
      ],
      "text/plain": [
       "<IPython.core.display.Javascript object>"
      ]
     },
     "metadata": {},
     "output_type": "display_data"
    },
    {
     "data": {
      "application/javascript": [
       "\n",
       "        if (window._pyforest_update_imports_cell) { window._pyforest_update_imports_cell('import numpy as np\\nimport pandas as pd'); }\n",
       "    "
      ],
      "text/plain": [
       "<IPython.core.display.Javascript object>"
      ]
     },
     "metadata": {},
     "output_type": "display_data"
    },
    {
     "data": {
      "application/javascript": [
       "\n",
       "        if (window._pyforest_update_imports_cell) { window._pyforest_update_imports_cell('import numpy as np\\nimport pandas as pd'); }\n",
       "    "
      ],
      "text/plain": [
       "<IPython.core.display.Javascript object>"
      ]
     },
     "metadata": {},
     "output_type": "display_data"
    },
    {
     "data": {
      "application/javascript": [
       "\n",
       "        if (window._pyforest_update_imports_cell) { window._pyforest_update_imports_cell('import numpy as np\\nimport pandas as pd'); }\n",
       "    "
      ],
      "text/plain": [
       "<IPython.core.display.Javascript object>"
      ]
     },
     "metadata": {},
     "output_type": "display_data"
    },
    {
     "data": {
      "application/javascript": [
       "\n",
       "        if (window._pyforest_update_imports_cell) { window._pyforest_update_imports_cell('import numpy as np\\nimport pandas as pd'); }\n",
       "    "
      ],
      "text/plain": [
       "<IPython.core.display.Javascript object>"
      ]
     },
     "metadata": {},
     "output_type": "display_data"
    },
    {
     "data": {
      "application/javascript": [
       "\n",
       "        if (window._pyforest_update_imports_cell) { window._pyforest_update_imports_cell('import numpy as np\\nimport pandas as pd'); }\n",
       "    "
      ],
      "text/plain": [
       "<IPython.core.display.Javascript object>"
      ]
     },
     "metadata": {},
     "output_type": "display_data"
    },
    {
     "data": {
      "application/javascript": [
       "\n",
       "        if (window._pyforest_update_imports_cell) { window._pyforest_update_imports_cell('import numpy as np\\nimport pandas as pd'); }\n",
       "    "
      ],
      "text/plain": [
       "<IPython.core.display.Javascript object>"
      ]
     },
     "metadata": {},
     "output_type": "display_data"
    },
    {
     "data": {
      "application/javascript": [
       "\n",
       "        if (window._pyforest_update_imports_cell) { window._pyforest_update_imports_cell('import numpy as np\\nimport pandas as pd'); }\n",
       "    "
      ],
      "text/plain": [
       "<IPython.core.display.Javascript object>"
      ]
     },
     "metadata": {},
     "output_type": "display_data"
    },
    {
     "data": {
      "application/javascript": [
       "\n",
       "        if (window._pyforest_update_imports_cell) { window._pyforest_update_imports_cell('import numpy as np\\nimport pandas as pd'); }\n",
       "    "
      ],
      "text/plain": [
       "<IPython.core.display.Javascript object>"
      ]
     },
     "metadata": {},
     "output_type": "display_data"
    },
    {
     "data": {
      "application/javascript": [
       "\n",
       "        if (window._pyforest_update_imports_cell) { window._pyforest_update_imports_cell('import numpy as np\\nimport pandas as pd'); }\n",
       "    "
      ],
      "text/plain": [
       "<IPython.core.display.Javascript object>"
      ]
     },
     "metadata": {},
     "output_type": "display_data"
    },
    {
     "data": {
      "application/javascript": [
       "\n",
       "        if (window._pyforest_update_imports_cell) { window._pyforest_update_imports_cell('import numpy as np\\nimport pandas as pd'); }\n",
       "    "
      ],
      "text/plain": [
       "<IPython.core.display.Javascript object>"
      ]
     },
     "metadata": {},
     "output_type": "display_data"
    },
    {
     "data": {
      "application/javascript": [
       "\n",
       "        if (window._pyforest_update_imports_cell) { window._pyforest_update_imports_cell('import numpy as np\\nimport pandas as pd'); }\n",
       "    "
      ],
      "text/plain": [
       "<IPython.core.display.Javascript object>"
      ]
     },
     "metadata": {},
     "output_type": "display_data"
    },
    {
     "data": {
      "application/javascript": [
       "\n",
       "        if (window._pyforest_update_imports_cell) { window._pyforest_update_imports_cell('import numpy as np\\nimport pandas as pd'); }\n",
       "    "
      ],
      "text/plain": [
       "<IPython.core.display.Javascript object>"
      ]
     },
     "metadata": {},
     "output_type": "display_data"
    },
    {
     "data": {
      "application/javascript": [
       "\n",
       "        if (window._pyforest_update_imports_cell) { window._pyforest_update_imports_cell('import numpy as np\\nimport pandas as pd'); }\n",
       "    "
      ],
      "text/plain": [
       "<IPython.core.display.Javascript object>"
      ]
     },
     "metadata": {},
     "output_type": "display_data"
    },
    {
     "data": {
      "application/javascript": [
       "\n",
       "        if (window._pyforest_update_imports_cell) { window._pyforest_update_imports_cell('import numpy as np\\nimport pandas as pd'); }\n",
       "    "
      ],
      "text/plain": [
       "<IPython.core.display.Javascript object>"
      ]
     },
     "metadata": {},
     "output_type": "display_data"
    },
    {
     "data": {
      "application/javascript": [
       "\n",
       "        if (window._pyforest_update_imports_cell) { window._pyforest_update_imports_cell('import numpy as np\\nimport pandas as pd'); }\n",
       "    "
      ],
      "text/plain": [
       "<IPython.core.display.Javascript object>"
      ]
     },
     "metadata": {},
     "output_type": "display_data"
    },
    {
     "data": {
      "application/javascript": [
       "\n",
       "        if (window._pyforest_update_imports_cell) { window._pyforest_update_imports_cell('import numpy as np\\nimport pandas as pd'); }\n",
       "    "
      ],
      "text/plain": [
       "<IPython.core.display.Javascript object>"
      ]
     },
     "metadata": {},
     "output_type": "display_data"
    },
    {
     "data": {
      "application/javascript": [
       "\n",
       "        if (window._pyforest_update_imports_cell) { window._pyforest_update_imports_cell('import numpy as np\\nimport pandas as pd'); }\n",
       "    "
      ],
      "text/plain": [
       "<IPython.core.display.Javascript object>"
      ]
     },
     "metadata": {},
     "output_type": "display_data"
    },
    {
     "data": {
      "application/javascript": [
       "\n",
       "        if (window._pyforest_update_imports_cell) { window._pyforest_update_imports_cell('import numpy as np\\nimport pandas as pd'); }\n",
       "    "
      ],
      "text/plain": [
       "<IPython.core.display.Javascript object>"
      ]
     },
     "metadata": {},
     "output_type": "display_data"
    },
    {
     "data": {
      "application/javascript": [
       "\n",
       "        if (window._pyforest_update_imports_cell) { window._pyforest_update_imports_cell('import numpy as np\\nimport pandas as pd'); }\n",
       "    "
      ],
      "text/plain": [
       "<IPython.core.display.Javascript object>"
      ]
     },
     "metadata": {},
     "output_type": "display_data"
    },
    {
     "data": {
      "application/javascript": [
       "\n",
       "        if (window._pyforest_update_imports_cell) { window._pyforest_update_imports_cell('import numpy as np\\nimport pandas as pd'); }\n",
       "    "
      ],
      "text/plain": [
       "<IPython.core.display.Javascript object>"
      ]
     },
     "metadata": {},
     "output_type": "display_data"
    },
    {
     "data": {
      "application/javascript": [
       "\n",
       "        if (window._pyforest_update_imports_cell) { window._pyforest_update_imports_cell('import numpy as np\\nimport pandas as pd'); }\n",
       "    "
      ],
      "text/plain": [
       "<IPython.core.display.Javascript object>"
      ]
     },
     "metadata": {},
     "output_type": "display_data"
    },
    {
     "data": {
      "application/javascript": [
       "\n",
       "        if (window._pyforest_update_imports_cell) { window._pyforest_update_imports_cell('import numpy as np\\nimport pandas as pd'); }\n",
       "    "
      ],
      "text/plain": [
       "<IPython.core.display.Javascript object>"
      ]
     },
     "metadata": {},
     "output_type": "display_data"
    },
    {
     "data": {
      "application/javascript": [
       "\n",
       "        if (window._pyforest_update_imports_cell) { window._pyforest_update_imports_cell('import numpy as np\\nimport pandas as pd'); }\n",
       "    "
      ],
      "text/plain": [
       "<IPython.core.display.Javascript object>"
      ]
     },
     "metadata": {},
     "output_type": "display_data"
    },
    {
     "name": "stdout",
     "output_type": "stream",
     "text": [
      "15.page scraped...\n"
     ]
    },
    {
     "data": {
      "application/javascript": [
       "\n",
       "        if (window._pyforest_update_imports_cell) { window._pyforest_update_imports_cell('import numpy as np\\nimport pandas as pd'); }\n",
       "    "
      ],
      "text/plain": [
       "<IPython.core.display.Javascript object>"
      ]
     },
     "metadata": {},
     "output_type": "display_data"
    },
    {
     "data": {
      "application/javascript": [
       "\n",
       "        if (window._pyforest_update_imports_cell) { window._pyforest_update_imports_cell('import numpy as np\\nimport pandas as pd'); }\n",
       "    "
      ],
      "text/plain": [
       "<IPython.core.display.Javascript object>"
      ]
     },
     "metadata": {},
     "output_type": "display_data"
    },
    {
     "data": {
      "application/javascript": [
       "\n",
       "        if (window._pyforest_update_imports_cell) { window._pyforest_update_imports_cell('import numpy as np\\nimport pandas as pd'); }\n",
       "    "
      ],
      "text/plain": [
       "<IPython.core.display.Javascript object>"
      ]
     },
     "metadata": {},
     "output_type": "display_data"
    },
    {
     "data": {
      "application/javascript": [
       "\n",
       "        if (window._pyforest_update_imports_cell) { window._pyforest_update_imports_cell('import numpy as np\\nimport pandas as pd'); }\n",
       "    "
      ],
      "text/plain": [
       "<IPython.core.display.Javascript object>"
      ]
     },
     "metadata": {},
     "output_type": "display_data"
    },
    {
     "data": {
      "application/javascript": [
       "\n",
       "        if (window._pyforest_update_imports_cell) { window._pyforest_update_imports_cell('import numpy as np\\nimport pandas as pd'); }\n",
       "    "
      ],
      "text/plain": [
       "<IPython.core.display.Javascript object>"
      ]
     },
     "metadata": {},
     "output_type": "display_data"
    },
    {
     "data": {
      "application/javascript": [
       "\n",
       "        if (window._pyforest_update_imports_cell) { window._pyforest_update_imports_cell('import numpy as np\\nimport pandas as pd'); }\n",
       "    "
      ],
      "text/plain": [
       "<IPython.core.display.Javascript object>"
      ]
     },
     "metadata": {},
     "output_type": "display_data"
    },
    {
     "data": {
      "application/javascript": [
       "\n",
       "        if (window._pyforest_update_imports_cell) { window._pyforest_update_imports_cell('import numpy as np\\nimport pandas as pd'); }\n",
       "    "
      ],
      "text/plain": [
       "<IPython.core.display.Javascript object>"
      ]
     },
     "metadata": {},
     "output_type": "display_data"
    },
    {
     "data": {
      "application/javascript": [
       "\n",
       "        if (window._pyforest_update_imports_cell) { window._pyforest_update_imports_cell('import numpy as np\\nimport pandas as pd'); }\n",
       "    "
      ],
      "text/plain": [
       "<IPython.core.display.Javascript object>"
      ]
     },
     "metadata": {},
     "output_type": "display_data"
    },
    {
     "data": {
      "application/javascript": [
       "\n",
       "        if (window._pyforest_update_imports_cell) { window._pyforest_update_imports_cell('import numpy as np\\nimport pandas as pd'); }\n",
       "    "
      ],
      "text/plain": [
       "<IPython.core.display.Javascript object>"
      ]
     },
     "metadata": {},
     "output_type": "display_data"
    },
    {
     "data": {
      "application/javascript": [
       "\n",
       "        if (window._pyforest_update_imports_cell) { window._pyforest_update_imports_cell('import numpy as np\\nimport pandas as pd'); }\n",
       "    "
      ],
      "text/plain": [
       "<IPython.core.display.Javascript object>"
      ]
     },
     "metadata": {},
     "output_type": "display_data"
    },
    {
     "data": {
      "application/javascript": [
       "\n",
       "        if (window._pyforest_update_imports_cell) { window._pyforest_update_imports_cell('import numpy as np\\nimport pandas as pd'); }\n",
       "    "
      ],
      "text/plain": [
       "<IPython.core.display.Javascript object>"
      ]
     },
     "metadata": {},
     "output_type": "display_data"
    },
    {
     "data": {
      "application/javascript": [
       "\n",
       "        if (window._pyforest_update_imports_cell) { window._pyforest_update_imports_cell('import numpy as np\\nimport pandas as pd'); }\n",
       "    "
      ],
      "text/plain": [
       "<IPython.core.display.Javascript object>"
      ]
     },
     "metadata": {},
     "output_type": "display_data"
    },
    {
     "data": {
      "application/javascript": [
       "\n",
       "        if (window._pyforest_update_imports_cell) { window._pyforest_update_imports_cell('import numpy as np\\nimport pandas as pd'); }\n",
       "    "
      ],
      "text/plain": [
       "<IPython.core.display.Javascript object>"
      ]
     },
     "metadata": {},
     "output_type": "display_data"
    },
    {
     "data": {
      "application/javascript": [
       "\n",
       "        if (window._pyforest_update_imports_cell) { window._pyforest_update_imports_cell('import numpy as np\\nimport pandas as pd'); }\n",
       "    "
      ],
      "text/plain": [
       "<IPython.core.display.Javascript object>"
      ]
     },
     "metadata": {},
     "output_type": "display_data"
    },
    {
     "data": {
      "application/javascript": [
       "\n",
       "        if (window._pyforest_update_imports_cell) { window._pyforest_update_imports_cell('import numpy as np\\nimport pandas as pd'); }\n",
       "    "
      ],
      "text/plain": [
       "<IPython.core.display.Javascript object>"
      ]
     },
     "metadata": {},
     "output_type": "display_data"
    },
    {
     "data": {
      "application/javascript": [
       "\n",
       "        if (window._pyforest_update_imports_cell) { window._pyforest_update_imports_cell('import numpy as np\\nimport pandas as pd'); }\n",
       "    "
      ],
      "text/plain": [
       "<IPython.core.display.Javascript object>"
      ]
     },
     "metadata": {},
     "output_type": "display_data"
    },
    {
     "data": {
      "application/javascript": [
       "\n",
       "        if (window._pyforest_update_imports_cell) { window._pyforest_update_imports_cell('import numpy as np\\nimport pandas as pd'); }\n",
       "    "
      ],
      "text/plain": [
       "<IPython.core.display.Javascript object>"
      ]
     },
     "metadata": {},
     "output_type": "display_data"
    },
    {
     "data": {
      "application/javascript": [
       "\n",
       "        if (window._pyforest_update_imports_cell) { window._pyforest_update_imports_cell('import numpy as np\\nimport pandas as pd'); }\n",
       "    "
      ],
      "text/plain": [
       "<IPython.core.display.Javascript object>"
      ]
     },
     "metadata": {},
     "output_type": "display_data"
    },
    {
     "data": {
      "application/javascript": [
       "\n",
       "        if (window._pyforest_update_imports_cell) { window._pyforest_update_imports_cell('import numpy as np\\nimport pandas as pd'); }\n",
       "    "
      ],
      "text/plain": [
       "<IPython.core.display.Javascript object>"
      ]
     },
     "metadata": {},
     "output_type": "display_data"
    },
    {
     "data": {
      "application/javascript": [
       "\n",
       "        if (window._pyforest_update_imports_cell) { window._pyforest_update_imports_cell('import numpy as np\\nimport pandas as pd'); }\n",
       "    "
      ],
      "text/plain": [
       "<IPython.core.display.Javascript object>"
      ]
     },
     "metadata": {},
     "output_type": "display_data"
    },
    {
     "data": {
      "application/javascript": [
       "\n",
       "        if (window._pyforest_update_imports_cell) { window._pyforest_update_imports_cell('import numpy as np\\nimport pandas as pd'); }\n",
       "    "
      ],
      "text/plain": [
       "<IPython.core.display.Javascript object>"
      ]
     },
     "metadata": {},
     "output_type": "display_data"
    },
    {
     "data": {
      "application/javascript": [
       "\n",
       "        if (window._pyforest_update_imports_cell) { window._pyforest_update_imports_cell('import numpy as np\\nimport pandas as pd'); }\n",
       "    "
      ],
      "text/plain": [
       "<IPython.core.display.Javascript object>"
      ]
     },
     "metadata": {},
     "output_type": "display_data"
    },
    {
     "data": {
      "application/javascript": [
       "\n",
       "        if (window._pyforest_update_imports_cell) { window._pyforest_update_imports_cell('import numpy as np\\nimport pandas as pd'); }\n",
       "    "
      ],
      "text/plain": [
       "<IPython.core.display.Javascript object>"
      ]
     },
     "metadata": {},
     "output_type": "display_data"
    },
    {
     "data": {
      "application/javascript": [
       "\n",
       "        if (window._pyforest_update_imports_cell) { window._pyforest_update_imports_cell('import numpy as np\\nimport pandas as pd'); }\n",
       "    "
      ],
      "text/plain": [
       "<IPython.core.display.Javascript object>"
      ]
     },
     "metadata": {},
     "output_type": "display_data"
    },
    {
     "data": {
      "application/javascript": [
       "\n",
       "        if (window._pyforest_update_imports_cell) { window._pyforest_update_imports_cell('import numpy as np\\nimport pandas as pd'); }\n",
       "    "
      ],
      "text/plain": [
       "<IPython.core.display.Javascript object>"
      ]
     },
     "metadata": {},
     "output_type": "display_data"
    },
    {
     "data": {
      "application/javascript": [
       "\n",
       "        if (window._pyforest_update_imports_cell) { window._pyforest_update_imports_cell('import numpy as np\\nimport pandas as pd'); }\n",
       "    "
      ],
      "text/plain": [
       "<IPython.core.display.Javascript object>"
      ]
     },
     "metadata": {},
     "output_type": "display_data"
    },
    {
     "data": {
      "application/javascript": [
       "\n",
       "        if (window._pyforest_update_imports_cell) { window._pyforest_update_imports_cell('import numpy as np\\nimport pandas as pd'); }\n",
       "    "
      ],
      "text/plain": [
       "<IPython.core.display.Javascript object>"
      ]
     },
     "metadata": {},
     "output_type": "display_data"
    },
    {
     "data": {
      "application/javascript": [
       "\n",
       "        if (window._pyforest_update_imports_cell) { window._pyforest_update_imports_cell('import numpy as np\\nimport pandas as pd'); }\n",
       "    "
      ],
      "text/plain": [
       "<IPython.core.display.Javascript object>"
      ]
     },
     "metadata": {},
     "output_type": "display_data"
    },
    {
     "data": {
      "application/javascript": [
       "\n",
       "        if (window._pyforest_update_imports_cell) { window._pyforest_update_imports_cell('import numpy as np\\nimport pandas as pd'); }\n",
       "    "
      ],
      "text/plain": [
       "<IPython.core.display.Javascript object>"
      ]
     },
     "metadata": {},
     "output_type": "display_data"
    },
    {
     "data": {
      "application/javascript": [
       "\n",
       "        if (window._pyforest_update_imports_cell) { window._pyforest_update_imports_cell('import numpy as np\\nimport pandas as pd'); }\n",
       "    "
      ],
      "text/plain": [
       "<IPython.core.display.Javascript object>"
      ]
     },
     "metadata": {},
     "output_type": "display_data"
    },
    {
     "data": {
      "application/javascript": [
       "\n",
       "        if (window._pyforest_update_imports_cell) { window._pyforest_update_imports_cell('import numpy as np\\nimport pandas as pd'); }\n",
       "    "
      ],
      "text/plain": [
       "<IPython.core.display.Javascript object>"
      ]
     },
     "metadata": {},
     "output_type": "display_data"
    },
    {
     "data": {
      "application/javascript": [
       "\n",
       "        if (window._pyforest_update_imports_cell) { window._pyforest_update_imports_cell('import numpy as np\\nimport pandas as pd'); }\n",
       "    "
      ],
      "text/plain": [
       "<IPython.core.display.Javascript object>"
      ]
     },
     "metadata": {},
     "output_type": "display_data"
    },
    {
     "data": {
      "application/javascript": [
       "\n",
       "        if (window._pyforest_update_imports_cell) { window._pyforest_update_imports_cell('import numpy as np\\nimport pandas as pd'); }\n",
       "    "
      ],
      "text/plain": [
       "<IPython.core.display.Javascript object>"
      ]
     },
     "metadata": {},
     "output_type": "display_data"
    },
    {
     "data": {
      "application/javascript": [
       "\n",
       "        if (window._pyforest_update_imports_cell) { window._pyforest_update_imports_cell('import numpy as np\\nimport pandas as pd'); }\n",
       "    "
      ],
      "text/plain": [
       "<IPython.core.display.Javascript object>"
      ]
     },
     "metadata": {},
     "output_type": "display_data"
    },
    {
     "data": {
      "application/javascript": [
       "\n",
       "        if (window._pyforest_update_imports_cell) { window._pyforest_update_imports_cell('import numpy as np\\nimport pandas as pd'); }\n",
       "    "
      ],
      "text/plain": [
       "<IPython.core.display.Javascript object>"
      ]
     },
     "metadata": {},
     "output_type": "display_data"
    },
    {
     "data": {
      "application/javascript": [
       "\n",
       "        if (window._pyforest_update_imports_cell) { window._pyforest_update_imports_cell('import numpy as np\\nimport pandas as pd'); }\n",
       "    "
      ],
      "text/plain": [
       "<IPython.core.display.Javascript object>"
      ]
     },
     "metadata": {},
     "output_type": "display_data"
    },
    {
     "data": {
      "application/javascript": [
       "\n",
       "        if (window._pyforest_update_imports_cell) { window._pyforest_update_imports_cell('import numpy as np\\nimport pandas as pd'); }\n",
       "    "
      ],
      "text/plain": [
       "<IPython.core.display.Javascript object>"
      ]
     },
     "metadata": {},
     "output_type": "display_data"
    },
    {
     "data": {
      "application/javascript": [
       "\n",
       "        if (window._pyforest_update_imports_cell) { window._pyforest_update_imports_cell('import numpy as np\\nimport pandas as pd'); }\n",
       "    "
      ],
      "text/plain": [
       "<IPython.core.display.Javascript object>"
      ]
     },
     "metadata": {},
     "output_type": "display_data"
    },
    {
     "data": {
      "application/javascript": [
       "\n",
       "        if (window._pyforest_update_imports_cell) { window._pyforest_update_imports_cell('import numpy as np\\nimport pandas as pd'); }\n",
       "    "
      ],
      "text/plain": [
       "<IPython.core.display.Javascript object>"
      ]
     },
     "metadata": {},
     "output_type": "display_data"
    },
    {
     "data": {
      "application/javascript": [
       "\n",
       "        if (window._pyforest_update_imports_cell) { window._pyforest_update_imports_cell('import numpy as np\\nimport pandas as pd'); }\n",
       "    "
      ],
      "text/plain": [
       "<IPython.core.display.Javascript object>"
      ]
     },
     "metadata": {},
     "output_type": "display_data"
    },
    {
     "data": {
      "application/javascript": [
       "\n",
       "        if (window._pyforest_update_imports_cell) { window._pyforest_update_imports_cell('import numpy as np\\nimport pandas as pd'); }\n",
       "    "
      ],
      "text/plain": [
       "<IPython.core.display.Javascript object>"
      ]
     },
     "metadata": {},
     "output_type": "display_data"
    },
    {
     "data": {
      "application/javascript": [
       "\n",
       "        if (window._pyforest_update_imports_cell) { window._pyforest_update_imports_cell('import numpy as np\\nimport pandas as pd'); }\n",
       "    "
      ],
      "text/plain": [
       "<IPython.core.display.Javascript object>"
      ]
     },
     "metadata": {},
     "output_type": "display_data"
    },
    {
     "data": {
      "application/javascript": [
       "\n",
       "        if (window._pyforest_update_imports_cell) { window._pyforest_update_imports_cell('import numpy as np\\nimport pandas as pd'); }\n",
       "    "
      ],
      "text/plain": [
       "<IPython.core.display.Javascript object>"
      ]
     },
     "metadata": {},
     "output_type": "display_data"
    },
    {
     "data": {
      "application/javascript": [
       "\n",
       "        if (window._pyforest_update_imports_cell) { window._pyforest_update_imports_cell('import numpy as np\\nimport pandas as pd'); }\n",
       "    "
      ],
      "text/plain": [
       "<IPython.core.display.Javascript object>"
      ]
     },
     "metadata": {},
     "output_type": "display_data"
    },
    {
     "data": {
      "application/javascript": [
       "\n",
       "        if (window._pyforest_update_imports_cell) { window._pyforest_update_imports_cell('import numpy as np\\nimport pandas as pd'); }\n",
       "    "
      ],
      "text/plain": [
       "<IPython.core.display.Javascript object>"
      ]
     },
     "metadata": {},
     "output_type": "display_data"
    },
    {
     "data": {
      "application/javascript": [
       "\n",
       "        if (window._pyforest_update_imports_cell) { window._pyforest_update_imports_cell('import numpy as np\\nimport pandas as pd'); }\n",
       "    "
      ],
      "text/plain": [
       "<IPython.core.display.Javascript object>"
      ]
     },
     "metadata": {},
     "output_type": "display_data"
    },
    {
     "data": {
      "application/javascript": [
       "\n",
       "        if (window._pyforest_update_imports_cell) { window._pyforest_update_imports_cell('import numpy as np\\nimport pandas as pd'); }\n",
       "    "
      ],
      "text/plain": [
       "<IPython.core.display.Javascript object>"
      ]
     },
     "metadata": {},
     "output_type": "display_data"
    },
    {
     "data": {
      "application/javascript": [
       "\n",
       "        if (window._pyforest_update_imports_cell) { window._pyforest_update_imports_cell('import numpy as np\\nimport pandas as pd'); }\n",
       "    "
      ],
      "text/plain": [
       "<IPython.core.display.Javascript object>"
      ]
     },
     "metadata": {},
     "output_type": "display_data"
    },
    {
     "data": {
      "application/javascript": [
       "\n",
       "        if (window._pyforest_update_imports_cell) { window._pyforest_update_imports_cell('import numpy as np\\nimport pandas as pd'); }\n",
       "    "
      ],
      "text/plain": [
       "<IPython.core.display.Javascript object>"
      ]
     },
     "metadata": {},
     "output_type": "display_data"
    },
    {
     "data": {
      "application/javascript": [
       "\n",
       "        if (window._pyforest_update_imports_cell) { window._pyforest_update_imports_cell('import numpy as np\\nimport pandas as pd'); }\n",
       "    "
      ],
      "text/plain": [
       "<IPython.core.display.Javascript object>"
      ]
     },
     "metadata": {},
     "output_type": "display_data"
    },
    {
     "data": {
      "application/javascript": [
       "\n",
       "        if (window._pyforest_update_imports_cell) { window._pyforest_update_imports_cell('import numpy as np\\nimport pandas as pd'); }\n",
       "    "
      ],
      "text/plain": [
       "<IPython.core.display.Javascript object>"
      ]
     },
     "metadata": {},
     "output_type": "display_data"
    },
    {
     "data": {
      "application/javascript": [
       "\n",
       "        if (window._pyforest_update_imports_cell) { window._pyforest_update_imports_cell('import numpy as np\\nimport pandas as pd'); }\n",
       "    "
      ],
      "text/plain": [
       "<IPython.core.display.Javascript object>"
      ]
     },
     "metadata": {},
     "output_type": "display_data"
    },
    {
     "data": {
      "application/javascript": [
       "\n",
       "        if (window._pyforest_update_imports_cell) { window._pyforest_update_imports_cell('import numpy as np\\nimport pandas as pd'); }\n",
       "    "
      ],
      "text/plain": [
       "<IPython.core.display.Javascript object>"
      ]
     },
     "metadata": {},
     "output_type": "display_data"
    },
    {
     "data": {
      "application/javascript": [
       "\n",
       "        if (window._pyforest_update_imports_cell) { window._pyforest_update_imports_cell('import numpy as np\\nimport pandas as pd'); }\n",
       "    "
      ],
      "text/plain": [
       "<IPython.core.display.Javascript object>"
      ]
     },
     "metadata": {},
     "output_type": "display_data"
    },
    {
     "data": {
      "application/javascript": [
       "\n",
       "        if (window._pyforest_update_imports_cell) { window._pyforest_update_imports_cell('import numpy as np\\nimport pandas as pd'); }\n",
       "    "
      ],
      "text/plain": [
       "<IPython.core.display.Javascript object>"
      ]
     },
     "metadata": {},
     "output_type": "display_data"
    },
    {
     "data": {
      "application/javascript": [
       "\n",
       "        if (window._pyforest_update_imports_cell) { window._pyforest_update_imports_cell('import numpy as np\\nimport pandas as pd'); }\n",
       "    "
      ],
      "text/plain": [
       "<IPython.core.display.Javascript object>"
      ]
     },
     "metadata": {},
     "output_type": "display_data"
    },
    {
     "data": {
      "application/javascript": [
       "\n",
       "        if (window._pyforest_update_imports_cell) { window._pyforest_update_imports_cell('import numpy as np\\nimport pandas as pd'); }\n",
       "    "
      ],
      "text/plain": [
       "<IPython.core.display.Javascript object>"
      ]
     },
     "metadata": {},
     "output_type": "display_data"
    },
    {
     "data": {
      "application/javascript": [
       "\n",
       "        if (window._pyforest_update_imports_cell) { window._pyforest_update_imports_cell('import numpy as np\\nimport pandas as pd'); }\n",
       "    "
      ],
      "text/plain": [
       "<IPython.core.display.Javascript object>"
      ]
     },
     "metadata": {},
     "output_type": "display_data"
    },
    {
     "data": {
      "application/javascript": [
       "\n",
       "        if (window._pyforest_update_imports_cell) { window._pyforest_update_imports_cell('import numpy as np\\nimport pandas as pd'); }\n",
       "    "
      ],
      "text/plain": [
       "<IPython.core.display.Javascript object>"
      ]
     },
     "metadata": {},
     "output_type": "display_data"
    },
    {
     "data": {
      "application/javascript": [
       "\n",
       "        if (window._pyforest_update_imports_cell) { window._pyforest_update_imports_cell('import numpy as np\\nimport pandas as pd'); }\n",
       "    "
      ],
      "text/plain": [
       "<IPython.core.display.Javascript object>"
      ]
     },
     "metadata": {},
     "output_type": "display_data"
    },
    {
     "name": "stdout",
     "output_type": "stream",
     "text": [
      "16.page scraped...\n"
     ]
    },
    {
     "data": {
      "application/javascript": [
       "\n",
       "        if (window._pyforest_update_imports_cell) { window._pyforest_update_imports_cell('import numpy as np\\nimport pandas as pd'); }\n",
       "    "
      ],
      "text/plain": [
       "<IPython.core.display.Javascript object>"
      ]
     },
     "metadata": {},
     "output_type": "display_data"
    },
    {
     "data": {
      "application/javascript": [
       "\n",
       "        if (window._pyforest_update_imports_cell) { window._pyforest_update_imports_cell('import numpy as np\\nimport pandas as pd'); }\n",
       "    "
      ],
      "text/plain": [
       "<IPython.core.display.Javascript object>"
      ]
     },
     "metadata": {},
     "output_type": "display_data"
    },
    {
     "data": {
      "application/javascript": [
       "\n",
       "        if (window._pyforest_update_imports_cell) { window._pyforest_update_imports_cell('import numpy as np\\nimport pandas as pd'); }\n",
       "    "
      ],
      "text/plain": [
       "<IPython.core.display.Javascript object>"
      ]
     },
     "metadata": {},
     "output_type": "display_data"
    },
    {
     "data": {
      "application/javascript": [
       "\n",
       "        if (window._pyforest_update_imports_cell) { window._pyforest_update_imports_cell('import numpy as np\\nimport pandas as pd'); }\n",
       "    "
      ],
      "text/plain": [
       "<IPython.core.display.Javascript object>"
      ]
     },
     "metadata": {},
     "output_type": "display_data"
    },
    {
     "data": {
      "application/javascript": [
       "\n",
       "        if (window._pyforest_update_imports_cell) { window._pyforest_update_imports_cell('import numpy as np\\nimport pandas as pd'); }\n",
       "    "
      ],
      "text/plain": [
       "<IPython.core.display.Javascript object>"
      ]
     },
     "metadata": {},
     "output_type": "display_data"
    },
    {
     "data": {
      "application/javascript": [
       "\n",
       "        if (window._pyforest_update_imports_cell) { window._pyforest_update_imports_cell('import numpy as np\\nimport pandas as pd'); }\n",
       "    "
      ],
      "text/plain": [
       "<IPython.core.display.Javascript object>"
      ]
     },
     "metadata": {},
     "output_type": "display_data"
    },
    {
     "data": {
      "application/javascript": [
       "\n",
       "        if (window._pyforest_update_imports_cell) { window._pyforest_update_imports_cell('import numpy as np\\nimport pandas as pd'); }\n",
       "    "
      ],
      "text/plain": [
       "<IPython.core.display.Javascript object>"
      ]
     },
     "metadata": {},
     "output_type": "display_data"
    },
    {
     "data": {
      "application/javascript": [
       "\n",
       "        if (window._pyforest_update_imports_cell) { window._pyforest_update_imports_cell('import numpy as np\\nimport pandas as pd'); }\n",
       "    "
      ],
      "text/plain": [
       "<IPython.core.display.Javascript object>"
      ]
     },
     "metadata": {},
     "output_type": "display_data"
    },
    {
     "data": {
      "application/javascript": [
       "\n",
       "        if (window._pyforest_update_imports_cell) { window._pyforest_update_imports_cell('import numpy as np\\nimport pandas as pd'); }\n",
       "    "
      ],
      "text/plain": [
       "<IPython.core.display.Javascript object>"
      ]
     },
     "metadata": {},
     "output_type": "display_data"
    },
    {
     "data": {
      "application/javascript": [
       "\n",
       "        if (window._pyforest_update_imports_cell) { window._pyforest_update_imports_cell('import numpy as np\\nimport pandas as pd'); }\n",
       "    "
      ],
      "text/plain": [
       "<IPython.core.display.Javascript object>"
      ]
     },
     "metadata": {},
     "output_type": "display_data"
    },
    {
     "data": {
      "application/javascript": [
       "\n",
       "        if (window._pyforest_update_imports_cell) { window._pyforest_update_imports_cell('import numpy as np\\nimport pandas as pd'); }\n",
       "    "
      ],
      "text/plain": [
       "<IPython.core.display.Javascript object>"
      ]
     },
     "metadata": {},
     "output_type": "display_data"
    },
    {
     "data": {
      "application/javascript": [
       "\n",
       "        if (window._pyforest_update_imports_cell) { window._pyforest_update_imports_cell('import numpy as np\\nimport pandas as pd'); }\n",
       "    "
      ],
      "text/plain": [
       "<IPython.core.display.Javascript object>"
      ]
     },
     "metadata": {},
     "output_type": "display_data"
    },
    {
     "name": "stdout",
     "output_type": "stream",
     "text": [
      "Scraping is over...\n"
     ]
    },
    {
     "data": {
      "application/javascript": [
       "\n",
       "        if (window._pyforest_update_imports_cell) { window._pyforest_update_imports_cell('import numpy as np\\nimport pandas as pd'); }\n",
       "    "
      ],
      "text/plain": [
       "<IPython.core.display.Javascript object>"
      ]
     },
     "metadata": {},
     "output_type": "display_data"
    },
    {
     "data": {
      "text/html": [
       "<div>\n",
       "<style scoped>\n",
       "    .dataframe tbody tr th:only-of-type {\n",
       "        vertical-align: middle;\n",
       "    }\n",
       "\n",
       "    .dataframe tbody tr th {\n",
       "        vertical-align: top;\n",
       "    }\n",
       "\n",
       "    .dataframe thead th {\n",
       "        text-align: right;\n",
       "    }\n",
       "</style>\n",
       "<table border=\"1\" class=\"dataframe\">\n",
       "  <thead>\n",
       "    <tr style=\"text-align: right;\">\n",
       "      <th></th>\n",
       "      <th>hotel_name</th>\n",
       "      <th>price(€)</th>\n",
       "      <th>rating</th>\n",
       "      <th>review_count</th>\n",
       "      <th>services</th>\n",
       "    </tr>\n",
       "  </thead>\n",
       "  <tbody>\n",
       "    <tr>\n",
       "      <th>0</th>\n",
       "      <td>Ankara HiltonSA</td>\n",
       "      <td>76</td>\n",
       "      <td>4</td>\n",
       "      <td>1.066</td>\n",
       "      <td>[Ücretsiz Wifi, Ücretsiz otopark]</td>\n",
       "    </tr>\n",
       "    <tr>\n",
       "      <th>1</th>\n",
       "      <td>Swissotel Ankara</td>\n",
       "      <td>76</td>\n",
       "      <td>4,5</td>\n",
       "      <td>727</td>\n",
       "      <td>[Ücretsiz Wifi, Ücretsiz otopark]</td>\n",
       "    </tr>\n",
       "    <tr>\n",
       "      <th>2</th>\n",
       "      <td>Radisson Blu Hotel</td>\n",
       "      <td>60</td>\n",
       "      <td>4</td>\n",
       "      <td>968</td>\n",
       "      <td>[Ücretsiz Wifi, Ücretsiz otopark]</td>\n",
       "    </tr>\n",
       "    <tr>\n",
       "      <th>3</th>\n",
       "      <td>Divan Çukurhan</td>\n",
       "      <td>63</td>\n",
       "      <td>4,5</td>\n",
       "      <td>365</td>\n",
       "      <td>[Ücretsiz Wifi, Ücretsiz otopark]</td>\n",
       "    </tr>\n",
       "    <tr>\n",
       "      <th>4</th>\n",
       "      <td>Holiday Inn Ankara - Çukurambar</td>\n",
       "      <td>81</td>\n",
       "      <td>4,5</td>\n",
       "      <td>267</td>\n",
       "      <td>[Ücretsiz Wifi, Ücretsiz otopark]</td>\n",
       "    </tr>\n",
       "    <tr>\n",
       "      <th>...</th>\n",
       "      <td>...</td>\n",
       "      <td>...</td>\n",
       "      <td>...</td>\n",
       "      <td>...</td>\n",
       "      <td>...</td>\n",
       "    </tr>\n",
       "    <tr>\n",
       "      <th>463</th>\n",
       "      <td>Deniz Tesis</td>\n",
       "      <td>NaN</td>\n",
       "      <td>NaN</td>\n",
       "      <td>0</td>\n",
       "      <td>[]</td>\n",
       "    </tr>\n",
       "    <tr>\n",
       "      <th>464</th>\n",
       "      <td>Heaven Hotel</td>\n",
       "      <td>NaN</td>\n",
       "      <td>NaN</td>\n",
       "      <td>0</td>\n",
       "      <td>[Ücretsiz Wifi, Oda servisi]</td>\n",
       "    </tr>\n",
       "    <tr>\n",
       "      <th>465</th>\n",
       "      <td>Atlas Hotel</td>\n",
       "      <td>NaN</td>\n",
       "      <td>NaN</td>\n",
       "      <td>0</td>\n",
       "      <td>[]</td>\n",
       "    </tr>\n",
       "    <tr>\n",
       "      <th>466</th>\n",
       "      <td>Park Residance Female Only</td>\n",
       "      <td>NaN</td>\n",
       "      <td>NaN</td>\n",
       "      <td>0</td>\n",
       "      <td>[]</td>\n",
       "    </tr>\n",
       "    <tr>\n",
       "      <th>467</th>\n",
       "      <td>Yurtpalas</td>\n",
       "      <td>NaN</td>\n",
       "      <td>NaN</td>\n",
       "      <td>0</td>\n",
       "      <td>[]</td>\n",
       "    </tr>\n",
       "  </tbody>\n",
       "</table>\n",
       "<p>468 rows × 5 columns</p>\n",
       "</div>"
      ],
      "text/plain": [
       "                          hotel_name price(€) rating review_count  \\\n",
       "0                    Ankara HiltonSA       76      4        1.066   \n",
       "1                   Swissotel Ankara       76    4,5          727   \n",
       "2                 Radisson Blu Hotel       60      4          968   \n",
       "3                     Divan Çukurhan       63    4,5          365   \n",
       "4    Holiday Inn Ankara - Çukurambar       81    4,5          267   \n",
       "..                               ...      ...    ...          ...   \n",
       "463                      Deniz Tesis      NaN    NaN            0   \n",
       "464                     Heaven Hotel      NaN    NaN            0   \n",
       "465                      Atlas Hotel      NaN    NaN            0   \n",
       "466       Park Residance Female Only      NaN    NaN            0   \n",
       "467                        Yurtpalas      NaN    NaN            0   \n",
       "\n",
       "                              services  \n",
       "0    [Ücretsiz Wifi, Ücretsiz otopark]  \n",
       "1    [Ücretsiz Wifi, Ücretsiz otopark]  \n",
       "2    [Ücretsiz Wifi, Ücretsiz otopark]  \n",
       "3    [Ücretsiz Wifi, Ücretsiz otopark]  \n",
       "4    [Ücretsiz Wifi, Ücretsiz otopark]  \n",
       "..                                 ...  \n",
       "463                                 []  \n",
       "464       [Ücretsiz Wifi, Oda servisi]  \n",
       "465                                 []  \n",
       "466                                 []  \n",
       "467                                 []  \n",
       "\n",
       "[468 rows x 5 columns]"
      ]
     },
     "metadata": {},
     "output_type": "display_data"
    }
   ],
   "source": [
    "import requests\n",
    "from bs4 import BeautifulSoup\n",
    "import html5lib\n",
    "\n",
    "url_part1 = \"https://www.tripadvisor.com.tr/Hotels-g298656-oa\"\n",
    "url_part2 = \"-Ankara-Hotels.html\"\n",
    "\n",
    "hotel_name, price, rating, review_count, services = [],[],[],[],[]\n",
    "\n",
    "for i in range(0,451,30):\n",
    "    html=requests.get(url_part1+str(i)+url_part2).content\n",
    "    soup=BeautifulSoup(html,\"html5lib\")\n",
    "    print(f\"{i//30+1}.page scraped...\")\n",
    "\n",
    "    List =soup.find_all('div',{'class':'prw_rup prw_meta_hsx_responsive_listing ui_section listItem'})\n",
    "    for i in List:\n",
    "        if i.find('a',{\"class\":\"property_title prominent\"}) != None:\n",
    "            hotel_name.append(i.find('a',{\"class\":\"property_title prominent\"}).text.strip())\n",
    "        else:\n",
    "            hotel_name.append(np.nan)\n",
    "            \n",
    "        if i.find('div',{'class' : \"price-wrap\"}) != None:\n",
    "            price.append(i.find('div',{'class' : \"price-wrap\"}).text.strip().split('€')[-1])\n",
    "        else:\n",
    "            price.append(np.nan)\n",
    "        \n",
    "        if i.find('a',{'data-clicksource' : \"BubbleRating\"})!=None:\n",
    "            rating.append(i.find('a',{'data-clicksource' : \"BubbleRating\"}).get('alt').split('\\xa0')[-1])\n",
    "        else:\n",
    "            rating.append(np.nan)\n",
    "        \n",
    "        if i.find('a',{'class' : \"review_count\"}) != None:\n",
    "            review_count.append(i.find('a',{'class' : \"review_count\"}).text.strip(\" yorum\"))\n",
    "        else:\n",
    "            review_count.append(np.nan)\n",
    "            \n",
    "        if i.find('ul', {\"class\":'icons_list easyClear vertical'}) != None:\n",
    "            services_tags = i.find('ul', {\"class\":'icons_list easyClear vertical'}).find_all(\"span\", {'class':'text'})\n",
    "            services.append([j.text.strip() for j in services_tags])\n",
    "        else:\n",
    "            services.append(np.nan)\n",
    "\n",
    "print('Scraping is over...')\n",
    "\n",
    "keys=['hotel_name', 'price(€)', 'rating', 'review_count', 'services']\n",
    "values=[hotel_name, price, rating, review_count, services]\n",
    "dictionary = dict(zip(keys, values))\n",
    "df_tripadvisor = pd.DataFrame.from_dict(dictionary)\n",
    "display(df_tripadvisor)"
   ]
  },
  {
   "cell_type": "markdown",
   "id": "b0153449",
   "metadata": {},
   "source": [
    "# kitapyurdu\n",
    "https://www.kitapyurdu.com/index.php?route=product/category&filter_category_all=true&path=1&filter_in_stock=1&sort=p.sort_order&order=ASC&limit=100&page=1\n"
   ]
  },
  {
   "cell_type": "code",
   "execution_count": null,
   "id": "50ffae3b",
   "metadata": {},
   "outputs": [],
   "source": [
    "import requests\n",
    "from bs4 import BeautifulSoup\n",
    "import html5lib\n",
    "\n",
    "url= \"https://www.kitapyurdu.com/index.php?route=product/category&filter_category_all=true&path=1&filter_in_stock=1&sort=p.sort_order&order=ASC&limit=100&page=1\"\n",
    "\n",
    "hotel_name, price, rating, review_count, services = [],[],[],[],[]\n",
    "\n",
    "for page in range(1,51):\n",
    "    html=requests.get(url + str(page)).content\n",
    "    soup=BeautifulSoup(html,\"html5lib\")\n",
    "    print(re.search(r'\\d{1,2}', soup.title.text).group(),end=' - ')\n",
    "\n",
    "    List =soup.find_all('tr',{'class':'listing-list-item pr should-hover bg-white'})\n",
    "\n",
    "    model, title, year, price, date, province, county =[],[],[],[],[],[],[]\n",
    "    for i in List:\n",
    "        model.append(i.find('td',{\"class\":\"listing-modelname pr\"}).text.strip()) \n",
    "        title.append(i.find('td',{'class' : \"horizontal-half-padder-minus pr\"}).text.strip())\n",
    "        year.append(i.find('td',{'class' : \"listing-text pl8 pr8 tac pr\"}).text.strip())\n",
    "        price.append(i.find('td',{'class' : \"pl8 pr8 tac pr\"}).text.strip())\n",
    "        date.append(i.find('td',{'class' : \"listing-text tac pr\"}).text.strip())\n",
    "        province.append(i.find('div',{'class' : \"pr\"}).find('a').find_all('span')[0].text.strip())\n",
    "        county.append(i.find('div',{'class' : \"pr\"}).find('a').find_all('span')[1].text.strip())\n",
    " \n",
    "#         show=f'''Model\\t\\t: {model[-1]}\n",
    "# Title\\t\\t: {title[-1]}\n",
    "# Year\\t\\t: {year[-1]}\n",
    "# Price\\t\\t: {price[-1]}\n",
    "# Date\\t\\t: {date[-1]}\n",
    "# Location\\t: {province[-1]}/{county[-1]}'''\n",
    "#         print(show)\n",
    "#         print(70*\"*\")\n",
    "\n",
    "print(f'\\n{\"Scraping is over...\".upper()}')\n",
    "\n",
    "keys=['model', 'title', 'year', 'price', 'date', 'province', 'county']\n",
    "values=[model, title, year, price, date, province, county]\n",
    "dictionary = dict(zip(keys, values))\n",
    "df_arabam = pd.DataFrame.from_dict(dictionary)\n",
    "display(df)"
   ]
  }
 ],
 "metadata": {
  "kernelspec": {
   "display_name": "Python 3",
   "language": "python",
   "name": "python3"
  },
  "language_info": {
   "codemirror_mode": {
    "name": "ipython",
    "version": 3
   },
   "file_extension": ".py",
   "mimetype": "text/x-python",
   "name": "python",
   "nbconvert_exporter": "python",
   "pygments_lexer": "ipython3",
   "version": "3.8.5"
  }
 },
 "nbformat": 4,
 "nbformat_minor": 5
}

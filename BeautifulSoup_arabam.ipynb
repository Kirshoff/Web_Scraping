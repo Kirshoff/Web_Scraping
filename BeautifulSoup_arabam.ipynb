{
  "nbformat": 4,
  "nbformat_minor": 0,
  "metadata": {
    "kernelspec": {
      "display_name": "Python 3",
      "language": "python",
      "name": "python3"
    },
    "language_info": {
      "codemirror_mode": {
        "name": "ipython",
        "version": 3
      },
      "file_extension": ".py",
      "mimetype": "text/x-python",
      "name": "python",
      "nbconvert_exporter": "python",
      "pygments_lexer": "ipython3",
      "version": "3.8.5"
    },
    "colab": {
      "name": "web_scrabing_arabam.ipynb",
      "provenance": [],
      "collapsed_sections": [],
      "toc_visible": true
    }
  },
  "cells": [
    {
      "cell_type": "markdown",
      "metadata": {
        "id": "IH_ZatfZR-c1"
      },
      "source": [
        "# Web Scraping"
      ]
    },
    {
      "cell_type": "code",
      "metadata": {
        "id": "a_VFCGYTR-c7"
      },
      "source": [
        "import requests\n",
        "from bs4 import BeautifulSoup\n",
        "import html5lib\n",
        "import pandas as pd\n",
        "import numpy as np"
      ],
      "execution_count": null,
      "outputs": []
    },
    {
      "cell_type": "code",
      "metadata": {
        "scrolled": true,
        "id": "VSY9iIszR-c9"
      },
      "source": [
        "url=requests.get('https://www.arabam.com/')\n",
        "# print(url.text)"
      ],
      "execution_count": null,
      "outputs": []
    },
    {
      "cell_type": "code",
      "metadata": {
        "colab": {
          "base_uri": "https://localhost:8080/"
        },
        "id": "cRPKy7ARR-c9",
        "outputId": "3589b48b-f2f2-4935-ba33-29989f5f059d"
      },
      "source": [
        "soup=BeautifulSoup(url.content,\"html5lib\")\n",
        "print(soup.title.text)"
      ],
      "execution_count": null,
      "outputs": [
        {
          "output_type": "stream",
          "text": [
            "arabam.com: 2. El ve 0 Km Satılık Araç İlanları Platformu\n"
          ],
          "name": "stdout"
        }
      ]
    },
    {
      "cell_type": "code",
      "metadata": {
        "id": "s3mG-oZkR-c-"
      },
      "source": [
        "List =soup.find_all('div',{'class':'col-lg-2 col-md-3 col-xs-6'})"
      ],
      "execution_count": 77,
      "outputs": []
    },
    {
      "cell_type": "code",
      "metadata": {
        "id": "6PJ5BCLCR7j6"
      },
      "source": [
        "city,year,model,price=[],[],[],[]"
      ],
      "execution_count": 98,
      "outputs": []
    },
    {
      "cell_type": "code",
      "metadata": {
        "id": "P_bBLGgLRsuB"
      },
      "source": [
        "for i in List:\n",
        "  if i.find('p',{'class':\"model-city\"})!=None:\n",
        "    city.append(i.find('p',{'class':\"model-city\"}).text)\n",
        "  if i.find('p',{'class':\"model-year\"})!=None:\n",
        "    year.append(i.find('p',{'class':\"model-year\"}).text)\n",
        "  if i.find('h4',{'class':\"model-name\"})!=None:\n",
        "    model.append(i.find('h4',{'class':\"model-name\"}).text)\n",
        "  if i.find('div',{'class':\"price\"})!=None:\n",
        "    price.append(i.find('div',{'class':\"price\"}).text)"
      ],
      "execution_count": 99,
      "outputs": []
    },
    {
      "cell_type": "code",
      "metadata": {
        "colab": {
          "base_uri": "https://localhost:8080/",
          "height": 516
        },
        "id": "oJVyuA2WR-c-",
        "outputId": "e26c9d7c-f2df-4126-d3b2-f3838c572d8c"
      },
      "source": [
        "keys=['model','year','city','price']\n",
        "values=[model,year,city,price]\n",
        "dictionary = dict(zip(keys, values))\n",
        "\n",
        "df = pd.DataFrame.from_dict(dictionary)\n",
        "df"
      ],
      "execution_count": 100,
      "outputs": [
        {
          "output_type": "execute_result",
          "data": {
            "text/html": [
              "<div>\n",
              "<style scoped>\n",
              "    .dataframe tbody tr th:only-of-type {\n",
              "        vertical-align: middle;\n",
              "    }\n",
              "\n",
              "    .dataframe tbody tr th {\n",
              "        vertical-align: top;\n",
              "    }\n",
              "\n",
              "    .dataframe thead th {\n",
              "        text-align: right;\n",
              "    }\n",
              "</style>\n",
              "<table border=\"1\" class=\"dataframe\">\n",
              "  <thead>\n",
              "    <tr style=\"text-align: right;\">\n",
              "      <th></th>\n",
              "      <th>model</th>\n",
              "      <th>year</th>\n",
              "      <th>city</th>\n",
              "      <th>price</th>\n",
              "    </tr>\n",
              "  </thead>\n",
              "  <tbody>\n",
              "    <tr>\n",
              "      <th>0</th>\n",
              "      <td>BMW 2 Serisi 216d Gran Coupe Firs...</td>\n",
              "      <td>2020</td>\n",
              "      <td>İstanbul</td>\n",
              "      <td>490.553 TL</td>\n",
              "    </tr>\n",
              "    <tr>\n",
              "      <th>1</th>\n",
              "      <td>Volkswagen Tiguan 1.4 TSI Comfort...</td>\n",
              "      <td>2016</td>\n",
              "      <td>Konya</td>\n",
              "      <td>282.000 TL</td>\n",
              "    </tr>\n",
              "    <tr>\n",
              "      <th>2</th>\n",
              "      <td>Mazda 626 2.0 GLX</td>\n",
              "      <td>1998</td>\n",
              "      <td>Düzce</td>\n",
              "      <td>56.750 TL</td>\n",
              "    </tr>\n",
              "    <tr>\n",
              "      <th>3</th>\n",
              "      <td>Dacia Dokker 1.5 DCi Stepway</td>\n",
              "      <td>2017</td>\n",
              "      <td>Muğla</td>\n",
              "      <td>124.500 TL</td>\n",
              "    </tr>\n",
              "    <tr>\n",
              "      <th>4</th>\n",
              "      <td>Volkswagen Polo 1.2 TSi Comfortli...</td>\n",
              "      <td>2016</td>\n",
              "      <td>İzmir</td>\n",
              "      <td>169.000 TL</td>\n",
              "    </tr>\n",
              "    <tr>\n",
              "      <th>5</th>\n",
              "      <td>Volkswagen Passat 1.4 TSi BlueMot...</td>\n",
              "      <td>2017</td>\n",
              "      <td>İstanbul</td>\n",
              "      <td>265.000 TL</td>\n",
              "    </tr>\n",
              "    <tr>\n",
              "      <th>6</th>\n",
              "      <td>Volkswagen Scirocco 1.4 TSi Sport...</td>\n",
              "      <td>2015</td>\n",
              "      <td>Yozgat</td>\n",
              "      <td>242.500 TL</td>\n",
              "    </tr>\n",
              "    <tr>\n",
              "      <th>7</th>\n",
              "      <td>Renault Megane 1.6 Dynamique</td>\n",
              "      <td>2005</td>\n",
              "      <td>Aydın</td>\n",
              "      <td>80.000 TL</td>\n",
              "    </tr>\n",
              "    <tr>\n",
              "      <th>8</th>\n",
              "      <td>Mazda 626 2.0 GLX</td>\n",
              "      <td>1994</td>\n",
              "      <td>Düzce</td>\n",
              "      <td>57.500 TL</td>\n",
              "    </tr>\n",
              "    <tr>\n",
              "      <th>9</th>\n",
              "      <td>Volkswagen Amarok 2.0 BITDI Highl...</td>\n",
              "      <td>2017</td>\n",
              "      <td>Ordu</td>\n",
              "      <td>342.000 TL</td>\n",
              "    </tr>\n",
              "    <tr>\n",
              "      <th>10</th>\n",
              "      <td>Renault Kadjar 1.5 dCi Icon</td>\n",
              "      <td>2015</td>\n",
              "      <td>Ankara</td>\n",
              "      <td>230.000 TL</td>\n",
              "    </tr>\n",
              "    <tr>\n",
              "      <th>11</th>\n",
              "      <td>Rover 45 1.6 Classic</td>\n",
              "      <td>2004</td>\n",
              "      <td>Mersin</td>\n",
              "      <td>47.000 TL</td>\n",
              "    </tr>\n",
              "    <tr>\n",
              "      <th>12</th>\n",
              "      <td>Mitsubishi L 200 4x2 Storm</td>\n",
              "      <td>2015</td>\n",
              "      <td>Denizli</td>\n",
              "      <td>185.000 TL</td>\n",
              "    </tr>\n",
              "    <tr>\n",
              "      <th>13</th>\n",
              "      <td>Audi A3 Sedan 1.4 TFSI Attraction</td>\n",
              "      <td>2013</td>\n",
              "      <td>İstanbul</td>\n",
              "      <td>262.000 TL</td>\n",
              "    </tr>\n",
              "    <tr>\n",
              "      <th>14</th>\n",
              "      <td>BMW 5 Serisi 525d xDrive Comfort</td>\n",
              "      <td>2012</td>\n",
              "      <td>İstanbul</td>\n",
              "      <td>412.500 TL</td>\n",
              "    </tr>\n",
              "    <tr>\n",
              "      <th>15</th>\n",
              "      <td>Ford Focus 1.5 TDCi Trend X</td>\n",
              "      <td>2018</td>\n",
              "      <td>Denizli</td>\n",
              "      <td>205.000 TL</td>\n",
              "    </tr>\n",
              "  </tbody>\n",
              "</table>\n",
              "</div>"
            ],
            "text/plain": [
              "                                      model  year      city       price\n",
              "0    BMW 2 Serisi 216d Gran Coupe Firs...    2020  İstanbul  490.553 TL\n",
              "1    Volkswagen Tiguan 1.4 TSI Comfort...    2016     Konya  282.000 TL\n",
              "2                        Mazda 626 2.0 GLX   1998     Düzce   56.750 TL\n",
              "3             Dacia Dokker 1.5 DCi Stepway   2017     Muğla  124.500 TL\n",
              "4    Volkswagen Polo 1.2 TSi Comfortli...    2016     İzmir  169.000 TL\n",
              "5    Volkswagen Passat 1.4 TSi BlueMot...    2017  İstanbul  265.000 TL\n",
              "6    Volkswagen Scirocco 1.4 TSi Sport...    2015    Yozgat  242.500 TL\n",
              "7             Renault Megane 1.6 Dynamique   2005     Aydın   80.000 TL\n",
              "8                        Mazda 626 2.0 GLX   1994     Düzce   57.500 TL\n",
              "9    Volkswagen Amarok 2.0 BITDI Highl...    2017      Ordu  342.000 TL\n",
              "10             Renault Kadjar 1.5 dCi Icon   2015    Ankara  230.000 TL\n",
              "11                    Rover 45 1.6 Classic   2004    Mersin   47.000 TL\n",
              "12              Mitsubishi L 200 4x2 Storm   2015   Denizli  185.000 TL\n",
              "13       Audi A3 Sedan 1.4 TFSI Attraction   2013  İstanbul  262.000 TL\n",
              "14        BMW 5 Serisi 525d xDrive Comfort   2012  İstanbul  412.500 TL\n",
              "15             Ford Focus 1.5 TDCi Trend X   2018   Denizli  205.000 TL"
            ]
          },
          "metadata": {
            "tags": []
          },
          "execution_count": 100
        }
      ]
    },
    {
      "cell_type": "markdown",
      "metadata": {
        "id": "fxhawD0-R-c_"
      },
      "source": [
        "## Data Cleaning and Feature Engineering"
      ]
    },
    {
      "cell_type": "code",
      "metadata": {
        "colab": {
          "base_uri": "https://localhost:8080/",
          "height": 516
        },
        "id": "7_vozz1BR-c_",
        "outputId": "f6d921a3-2cea-43dc-82a6-7bb5ce3bb4f3"
      },
      "source": [
        "df"
      ],
      "execution_count": 106,
      "outputs": [
        {
          "output_type": "execute_result",
          "data": {
            "text/html": [
              "<div>\n",
              "<style scoped>\n",
              "    .dataframe tbody tr th:only-of-type {\n",
              "        vertical-align: middle;\n",
              "    }\n",
              "\n",
              "    .dataframe tbody tr th {\n",
              "        vertical-align: top;\n",
              "    }\n",
              "\n",
              "    .dataframe thead th {\n",
              "        text-align: right;\n",
              "    }\n",
              "</style>\n",
              "<table border=\"1\" class=\"dataframe\">\n",
              "  <thead>\n",
              "    <tr style=\"text-align: right;\">\n",
              "      <th></th>\n",
              "      <th>model</th>\n",
              "      <th>year</th>\n",
              "      <th>city</th>\n",
              "      <th>price</th>\n",
              "    </tr>\n",
              "  </thead>\n",
              "  <tbody>\n",
              "    <tr>\n",
              "      <th>0</th>\n",
              "      <td>BMW 2 Serisi 216d Gran Coupe Firs...</td>\n",
              "      <td>2020</td>\n",
              "      <td>İstanbul</td>\n",
              "      <td>490.553</td>\n",
              "    </tr>\n",
              "    <tr>\n",
              "      <th>1</th>\n",
              "      <td>Volkswagen Tiguan 1.4 TSI Comfort...</td>\n",
              "      <td>2016</td>\n",
              "      <td>Konya</td>\n",
              "      <td>282.000</td>\n",
              "    </tr>\n",
              "    <tr>\n",
              "      <th>2</th>\n",
              "      <td>Mazda 626 2.0 GLX</td>\n",
              "      <td>1998</td>\n",
              "      <td>Düzce</td>\n",
              "      <td>56.750</td>\n",
              "    </tr>\n",
              "    <tr>\n",
              "      <th>3</th>\n",
              "      <td>Dacia Dokker 1.5 DCi Stepway</td>\n",
              "      <td>2017</td>\n",
              "      <td>Muğla</td>\n",
              "      <td>124.500</td>\n",
              "    </tr>\n",
              "    <tr>\n",
              "      <th>4</th>\n",
              "      <td>Volkswagen Polo 1.2 TSi Comfortli...</td>\n",
              "      <td>2016</td>\n",
              "      <td>İzmir</td>\n",
              "      <td>169.000</td>\n",
              "    </tr>\n",
              "    <tr>\n",
              "      <th>5</th>\n",
              "      <td>Volkswagen Passat 1.4 TSi BlueMot...</td>\n",
              "      <td>2017</td>\n",
              "      <td>İstanbul</td>\n",
              "      <td>265.000</td>\n",
              "    </tr>\n",
              "    <tr>\n",
              "      <th>6</th>\n",
              "      <td>Volkswagen Scirocco 1.4 TSi Sport...</td>\n",
              "      <td>2015</td>\n",
              "      <td>Yozgat</td>\n",
              "      <td>242.500</td>\n",
              "    </tr>\n",
              "    <tr>\n",
              "      <th>7</th>\n",
              "      <td>Renault Megane 1.6 Dynamique</td>\n",
              "      <td>2005</td>\n",
              "      <td>Aydın</td>\n",
              "      <td>80.000</td>\n",
              "    </tr>\n",
              "    <tr>\n",
              "      <th>8</th>\n",
              "      <td>Mazda 626 2.0 GLX</td>\n",
              "      <td>1994</td>\n",
              "      <td>Düzce</td>\n",
              "      <td>57.500</td>\n",
              "    </tr>\n",
              "    <tr>\n",
              "      <th>9</th>\n",
              "      <td>Volkswagen Amarok 2.0 BITDI Highl...</td>\n",
              "      <td>2017</td>\n",
              "      <td>Ordu</td>\n",
              "      <td>342.000</td>\n",
              "    </tr>\n",
              "    <tr>\n",
              "      <th>10</th>\n",
              "      <td>Renault Kadjar 1.5 dCi Icon</td>\n",
              "      <td>2015</td>\n",
              "      <td>Ankara</td>\n",
              "      <td>230.000</td>\n",
              "    </tr>\n",
              "    <tr>\n",
              "      <th>11</th>\n",
              "      <td>Rover 45 1.6 Classic</td>\n",
              "      <td>2004</td>\n",
              "      <td>Mersin</td>\n",
              "      <td>47.000</td>\n",
              "    </tr>\n",
              "    <tr>\n",
              "      <th>12</th>\n",
              "      <td>Mitsubishi L 200 4x2 Storm</td>\n",
              "      <td>2015</td>\n",
              "      <td>Denizli</td>\n",
              "      <td>185.000</td>\n",
              "    </tr>\n",
              "    <tr>\n",
              "      <th>13</th>\n",
              "      <td>Audi A3 Sedan 1.4 TFSI Attraction</td>\n",
              "      <td>2013</td>\n",
              "      <td>İstanbul</td>\n",
              "      <td>262.000</td>\n",
              "    </tr>\n",
              "    <tr>\n",
              "      <th>14</th>\n",
              "      <td>BMW 5 Serisi 525d xDrive Comfort</td>\n",
              "      <td>2012</td>\n",
              "      <td>İstanbul</td>\n",
              "      <td>412.500</td>\n",
              "    </tr>\n",
              "    <tr>\n",
              "      <th>15</th>\n",
              "      <td>Ford Focus 1.5 TDCi Trend X</td>\n",
              "      <td>2018</td>\n",
              "      <td>Denizli</td>\n",
              "      <td>205.000</td>\n",
              "    </tr>\n",
              "  </tbody>\n",
              "</table>\n",
              "</div>"
            ],
            "text/plain": [
              "                                      model  year      city    price\n",
              "0    BMW 2 Serisi 216d Gran Coupe Firs...    2020  İstanbul  490.553\n",
              "1    Volkswagen Tiguan 1.4 TSI Comfort...    2016     Konya  282.000\n",
              "2                        Mazda 626 2.0 GLX   1998     Düzce   56.750\n",
              "3             Dacia Dokker 1.5 DCi Stepway   2017     Muğla  124.500\n",
              "4    Volkswagen Polo 1.2 TSi Comfortli...    2016     İzmir  169.000\n",
              "5    Volkswagen Passat 1.4 TSi BlueMot...    2017  İstanbul  265.000\n",
              "6    Volkswagen Scirocco 1.4 TSi Sport...    2015    Yozgat  242.500\n",
              "7             Renault Megane 1.6 Dynamique   2005     Aydın   80.000\n",
              "8                        Mazda 626 2.0 GLX   1994     Düzce   57.500\n",
              "9    Volkswagen Amarok 2.0 BITDI Highl...    2017      Ordu  342.000\n",
              "10             Renault Kadjar 1.5 dCi Icon   2015    Ankara  230.000\n",
              "11                    Rover 45 1.6 Classic   2004    Mersin   47.000\n",
              "12              Mitsubishi L 200 4x2 Storm   2015   Denizli  185.000\n",
              "13       Audi A3 Sedan 1.4 TFSI Attraction   2013  İstanbul  262.000\n",
              "14        BMW 5 Serisi 525d xDrive Comfort   2012  İstanbul  412.500\n",
              "15             Ford Focus 1.5 TDCi Trend X   2018   Denizli  205.000"
            ]
          },
          "metadata": {
            "tags": []
          },
          "execution_count": 106
        }
      ]
    },
    {
      "cell_type": "code",
      "metadata": {
        "id": "0Gg85QKPR-dA"
      },
      "source": [
        "df['price']=df['price'].apply(lambda x:x.rstrip(' TL').strip())\n",
        "# df['actors']=df['dir_actors'].str.split(',').apply(lambda x:[i.strip() for i in x[1:]])"
      ],
      "execution_count": 101,
      "outputs": []
    },
    {
      "cell_type": "code",
      "metadata": {
        "id": "QLFlVyijR-c_"
      },
      "source": [
        "df.year=df.year.astype(int)\n",
        "df.price=df.price.astype(float)"
      ],
      "execution_count": 108,
      "outputs": []
    },
    {
      "cell_type": "code",
      "metadata": {
        "colab": {
          "base_uri": "https://localhost:8080/",
          "height": 194
        },
        "id": "Of5OKnk7dbX6",
        "outputId": "ee69a1ff-6cda-463d-fb01-a18e1d8fe9d2"
      },
      "source": [
        "df.head()"
      ],
      "execution_count": 109,
      "outputs": [
        {
          "output_type": "execute_result",
          "data": {
            "text/html": [
              "<div>\n",
              "<style scoped>\n",
              "    .dataframe tbody tr th:only-of-type {\n",
              "        vertical-align: middle;\n",
              "    }\n",
              "\n",
              "    .dataframe tbody tr th {\n",
              "        vertical-align: top;\n",
              "    }\n",
              "\n",
              "    .dataframe thead th {\n",
              "        text-align: right;\n",
              "    }\n",
              "</style>\n",
              "<table border=\"1\" class=\"dataframe\">\n",
              "  <thead>\n",
              "    <tr style=\"text-align: right;\">\n",
              "      <th></th>\n",
              "      <th>model</th>\n",
              "      <th>year</th>\n",
              "      <th>city</th>\n",
              "      <th>price</th>\n",
              "    </tr>\n",
              "  </thead>\n",
              "  <tbody>\n",
              "    <tr>\n",
              "      <th>0</th>\n",
              "      <td>BMW 2 Serisi 216d Gran Coupe Firs...</td>\n",
              "      <td>2020</td>\n",
              "      <td>İstanbul</td>\n",
              "      <td>490.553</td>\n",
              "    </tr>\n",
              "    <tr>\n",
              "      <th>1</th>\n",
              "      <td>Volkswagen Tiguan 1.4 TSI Comfort...</td>\n",
              "      <td>2016</td>\n",
              "      <td>Konya</td>\n",
              "      <td>282.000</td>\n",
              "    </tr>\n",
              "    <tr>\n",
              "      <th>2</th>\n",
              "      <td>Mazda 626 2.0 GLX</td>\n",
              "      <td>1998</td>\n",
              "      <td>Düzce</td>\n",
              "      <td>56.750</td>\n",
              "    </tr>\n",
              "    <tr>\n",
              "      <th>3</th>\n",
              "      <td>Dacia Dokker 1.5 DCi Stepway</td>\n",
              "      <td>2017</td>\n",
              "      <td>Muğla</td>\n",
              "      <td>124.500</td>\n",
              "    </tr>\n",
              "    <tr>\n",
              "      <th>4</th>\n",
              "      <td>Volkswagen Polo 1.2 TSi Comfortli...</td>\n",
              "      <td>2016</td>\n",
              "      <td>İzmir</td>\n",
              "      <td>169.000</td>\n",
              "    </tr>\n",
              "  </tbody>\n",
              "</table>\n",
              "</div>"
            ],
            "text/plain": [
              "                                     model  year      city    price\n",
              "0   BMW 2 Serisi 216d Gran Coupe Firs...    2020  İstanbul  490.553\n",
              "1   Volkswagen Tiguan 1.4 TSI Comfort...    2016     Konya  282.000\n",
              "2                       Mazda 626 2.0 GLX   1998     Düzce   56.750\n",
              "3            Dacia Dokker 1.5 DCi Stepway   2017     Muğla  124.500\n",
              "4   Volkswagen Polo 1.2 TSi Comfortli...    2016     İzmir  169.000"
            ]
          },
          "metadata": {
            "tags": []
          },
          "execution_count": 109
        }
      ]
    },
    {
      "cell_type": "code",
      "metadata": {
        "colab": {
          "base_uri": "https://localhost:8080/"
        },
        "id": "1cbWsuXVdcXR",
        "outputId": "765c853e-8059-47e6-f3f1-1dee9192c73b"
      },
      "source": [
        "df.info()"
      ],
      "execution_count": 110,
      "outputs": [
        {
          "output_type": "stream",
          "text": [
            "<class 'pandas.core.frame.DataFrame'>\n",
            "RangeIndex: 16 entries, 0 to 15\n",
            "Data columns (total 4 columns):\n",
            " #   Column  Non-Null Count  Dtype  \n",
            "---  ------  --------------  -----  \n",
            " 0   model   16 non-null     object \n",
            " 1   year    16 non-null     int64  \n",
            " 2   city    16 non-null     object \n",
            " 3   price   16 non-null     float64\n",
            "dtypes: float64(1), int64(1), object(2)\n",
            "memory usage: 640.0+ bytes\n"
          ],
          "name": "stdout"
        }
      ]
    },
    {
      "cell_type": "code",
      "metadata": {
        "id": "uRIIgqHAdigR"
      },
      "source": [
        "df.to_csv('cars.csv', index=False,sep=';',float_format='%.1f')"
      ],
      "execution_count": 111,
      "outputs": []
    },
    {
      "cell_type": "code",
      "metadata": {
        "id": "2Ueb82hZYiRB"
      },
      "source": [
        ""
      ],
      "execution_count": null,
      "outputs": []
    }
  ]
}